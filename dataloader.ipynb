{
 "cells": [
  {
   "cell_type": "code",
   "execution_count": 424,
   "id": "f66227f1",
   "metadata": {
    "ExecuteTime": {
     "end_time": "2023-04-14T08:45:07.373846Z",
     "start_time": "2023-04-14T08:45:07.371039Z"
    }
   },
   "outputs": [],
   "source": [
    "import pandas as pd\n",
    "import json\n",
    "import requests\n",
    "from PIL import Image\n",
    "import os\n",
    "import time\n",
    "from io import BytesIO\n",
    "from tqdm import tqdm"
   ]
  },
  {
   "cell_type": "markdown",
   "id": "886075d3",
   "metadata": {
    "ExecuteTime": {
     "end_time": "2023-04-14T06:50:19.647877Z",
     "start_time": "2023-04-14T06:50:19.644757Z"
    }
   },
   "source": [
    "1. Read the csv of key artworks\n",
    "2. Keep only data fields of interest\n",
    "3. Save as a Python dataframe"
   ]
  },
  {
   "cell_type": "code",
   "execution_count": 425,
   "id": "41c042ec",
   "metadata": {
    "ExecuteTime": {
     "end_time": "2023-04-14T08:45:07.380051Z",
     "start_time": "2023-04-14T08:45:07.375683Z"
    }
   },
   "outputs": [],
   "source": [
    "df = pd.read_csv('raw_data/artic-api-data/getting-started/someArtworks.csv')"
   ]
  },
  {
   "cell_type": "code",
   "execution_count": 426,
   "id": "ac7a4292",
   "metadata": {
    "ExecuteTime": {
     "end_time": "2023-04-14T08:45:07.388668Z",
     "start_time": "2023-04-14T08:45:07.381641Z"
    }
   },
   "outputs": [
    {
     "data": {
      "text/html": [
       "<div>\n",
       "<style scoped>\n",
       "    .dataframe tbody tr th:only-of-type {\n",
       "        vertical-align: middle;\n",
       "    }\n",
       "\n",
       "    .dataframe tbody tr th {\n",
       "        vertical-align: top;\n",
       "    }\n",
       "\n",
       "    .dataframe thead th {\n",
       "        text-align: right;\n",
       "    }\n",
       "</style>\n",
       "<table border=\"1\" class=\"dataframe\">\n",
       "  <thead>\n",
       "    <tr style=\"text-align: right;\">\n",
       "      <th></th>\n",
       "      <th>id</th>\n",
       "      <th>title</th>\n",
       "      <th>main_reference_number</th>\n",
       "      <th>department_title</th>\n",
       "      <th>artist_title</th>\n",
       "    </tr>\n",
       "  </thead>\n",
       "  <tbody>\n",
       "    <tr>\n",
       "      <th>0</th>\n",
       "      <td>869</td>\n",
       "      <td>The Watermill with the Great Red Roof</td>\n",
       "      <td>1894.1031</td>\n",
       "      <td>Painting and Sculpture of Europe</td>\n",
       "      <td>Meindert Hobbema</td>\n",
       "    </tr>\n",
       "    <tr>\n",
       "      <th>1</th>\n",
       "      <td>2189</td>\n",
       "      <td>Ready-to-Wear</td>\n",
       "      <td>1956.137</td>\n",
       "      <td>Arts of the Americas</td>\n",
       "      <td>Stuart Davis</td>\n",
       "    </tr>\n",
       "    <tr>\n",
       "      <th>2</th>\n",
       "      <td>2816</td>\n",
       "      <td>Interior at Nice</td>\n",
       "      <td>1956.339</td>\n",
       "      <td>Modern Art</td>\n",
       "      <td>Henri Matisse</td>\n",
       "    </tr>\n",
       "    <tr>\n",
       "      <th>3</th>\n",
       "      <td>4081</td>\n",
       "      <td>Gian Lodovico Madruzzo</td>\n",
       "      <td>1929.912</td>\n",
       "      <td>Painting and Sculpture of Europe</td>\n",
       "      <td>Giovanni Battista Moroni</td>\n",
       "    </tr>\n",
       "    <tr>\n",
       "      <th>4</th>\n",
       "      <td>4428</td>\n",
       "      <td>Mère Grégoire</td>\n",
       "      <td>1930.78</td>\n",
       "      <td>Painting and Sculpture of Europe</td>\n",
       "      <td>Gustave Courbet</td>\n",
       "    </tr>\n",
       "    <tr>\n",
       "      <th>...</th>\n",
       "      <td>...</td>\n",
       "      <td>...</td>\n",
       "      <td>...</td>\n",
       "      <td>...</td>\n",
       "      <td>...</td>\n",
       "    </tr>\n",
       "    <tr>\n",
       "      <th>418</th>\n",
       "      <td>234004</td>\n",
       "      <td>Untitled 72–12–A</td>\n",
       "      <td>2016.62</td>\n",
       "      <td>Contemporary Art</td>\n",
       "      <td>Chung, Sang-Hwa</td>\n",
       "    </tr>\n",
       "    <tr>\n",
       "      <th>419</th>\n",
       "      <td>234433</td>\n",
       "      <td>Involvement Series</td>\n",
       "      <td>2016.66</td>\n",
       "      <td>Contemporary Art</td>\n",
       "      <td>Wanda Pimentel</td>\n",
       "    </tr>\n",
       "    <tr>\n",
       "      <th>420</th>\n",
       "      <td>234781</td>\n",
       "      <td>Christ Carrying the Cross</td>\n",
       "      <td>2016.15</td>\n",
       "      <td>Painting and Sculpture of Europe</td>\n",
       "      <td>Sebastiano del Piombo</td>\n",
       "    </tr>\n",
       "    <tr>\n",
       "      <th>421</th>\n",
       "      <td>234972</td>\n",
       "      <td>Small Town by Day (Badische Kleinstadt bei Tage)</td>\n",
       "      <td>2016.46</td>\n",
       "      <td>Modern Art</td>\n",
       "      <td>Georg Scholz</td>\n",
       "    </tr>\n",
       "    <tr>\n",
       "      <th>422</th>\n",
       "      <td>238749</td>\n",
       "      <td>Bottle Rack (Porte-Bouteilles)</td>\n",
       "      <td>2017.422</td>\n",
       "      <td>Modern Art</td>\n",
       "      <td>Marcel Duchamp</td>\n",
       "    </tr>\n",
       "  </tbody>\n",
       "</table>\n",
       "<p>423 rows × 5 columns</p>\n",
       "</div>"
      ],
      "text/plain": [
       "         id                                             title  \\\n",
       "0       869             The Watermill with the Great Red Roof   \n",
       "1      2189                                     Ready-to-Wear   \n",
       "2      2816                                  Interior at Nice   \n",
       "3      4081                            Gian Lodovico Madruzzo   \n",
       "4      4428                                     Mère Grégoire   \n",
       "..      ...                                               ...   \n",
       "418  234004                                  Untitled 72–12–A   \n",
       "419  234433                                Involvement Series   \n",
       "420  234781                         Christ Carrying the Cross   \n",
       "421  234972  Small Town by Day (Badische Kleinstadt bei Tage)   \n",
       "422  238749                    Bottle Rack (Porte-Bouteilles)   \n",
       "\n",
       "    main_reference_number                  department_title  \\\n",
       "0               1894.1031  Painting and Sculpture of Europe   \n",
       "1                1956.137              Arts of the Americas   \n",
       "2                1956.339                        Modern Art   \n",
       "3                1929.912  Painting and Sculpture of Europe   \n",
       "4                 1930.78  Painting and Sculpture of Europe   \n",
       "..                    ...                               ...   \n",
       "418               2016.62                  Contemporary Art   \n",
       "419               2016.66                  Contemporary Art   \n",
       "420               2016.15  Painting and Sculpture of Europe   \n",
       "421               2016.46                        Modern Art   \n",
       "422              2017.422                        Modern Art   \n",
       "\n",
       "                 artist_title  \n",
       "0            Meindert Hobbema  \n",
       "1                Stuart Davis  \n",
       "2               Henri Matisse  \n",
       "3    Giovanni Battista Moroni  \n",
       "4             Gustave Courbet  \n",
       "..                        ...  \n",
       "418           Chung, Sang-Hwa  \n",
       "419            Wanda Pimentel  \n",
       "420     Sebastiano del Piombo  \n",
       "421              Georg Scholz  \n",
       "422            Marcel Duchamp  \n",
       "\n",
       "[423 rows x 5 columns]"
      ]
     },
     "execution_count": 426,
     "metadata": {},
     "output_type": "execute_result"
    }
   ],
   "source": [
    "df"
   ]
  },
  {
   "cell_type": "code",
   "execution_count": 427,
   "id": "2f645769",
   "metadata": {
    "ExecuteTime": {
     "end_time": "2023-04-14T08:45:07.394252Z",
     "start_time": "2023-04-14T08:45:07.390947Z"
    }
   },
   "outputs": [
    {
     "data": {
      "text/plain": [
       "869"
      ]
     },
     "execution_count": 427,
     "metadata": {},
     "output_type": "execute_result"
    }
   ],
   "source": [
    "df.iloc[0]['id']"
   ]
  },
  {
   "cell_type": "code",
   "execution_count": 428,
   "id": "8e58e001",
   "metadata": {
    "ExecuteTime": {
     "end_time": "2023-04-14T08:45:07.402391Z",
     "start_time": "2023-04-14T08:45:07.395636Z"
    }
   },
   "outputs": [
    {
     "data": {
      "text/plain": [
       "{'id': 869,\n",
       " 'api_model': 'artworks',\n",
       " 'api_link': 'https://api.artic.edu/api/v1/artworks/869',\n",
       " 'is_boosted': True,\n",
       " 'title': 'The Watermill with the Great Red Roof',\n",
       " 'alt_titles': None,\n",
       " 'thumbnail': {'lqip': 'data:image/gif;base64,R0lGODlhBwAFAPUAACIbEyIbFCIfFSkiGC8lGSwmGjUrHz0yIzozJz44Jzg1KDs4KUI8K0Y9LUBAL0VCMUpEMU1IM1JRRFZVSWZfR21rW25sY21xanx5Z398cX+CfImDc46LfZqUf4KGgYOIgouNhYyPiZeVigAAAAAAAAAAAAAAAAAAAAAAAAAAAAAAAAAAAAAAAAAAAAAAAAAAAAAAAAAAAAAAAAAAAAAAAAAAAAAAAAAAAAAAAAAAAAAAAAAAAAAAAAAAAAAAAAAAACH5BAAAAAAALAAAAAAHAAUAAAYhwM9FE/JwLJ2FZAISZSgKgQOzqUQgiUfjwCgEAAOEgRAEADs=',\n",
       "  'width': 9443,\n",
       "  'height': 6967,\n",
       "  'alt_text': 'Landscape painting featuring a wavy tree tree in the foreground and a watermill with a red roof adjacent to a river at right. Colors are subdued earth tones, the foliage a dark green and the river a muddy brown. Water flows through the mill wheel under a cloudy sky of gray and blue. Three individuals can be seen in the distance at left.'},\n",
       " 'main_reference_number': '1894.1031',\n",
       " 'has_not_been_viewed_much': False,\n",
       " 'boost_rank': None,\n",
       " 'date_start': 1665,\n",
       " 'date_end': 1675,\n",
       " 'date_display': '1662/65',\n",
       " 'date_qualifier_title': '',\n",
       " 'date_qualifier_id': None,\n",
       " 'artist_display': 'Meindert Hobbema\\nDutch, 1638–1709',\n",
       " 'place_of_origin': 'Holland',\n",
       " 'dimensions': '32 × 43 1/4 in. (81.3 × 110 cm)',\n",
       " 'medium_display': 'Oil on canvas',\n",
       " 'inscriptions': 'Inscribed, lower left: hobbema',\n",
       " 'credit_line': 'Gift of Mr. and Mrs. Frank G. Logan',\n",
       " 'publication_history': 'John Smith, Catalogue Raisonné of the Works of the Most Eminent Dutch and Flemish Painters, vol. 6, London, 1835, pp. 151-52, no. 105.\\n\\n“Rare Old Paintings.  Works of Famous Dutch Masters at the Art Institute,”Chicago Post, November 7, 1890.\\n\\nArt Institute of Chicago, Catalogue of Objects in the Museum, 1895, no. 164.\\n\\nArt Institute of Chicago, General Catalogue of Paintings, Sculpture and other Objects of Art in the Museum, 1901, p. 148, no. 16 ill.\\n\\nFrederick W. Morton, “Notable Art Works at Pittsburg,” Brush and Pencil 11, 3 (1902), pp. 182, 191 (ill.).\\n\\nArt Institute of Chicago, General Catalogue of Paintings, Sculpture and other Objects of Art in the Museum, 1904, pp. 153-4, no. 16, ill.\\n\\nArt Institute of Chicago, Important facts regarding The Art Institute of Chicago with reproductions of the Demidoff Masterpieces, Chicago, 1905, p. 9, ill. p. 16.\\n\\nArt Institute of Chicago, General Catalogue of Sculpture, Paintings, and Other Objects, 1907, pp. 164-5, no. 16, ill. \\n\\nCornelis Hofstede de Groot, A Catalogue Raisonné of the Works of the Most Eminent Dutch Painters of the Seventeenth Century Based on the Work of John Smith, trans. Edward G. Hawke, vol. 4, London, 1912, p. 377, no. 71.\\n\\nArt Institute of Chicago, A Handbook of Paintings, Chicago, 1920, p. 19, no. 16. \\n\\nArt Institute of Chicago, A Guide to the Paintings in the Permanent Collection, Chicago, 1925, pp. 19 ill, 140, no. 16.\\n\\nArt Institute of Chicago, A Guide to the Paintings in the Permanent Collection, Chicago, 1932, pp. 25 ill., 157. \\n\\nDaniel Catton Rich, “Die Ausstellung ‘Fünf Jahrhunderte der Frühmalerei’ in Chicago,” Pantheon12 (1933), p. 380\\n\\nGeorges Brouhiet, Meindert Hobbema, Paris, 1938, p. 378, no. 13, fig. 13.\\n\\nAdolph Goldschmidt, “The Style of Dutch Painting in the Seventeenth Century,” The Art Quarterly 2 (1939), p, 8, fig. 10.\\n\\nCharles Fabens Kelley, “Chicago:  Record Years,” Art News 51, 4 (1952), p. 59.\\n\\nWolfgang Stechow, “Optic and Opulence:  A Brilliant View of Dutch Painting,” Art News 53, 7 (1954), p. 20.\\n\\nArt Institute of Chicago, Paintings in the Art Institute of Chicago: A Catalogue of the Picture Collection, Chicago, 1961, p. 216, ill. p. 192.\\n\\nFrederick A. Sweet, “Great Chicago Collectors,” Apollo 84, 55 (1966), p. 191.\\n\\nWolfgang Stechow, Dutch Landscape Painting of the Seventeenth Century, London, 1966, p. 378, no. 13, ill. p. 109.\\n\\nWallace Collection Catalogues, Pictures and Drawings, 16th edition, London, 1968, p. 150, under no. P99.\\n\\nJohn Maxon, The Art Institute of Chicago, London, 1970, pp. 261, ill., 282.\\n\\nArt Institute of Chicago, 100 Masterpieces,  Chicago, 1978, pp. 62-63, no. 25, ill.\\n\\nJohn D. Morse, Old Master Paintings in North America, New York, 1979, p. 168, ill. \\n\\nPeter C. Sutton, A Guide to Dutch Art in America, Grand Rapids, 1986, p. 51, ill.\\n\\nWalter Liedtke, “The Collectors and Their Ideals,” in Ben Broos, Great Dutch Paintings from America, exh. cat. (The Hague, Mauritshuis, 1990), p. 35.\\n\\nKendall L. Walton, Mimesis as Make-Believe.  On the Foundations of the Representational Arts, Cambridge, Mass., 1990, pp. 293-5, 304-5, fig. 8.1.\\n\\nCelia Hilliard, \"\\'The Prime Mover\\': Charles L. Hutchinson and the Making of the Art Institute of Chicago,\" Art Institute of Chicago Museum Studies 36,1 (2010), p. 43, fig. 10.',\n",
       " 'exhibition_history': 'Pittsburgh, Carnegie Institute, Loan Exhibition of Paintings, 1902/1903, no. 70.\\n\\nArt Institute of Chicago, A Century of Progress, 1933, no. 66.\\n\\nArt Institute of Chicago, A Century of Progress, 1934, no. 93.\\n\\nNew York World’s Fair, Masterpieces of Art, 1939, no. 193.\\n\\nNew York, Metropolitan Museum of Art, Dutch Painting.  The Golden Age,  An Exhibition of Dutch Pictures of the Seventeenth Century under the High Patronage of Her Majesty the Queen of the Netherlands, 1954/1955, no. 42, traveled to Toledo Museum of Art,.\\n\\nArt Institute of Chicago, The Artist Looks at the Landscape, 1974, no cat. \\n\\nAmsterdam, Rijksmuseum, Masters of 17th-Century Dutch Landscape, October 2, 1987- January 3, 1988, cat. 46; Boston, Museum of Fine Arts, February 3-May 1, 1988; Philadelphia Museum of Art, June 5-July 31, 1988.\\n\\nStuttgart, Staatsgalerie, Die Entdeckung der Landscaft.  Meisterwerke der niederländischen Kunst des 16. und 17. Jahrhunderts, 2005, no. 36.',\n",
       " 'provenance_text': 'Possibly John Ellis, London 1755 [according to Smith 1835].  Possibly Lord Mount Temple [Hofstede de Groot cites Durand Ruel as the source of this information].  Durand-Ruel, Paris, by 1890; sold to the Art Institute of Chicago, June 1890, together with a group of Dutch and Flemish paintings, many from the Demidoff collection, using funds advanced by four trustees and reimbursed through the gift of Mr. and Mrs. Frank G. Logan in 1903 [sale agreement in Art Institute Archives; in the case of 1894.1031, there is no evidence that it was in the Demidoff collection].',\n",
       " 'publishing_verification_level': 'Web Cataloged',\n",
       " 'internal_department_id': 14,\n",
       " 'fiscal_year': 1996,\n",
       " 'fiscal_year_deaccession': None,\n",
       " 'is_public_domain': True,\n",
       " 'is_zoomable': True,\n",
       " 'max_zoom_window_size': -1,\n",
       " 'copyright_notice': None,\n",
       " 'has_multimedia_resources': True,\n",
       " 'has_educational_resources': False,\n",
       " 'colorfulness': 16.008,\n",
       " 'color': {'h': 39,\n",
       "  'l': 59,\n",
       "  's': 36,\n",
       "  'percentage': 0.006102840490820946,\n",
       "  'population': 32},\n",
       " 'latitude': 41.879388727844,\n",
       " 'longitude': -87.6238769117089,\n",
       " 'latlon': '41.879388727844,41.879388727844',\n",
       " 'is_on_view': True,\n",
       " 'on_loan_display': None,\n",
       " 'gallery_title': 'Gallery 213',\n",
       " 'gallery_id': 2147483623,\n",
       " 'artwork_type_title': 'Painting',\n",
       " 'artwork_type_id': 1,\n",
       " 'department_title': 'Painting and Sculpture of Europe',\n",
       " 'department_id': 'PC-10',\n",
       " 'artist_id': 34954,\n",
       " 'artist_title': 'Meindert Hobbema',\n",
       " 'alt_artist_ids': [],\n",
       " 'artist_ids': [34954],\n",
       " 'artist_titles': ['Meindert Hobbema'],\n",
       " 'category_ids': ['PC-10'],\n",
       " 'category_titles': ['Painting and Sculpture of Europe'],\n",
       " 'artwork_catalogue_ids': [],\n",
       " 'term_titles': ['oil on canvas',\n",
       "  'Century of Progress',\n",
       "  'Realism',\n",
       "  'painting',\n",
       "  'european painting',\n",
       "  'landscapes',\n",
       "  \"world's fairs\",\n",
       "  \"Chicago World's Fairs\"],\n",
       " 'style_id': 'TM-7548',\n",
       " 'style_title': 'Realism',\n",
       " 'alt_style_ids': [],\n",
       " 'style_ids': ['TM-7548'],\n",
       " 'style_titles': ['Realism'],\n",
       " 'classification_id': 'TM-66',\n",
       " 'classification_title': 'oil on canvas',\n",
       " 'alt_classification_ids': ['TM-9', 'TM-54'],\n",
       " 'classification_ids': ['TM-66', 'TM-9', 'TM-54'],\n",
       " 'classification_titles': ['oil on canvas', 'painting', 'european painting'],\n",
       " 'subject_id': 'TM-12169',\n",
       " 'alt_subject_ids': ['TM-8657', 'TM-11299', 'TM-12176'],\n",
       " 'subject_ids': ['TM-12169', 'TM-8657', 'TM-11299', 'TM-12176'],\n",
       " 'subject_titles': ['Century of Progress',\n",
       "  'landscapes',\n",
       "  \"world's fairs\",\n",
       "  \"Chicago World's Fairs\"],\n",
       " 'material_id': None,\n",
       " 'alt_material_ids': [],\n",
       " 'material_ids': [],\n",
       " 'material_titles': [],\n",
       " 'technique_id': None,\n",
       " 'alt_technique_ids': [],\n",
       " 'technique_ids': [],\n",
       " 'technique_titles': [],\n",
       " 'theme_titles': [],\n",
       " 'image_id': '237c25a2-6051-a8e7-1610-a01938d4deab',\n",
       " 'alt_image_ids': ['9d1cddd5-f386-5bab-3370-9746de7a246f'],\n",
       " 'document_ids': ['fd2bd2c7-fb34-6e84-034a-49cb05ec4d6d'],\n",
       " 'sound_ids': ['fd2bd2c7-fb34-6e84-034a-49cb05ec4d6d'],\n",
       " 'video_ids': [],\n",
       " 'text_ids': [],\n",
       " 'section_ids': [],\n",
       " 'section_titles': [],\n",
       " 'site_ids': [],\n",
       " 'suggest_autocomplete_boosted': 'The Watermill with the Great Red Roof',\n",
       " 'suggest_autocomplete_all': [{'input': ['1894.1031'],\n",
       "   'contexts': {'groupings': ['accession']}},\n",
       "  {'input': ['The Watermill with the Great Red Roof'],\n",
       "   'weight': 37149,\n",
       "   'contexts': {'groupings': ['title']}}],\n",
       " 'last_updated_source': '2021-11-01T00:15:02-05:00',\n",
       " 'last_updated': '2022-04-22T10:59:39-05:00',\n",
       " 'timestamp': '2022-06-12T00:14:12-05:00'}"
      ]
     },
     "execution_count": 428,
     "metadata": {},
     "output_type": "execute_result"
    }
   ],
   "source": [
    "with open(\"raw_data/artic-api-data/json/artworks/869.json\",'r') as f:\n",
    "    data = json.loads(f.read())\n",
    "data"
   ]
  },
  {
   "cell_type": "code",
   "execution_count": 429,
   "id": "dfdd6e1b",
   "metadata": {
    "ExecuteTime": {
     "end_time": "2023-04-14T08:45:07.406794Z",
     "start_time": "2023-04-14T08:45:07.404371Z"
    }
   },
   "outputs": [],
   "source": [
    "keys = ['id', 'title', 'thumbnail', 'date_start', 'date_end', 'date_display',\n",
    "       'artist_display', 'place_of_origin', 'medium_display', 'is_public_domain',\n",
    "        'copyright_notice', 'artist_id', 'artist_title', 'term_titles',\n",
    "        'image_id', 'document_ids', 'sound_ids', 'video_ids','text_ids']"
   ]
  },
  {
   "cell_type": "code",
   "execution_count": 430,
   "id": "e2cf85d5",
   "metadata": {
    "ExecuteTime": {
     "end_time": "2023-04-14T08:45:07.668679Z",
     "start_time": "2023-04-14T08:45:07.408396Z"
    }
   },
   "outputs": [],
   "source": [
    "artworks_df = pd.DataFrame()\n",
    "for index, value in df.iterrows():\n",
    "    id = df.iloc[index]['id']\n",
    "    with open(f'raw_data/artic-api-data/json/artworks/{id}.json','r') as f:\n",
    "        data = json.loads(f.read())\n",
    "        artwork_dict = {key: data[key] for key in keys}\n",
    "        artwork_df = pd.DataFrame.from_dict(artwork_dict, orient='index')\n",
    "        artworks_df = pd.concat([artworks_df, artwork_df.T])"
   ]
  },
  {
   "cell_type": "code",
   "execution_count": 431,
   "id": "f1f4a13e",
   "metadata": {
    "ExecuteTime": {
     "end_time": "2023-04-14T08:45:07.692255Z",
     "start_time": "2023-04-14T08:45:07.670543Z"
    }
   },
   "outputs": [
    {
     "data": {
      "text/html": [
       "<div>\n",
       "<style scoped>\n",
       "    .dataframe tbody tr th:only-of-type {\n",
       "        vertical-align: middle;\n",
       "    }\n",
       "\n",
       "    .dataframe tbody tr th {\n",
       "        vertical-align: top;\n",
       "    }\n",
       "\n",
       "    .dataframe thead th {\n",
       "        text-align: right;\n",
       "    }\n",
       "</style>\n",
       "<table border=\"1\" class=\"dataframe\">\n",
       "  <thead>\n",
       "    <tr style=\"text-align: right;\">\n",
       "      <th></th>\n",
       "      <th>id</th>\n",
       "      <th>title</th>\n",
       "      <th>thumbnail</th>\n",
       "      <th>date_start</th>\n",
       "      <th>date_end</th>\n",
       "      <th>date_display</th>\n",
       "      <th>artist_display</th>\n",
       "      <th>place_of_origin</th>\n",
       "      <th>medium_display</th>\n",
       "      <th>is_public_domain</th>\n",
       "      <th>copyright_notice</th>\n",
       "      <th>artist_id</th>\n",
       "      <th>artist_title</th>\n",
       "      <th>term_titles</th>\n",
       "      <th>image_id</th>\n",
       "      <th>document_ids</th>\n",
       "      <th>sound_ids</th>\n",
       "      <th>video_ids</th>\n",
       "      <th>text_ids</th>\n",
       "    </tr>\n",
       "  </thead>\n",
       "  <tbody>\n",
       "    <tr>\n",
       "      <th>0</th>\n",
       "      <td>869</td>\n",
       "      <td>The Watermill with the Great Red Roof</td>\n",
       "      <td>{'lqip': 'data:image/gif;base64,R0lGODlhBwAFAP...</td>\n",
       "      <td>1665</td>\n",
       "      <td>1675</td>\n",
       "      <td>1662/65</td>\n",
       "      <td>Meindert Hobbema\\nDutch, 1638–1709</td>\n",
       "      <td>Holland</td>\n",
       "      <td>Oil on canvas</td>\n",
       "      <td>True</td>\n",
       "      <td>None</td>\n",
       "      <td>34954</td>\n",
       "      <td>Meindert Hobbema</td>\n",
       "      <td>[oil on canvas, Century of Progress, Realism, ...</td>\n",
       "      <td>237c25a2-6051-a8e7-1610-a01938d4deab</td>\n",
       "      <td>[fd2bd2c7-fb34-6e84-034a-49cb05ec4d6d]</td>\n",
       "      <td>[fd2bd2c7-fb34-6e84-034a-49cb05ec4d6d]</td>\n",
       "      <td>[]</td>\n",
       "      <td>[]</td>\n",
       "    </tr>\n",
       "    <tr>\n",
       "      <th>1</th>\n",
       "      <td>2189</td>\n",
       "      <td>Ready-to-Wear</td>\n",
       "      <td>{'lqip': 'data:image/gif;base64,R0lGODlhBAAFAP...</td>\n",
       "      <td>1955</td>\n",
       "      <td>1955</td>\n",
       "      <td>1955</td>\n",
       "      <td>Stuart Davis\\nAmerican, 1892–1964</td>\n",
       "      <td>United States</td>\n",
       "      <td>Oil on canvas</td>\n",
       "      <td>False</td>\n",
       "      <td>None</td>\n",
       "      <td>34155</td>\n",
       "      <td>Stuart Davis</td>\n",
       "      <td>[painting, oil paint (paint), Modernism, oil p...</td>\n",
       "      <td>8a4e78cf-d284-f262-6c9d-0ad15bc2d43b</td>\n",
       "      <td>[]</td>\n",
       "      <td>[]</td>\n",
       "      <td>[]</td>\n",
       "      <td>[]</td>\n",
       "    </tr>\n",
       "    <tr>\n",
       "      <th>2</th>\n",
       "      <td>2816</td>\n",
       "      <td>Interior at Nice</td>\n",
       "      <td>{'lqip': 'data:image/gif;base64,R0lGODlhAwAFAP...</td>\n",
       "      <td>1919</td>\n",
       "      <td>1920</td>\n",
       "      <td>1919 or 1920</td>\n",
       "      <td>Henri Matisse\\nFrench, 1869–1954</td>\n",
       "      <td>France</td>\n",
       "      <td>Oil on canvas</td>\n",
       "      <td>False</td>\n",
       "      <td>© 2018 Succession H. Matisse / Artists Rights ...</td>\n",
       "      <td>35670</td>\n",
       "      <td>Henri Matisse</td>\n",
       "      <td>[painting, oil painting, oil paint (paint), in...</td>\n",
       "      <td>2193cdda-2691-2802-0776-145dee77f7ea</td>\n",
       "      <td>[]</td>\n",
       "      <td>[]</td>\n",
       "      <td>[]</td>\n",
       "      <td>[]</td>\n",
       "    </tr>\n",
       "    <tr>\n",
       "      <th>3</th>\n",
       "      <td>4081</td>\n",
       "      <td>Gian Lodovico Madruzzo</td>\n",
       "      <td>{'lqip': 'data:image/gif;base64,R0lGODlhAwAFAP...</td>\n",
       "      <td>1551</td>\n",
       "      <td>1552</td>\n",
       "      <td>1551/52</td>\n",
       "      <td>Giovanni Battista Moroni\\nItalian, 1520/24-1578</td>\n",
       "      <td>Italy</td>\n",
       "      <td>Oil on canvas</td>\n",
       "      <td>True</td>\n",
       "      <td>None</td>\n",
       "      <td>35838</td>\n",
       "      <td>Giovanni Battista Moroni</td>\n",
       "      <td>[oil on canvas, Century of Progress, animals, ...</td>\n",
       "      <td>bc24fe7f-4171-c785-bff2-b2ed3777a47d</td>\n",
       "      <td>[1faeb566-bc3a-9792-97f4-4ef156bd924d]</td>\n",
       "      <td>[1faeb566-bc3a-9792-97f4-4ef156bd924d]</td>\n",
       "      <td>[]</td>\n",
       "      <td>[]</td>\n",
       "    </tr>\n",
       "    <tr>\n",
       "      <th>4</th>\n",
       "      <td>4428</td>\n",
       "      <td>Mère Grégoire</td>\n",
       "      <td>{'lqip': 'data:image/gif;base64,R0lGODlhBAAFAP...</td>\n",
       "      <td>1855</td>\n",
       "      <td>1859</td>\n",
       "      <td>1855 and 1857/59</td>\n",
       "      <td>Gustave Courbet\\nFrench, 1819-1877</td>\n",
       "      <td>France</td>\n",
       "      <td>Oil on canvas</td>\n",
       "      <td>True</td>\n",
       "      <td>None</td>\n",
       "      <td>34049</td>\n",
       "      <td>Gustave Courbet</td>\n",
       "      <td>[painting, oil painting, oil paint (paint), Ce...</td>\n",
       "      <td>2e6d08c8-dac0-4f1c-3e56-de3539ceb905</td>\n",
       "      <td>[]</td>\n",
       "      <td>[]</td>\n",
       "      <td>[]</td>\n",
       "      <td>[]</td>\n",
       "    </tr>\n",
       "    <tr>\n",
       "      <th>...</th>\n",
       "      <td>...</td>\n",
       "      <td>...</td>\n",
       "      <td>...</td>\n",
       "      <td>...</td>\n",
       "      <td>...</td>\n",
       "      <td>...</td>\n",
       "      <td>...</td>\n",
       "      <td>...</td>\n",
       "      <td>...</td>\n",
       "      <td>...</td>\n",
       "      <td>...</td>\n",
       "      <td>...</td>\n",
       "      <td>...</td>\n",
       "      <td>...</td>\n",
       "      <td>...</td>\n",
       "      <td>...</td>\n",
       "      <td>...</td>\n",
       "      <td>...</td>\n",
       "      <td>...</td>\n",
       "    </tr>\n",
       "    <tr>\n",
       "      <th>418</th>\n",
       "      <td>234004</td>\n",
       "      <td>Untitled 72–12–A</td>\n",
       "      <td>{'lqip': 'data:image/gif;base64,R0lGODlhBAAFAP...</td>\n",
       "      <td>1972</td>\n",
       "      <td>1972</td>\n",
       "      <td>1972</td>\n",
       "      <td>Chung Sang-Hwa\\nKorean, born 1932</td>\n",
       "      <td>None</td>\n",
       "      <td>Acrylic on canvas</td>\n",
       "      <td>False</td>\n",
       "      <td>None</td>\n",
       "      <td>114644</td>\n",
       "      <td>Chung, Sang-Hwa</td>\n",
       "      <td>[painting (image making), acrylic paint, patte...</td>\n",
       "      <td>86f8596f-6fc2-5f28-dc26-8526b5da2290</td>\n",
       "      <td>[]</td>\n",
       "      <td>[]</td>\n",
       "      <td>[]</td>\n",
       "      <td>[]</td>\n",
       "    </tr>\n",
       "    <tr>\n",
       "      <th>419</th>\n",
       "      <td>234433</td>\n",
       "      <td>Involvement Series</td>\n",
       "      <td>{'lqip': 'data:image/gif;base64,R0lGODlhBAAFAP...</td>\n",
       "      <td>1968</td>\n",
       "      <td>1968</td>\n",
       "      <td>1968</td>\n",
       "      <td>Wanda Pimentel\\nBrazilian, 1943-2019</td>\n",
       "      <td>None</td>\n",
       "      <td>Vinyl on canvas</td>\n",
       "      <td>False</td>\n",
       "      <td>None</td>\n",
       "      <td>114672</td>\n",
       "      <td>Wanda Pimentel</td>\n",
       "      <td>[synthetic resin paint, clothing, painting, co...</td>\n",
       "      <td>0f6ffedf-d080-9528-9543-31087899ce57</td>\n",
       "      <td>[]</td>\n",
       "      <td>[]</td>\n",
       "      <td>[]</td>\n",
       "      <td>[]</td>\n",
       "    </tr>\n",
       "    <tr>\n",
       "      <th>420</th>\n",
       "      <td>234781</td>\n",
       "      <td>Christ Carrying the Cross</td>\n",
       "      <td>{'lqip': 'data:image/gif;base64,R0lGODlhBAAFAP...</td>\n",
       "      <td>1515</td>\n",
       "      <td>1517</td>\n",
       "      <td>about 1515/1517</td>\n",
       "      <td>Sebastiano del Piombo \\nItalian, about 1485–1547</td>\n",
       "      <td>None</td>\n",
       "      <td>Oil on panel</td>\n",
       "      <td>True</td>\n",
       "      <td>None</td>\n",
       "      <td>41499</td>\n",
       "      <td>Sebastiano del Piombo</td>\n",
       "      <td>[painting, oil painting, oil paint (paint), Je...</td>\n",
       "      <td>13a251ba-2c7a-2d0c-3f65-820c0e1f1a39</td>\n",
       "      <td>[]</td>\n",
       "      <td>[]</td>\n",
       "      <td>[]</td>\n",
       "      <td>[]</td>\n",
       "    </tr>\n",
       "    <tr>\n",
       "      <th>421</th>\n",
       "      <td>234972</td>\n",
       "      <td>Small Town by Day (Badische Kleinstadt bei Tage)</td>\n",
       "      <td>{'lqip': 'data:image/gif;base64,R0lGODlhBAAFAP...</td>\n",
       "      <td>1922</td>\n",
       "      <td>1923</td>\n",
       "      <td>1922–23</td>\n",
       "      <td>Georg Scholz\\nGerman, 1890–1945</td>\n",
       "      <td>None</td>\n",
       "      <td>Oil on board</td>\n",
       "      <td>False</td>\n",
       "      <td>None</td>\n",
       "      <td>57509</td>\n",
       "      <td>Georg Scholz</td>\n",
       "      <td>[oil painting, oil paint (paint), towns, paint...</td>\n",
       "      <td>cd773e50-2f0f-9d5d-e112-a5271164abf2</td>\n",
       "      <td>[]</td>\n",
       "      <td>[]</td>\n",
       "      <td>[]</td>\n",
       "      <td>[]</td>\n",
       "    </tr>\n",
       "    <tr>\n",
       "      <th>422</th>\n",
       "      <td>238749</td>\n",
       "      <td>Bottle Rack (Porte-Bouteilles)</td>\n",
       "      <td>{'lqip': 'data:image/gif;base64,R0lGODlhBQAFAP...</td>\n",
       "      <td>1958</td>\n",
       "      <td>1959</td>\n",
       "      <td>1914/1959</td>\n",
       "      <td>Marcel Duchamp\\nAmerican, born France, 1887–1968</td>\n",
       "      <td>None</td>\n",
       "      <td>Galvanized iron</td>\n",
       "      <td>False</td>\n",
       "      <td>None</td>\n",
       "      <td>34316</td>\n",
       "      <td>Marcel Duchamp</td>\n",
       "      <td>[metalworking, ready-mades, iron (metal), Surr...</td>\n",
       "      <td>aaf32d95-6c4f-9024-b536-f22a801f2f51</td>\n",
       "      <td>[]</td>\n",
       "      <td>[]</td>\n",
       "      <td>[]</td>\n",
       "      <td>[]</td>\n",
       "    </tr>\n",
       "  </tbody>\n",
       "</table>\n",
       "<p>423 rows × 19 columns</p>\n",
       "</div>"
      ],
      "text/plain": [
       "         id                                             title  \\\n",
       "0       869             The Watermill with the Great Red Roof   \n",
       "1      2189                                     Ready-to-Wear   \n",
       "2      2816                                  Interior at Nice   \n",
       "3      4081                            Gian Lodovico Madruzzo   \n",
       "4      4428                                     Mère Grégoire   \n",
       "..      ...                                               ...   \n",
       "418  234004                                  Untitled 72–12–A   \n",
       "419  234433                                Involvement Series   \n",
       "420  234781                         Christ Carrying the Cross   \n",
       "421  234972  Small Town by Day (Badische Kleinstadt bei Tage)   \n",
       "422  238749                    Bottle Rack (Porte-Bouteilles)   \n",
       "\n",
       "                                             thumbnail date_start date_end  \\\n",
       "0    {'lqip': 'data:image/gif;base64,R0lGODlhBwAFAP...       1665     1675   \n",
       "1    {'lqip': 'data:image/gif;base64,R0lGODlhBAAFAP...       1955     1955   \n",
       "2    {'lqip': 'data:image/gif;base64,R0lGODlhAwAFAP...       1919     1920   \n",
       "3    {'lqip': 'data:image/gif;base64,R0lGODlhAwAFAP...       1551     1552   \n",
       "4    {'lqip': 'data:image/gif;base64,R0lGODlhBAAFAP...       1855     1859   \n",
       "..                                                 ...        ...      ...   \n",
       "418  {'lqip': 'data:image/gif;base64,R0lGODlhBAAFAP...       1972     1972   \n",
       "419  {'lqip': 'data:image/gif;base64,R0lGODlhBAAFAP...       1968     1968   \n",
       "420  {'lqip': 'data:image/gif;base64,R0lGODlhBAAFAP...       1515     1517   \n",
       "421  {'lqip': 'data:image/gif;base64,R0lGODlhBAAFAP...       1922     1923   \n",
       "422  {'lqip': 'data:image/gif;base64,R0lGODlhBQAFAP...       1958     1959   \n",
       "\n",
       "         date_display                                    artist_display  \\\n",
       "0             1662/65                Meindert Hobbema\\nDutch, 1638–1709   \n",
       "1                1955                 Stuart Davis\\nAmerican, 1892–1964   \n",
       "2        1919 or 1920                  Henri Matisse\\nFrench, 1869–1954   \n",
       "3             1551/52   Giovanni Battista Moroni\\nItalian, 1520/24-1578   \n",
       "4    1855 and 1857/59                Gustave Courbet\\nFrench, 1819-1877   \n",
       "..                ...                                               ...   \n",
       "418              1972                 Chung Sang-Hwa\\nKorean, born 1932   \n",
       "419              1968              Wanda Pimentel\\nBrazilian, 1943-2019   \n",
       "420   about 1515/1517  Sebastiano del Piombo \\nItalian, about 1485–1547   \n",
       "421           1922–23                   Georg Scholz\\nGerman, 1890–1945   \n",
       "422         1914/1959  Marcel Duchamp\\nAmerican, born France, 1887–1968   \n",
       "\n",
       "    place_of_origin     medium_display is_public_domain  \\\n",
       "0           Holland      Oil on canvas             True   \n",
       "1     United States      Oil on canvas            False   \n",
       "2            France      Oil on canvas            False   \n",
       "3             Italy      Oil on canvas             True   \n",
       "4            France      Oil on canvas             True   \n",
       "..              ...                ...              ...   \n",
       "418            None  Acrylic on canvas            False   \n",
       "419            None    Vinyl on canvas            False   \n",
       "420            None       Oil on panel             True   \n",
       "421            None       Oil on board            False   \n",
       "422            None    Galvanized iron            False   \n",
       "\n",
       "                                      copyright_notice artist_id  \\\n",
       "0                                                 None     34954   \n",
       "1                                                 None     34155   \n",
       "2    © 2018 Succession H. Matisse / Artists Rights ...     35670   \n",
       "3                                                 None     35838   \n",
       "4                                                 None     34049   \n",
       "..                                                 ...       ...   \n",
       "418                                               None    114644   \n",
       "419                                               None    114672   \n",
       "420                                               None     41499   \n",
       "421                                               None     57509   \n",
       "422                                               None     34316   \n",
       "\n",
       "                 artist_title  \\\n",
       "0            Meindert Hobbema   \n",
       "1                Stuart Davis   \n",
       "2               Henri Matisse   \n",
       "3    Giovanni Battista Moroni   \n",
       "4             Gustave Courbet   \n",
       "..                        ...   \n",
       "418           Chung, Sang-Hwa   \n",
       "419            Wanda Pimentel   \n",
       "420     Sebastiano del Piombo   \n",
       "421              Georg Scholz   \n",
       "422            Marcel Duchamp   \n",
       "\n",
       "                                           term_titles  \\\n",
       "0    [oil on canvas, Century of Progress, Realism, ...   \n",
       "1    [painting, oil paint (paint), Modernism, oil p...   \n",
       "2    [painting, oil painting, oil paint (paint), in...   \n",
       "3    [oil on canvas, Century of Progress, animals, ...   \n",
       "4    [painting, oil painting, oil paint (paint), Ce...   \n",
       "..                                                 ...   \n",
       "418  [painting (image making), acrylic paint, patte...   \n",
       "419  [synthetic resin paint, clothing, painting, co...   \n",
       "420  [painting, oil painting, oil paint (paint), Je...   \n",
       "421  [oil painting, oil paint (paint), towns, paint...   \n",
       "422  [metalworking, ready-mades, iron (metal), Surr...   \n",
       "\n",
       "                                 image_id  \\\n",
       "0    237c25a2-6051-a8e7-1610-a01938d4deab   \n",
       "1    8a4e78cf-d284-f262-6c9d-0ad15bc2d43b   \n",
       "2    2193cdda-2691-2802-0776-145dee77f7ea   \n",
       "3    bc24fe7f-4171-c785-bff2-b2ed3777a47d   \n",
       "4    2e6d08c8-dac0-4f1c-3e56-de3539ceb905   \n",
       "..                                    ...   \n",
       "418  86f8596f-6fc2-5f28-dc26-8526b5da2290   \n",
       "419  0f6ffedf-d080-9528-9543-31087899ce57   \n",
       "420  13a251ba-2c7a-2d0c-3f65-820c0e1f1a39   \n",
       "421  cd773e50-2f0f-9d5d-e112-a5271164abf2   \n",
       "422  aaf32d95-6c4f-9024-b536-f22a801f2f51   \n",
       "\n",
       "                               document_ids  \\\n",
       "0    [fd2bd2c7-fb34-6e84-034a-49cb05ec4d6d]   \n",
       "1                                        []   \n",
       "2                                        []   \n",
       "3    [1faeb566-bc3a-9792-97f4-4ef156bd924d]   \n",
       "4                                        []   \n",
       "..                                      ...   \n",
       "418                                      []   \n",
       "419                                      []   \n",
       "420                                      []   \n",
       "421                                      []   \n",
       "422                                      []   \n",
       "\n",
       "                                  sound_ids video_ids text_ids  \n",
       "0    [fd2bd2c7-fb34-6e84-034a-49cb05ec4d6d]        []       []  \n",
       "1                                        []        []       []  \n",
       "2                                        []        []       []  \n",
       "3    [1faeb566-bc3a-9792-97f4-4ef156bd924d]        []       []  \n",
       "4                                        []        []       []  \n",
       "..                                      ...       ...      ...  \n",
       "418                                      []        []       []  \n",
       "419                                      []        []       []  \n",
       "420                                      []        []       []  \n",
       "421                                      []        []       []  \n",
       "422                                      []        []       []  \n",
       "\n",
       "[423 rows x 19 columns]"
      ]
     },
     "execution_count": 431,
     "metadata": {},
     "output_type": "execute_result"
    }
   ],
   "source": [
    "artworks_df = artworks_df.reset_index()\n",
    "artworks_df = artworks_df.drop(columns='index')\n",
    "artworks_df"
   ]
  },
  {
   "cell_type": "markdown",
   "id": "519510e1",
   "metadata": {},
   "source": [
    "* See how many works are in the public domain\n",
    "* See how many works have sound files"
   ]
  },
  {
   "cell_type": "code",
   "execution_count": 432,
   "id": "c34af06b",
   "metadata": {
    "ExecuteTime": {
     "end_time": "2023-04-14T08:45:07.697409Z",
     "start_time": "2023-04-14T08:45:07.693801Z"
    },
    "scrolled": true
   },
   "outputs": [
    {
     "data": {
      "text/plain": [
       "'Landscape painting featuring a wavy tree tree in the foreground and a watermill with a red roof adjacent to a river at right. Colors are subdued earth tones, the foliage a dark green and the river a muddy brown. Water flows through the mill wheel under a cloudy sky of gray and blue. Three individuals can be seen in the distance at left.'"
      ]
     },
     "execution_count": 432,
     "metadata": {},
     "output_type": "execute_result"
    }
   ],
   "source": [
    "artworks_df.loc[0]['thumbnail']['alt_text']"
   ]
  },
  {
   "cell_type": "code",
   "execution_count": 433,
   "id": "d188372f",
   "metadata": {
    "ExecuteTime": {
     "end_time": "2023-04-14T08:45:07.707988Z",
     "start_time": "2023-04-14T08:45:07.701072Z"
    }
   },
   "outputs": [
    {
     "data": {
      "text/plain": [
       "True     0.531915\n",
       "False    0.468085\n",
       "Name: is_public_domain, dtype: float64"
      ]
     },
     "execution_count": 433,
     "metadata": {},
     "output_type": "execute_result"
    }
   ],
   "source": [
    "artworks_df['is_public_domain'].value_counts(normalize=True)"
   ]
  },
  {
   "cell_type": "code",
   "execution_count": 434,
   "id": "07f3f471",
   "metadata": {
    "ExecuteTime": {
     "end_time": "2023-04-14T08:45:07.720566Z",
     "start_time": "2023-04-14T08:45:07.709427Z"
    }
   },
   "outputs": [
    {
     "data": {
      "text/html": [
       "<div>\n",
       "<style scoped>\n",
       "    .dataframe tbody tr th:only-of-type {\n",
       "        vertical-align: middle;\n",
       "    }\n",
       "\n",
       "    .dataframe tbody tr th {\n",
       "        vertical-align: top;\n",
       "    }\n",
       "\n",
       "    .dataframe thead th {\n",
       "        text-align: right;\n",
       "    }\n",
       "</style>\n",
       "<table border=\"1\" class=\"dataframe\">\n",
       "  <thead>\n",
       "    <tr style=\"text-align: right;\">\n",
       "      <th></th>\n",
       "      <th>id</th>\n",
       "      <th>title</th>\n",
       "      <th>thumbnail</th>\n",
       "      <th>date_start</th>\n",
       "      <th>date_end</th>\n",
       "      <th>date_display</th>\n",
       "      <th>artist_display</th>\n",
       "      <th>place_of_origin</th>\n",
       "      <th>medium_display</th>\n",
       "      <th>is_public_domain</th>\n",
       "      <th>copyright_notice</th>\n",
       "      <th>artist_id</th>\n",
       "      <th>artist_title</th>\n",
       "      <th>term_titles</th>\n",
       "      <th>image_id</th>\n",
       "      <th>document_ids</th>\n",
       "      <th>sound_ids</th>\n",
       "      <th>video_ids</th>\n",
       "      <th>text_ids</th>\n",
       "    </tr>\n",
       "  </thead>\n",
       "  <tbody>\n",
       "    <tr>\n",
       "      <th>371</th>\n",
       "      <td>186392</td>\n",
       "      <td>Wall Drawing #821: A black square divided hori...</td>\n",
       "      <td>None</td>\n",
       "      <td>1997</td>\n",
       "      <td>1997</td>\n",
       "      <td>1997</td>\n",
       "      <td>Sol LeWitt\\nAmerican, 1928-2007</td>\n",
       "      <td>United States</td>\n",
       "      <td>Acrylic paint</td>\n",
       "      <td>False</td>\n",
       "      <td>© 2008 The Estate of Sol LeWitt</td>\n",
       "      <td>35429</td>\n",
       "      <td>Sol LeWitt</td>\n",
       "      <td>[20th Century, painting (image making), acryli...</td>\n",
       "      <td>None</td>\n",
       "      <td>[]</td>\n",
       "      <td>[]</td>\n",
       "      <td>[]</td>\n",
       "      <td>[]</td>\n",
       "    </tr>\n",
       "  </tbody>\n",
       "</table>\n",
       "</div>"
      ],
      "text/plain": [
       "         id                                              title thumbnail  \\\n",
       "371  186392  Wall Drawing #821: A black square divided hori...      None   \n",
       "\n",
       "    date_start date_end date_display                   artist_display  \\\n",
       "371       1997     1997         1997  Sol LeWitt\\nAmerican, 1928-2007   \n",
       "\n",
       "    place_of_origin medium_display is_public_domain  \\\n",
       "371   United States  Acrylic paint            False   \n",
       "\n",
       "                    copyright_notice artist_id artist_title  \\\n",
       "371  © 2008 The Estate of Sol LeWitt     35429   Sol LeWitt   \n",
       "\n",
       "                                           term_titles image_id document_ids  \\\n",
       "371  [20th Century, painting (image making), acryli...     None           []   \n",
       "\n",
       "    sound_ids video_ids text_ids  \n",
       "371        []        []       []  "
      ]
     },
     "execution_count": 434,
     "metadata": {},
     "output_type": "execute_result"
    }
   ],
   "source": [
    "artworks_df[artworks_df['image_id'].isnull()]"
   ]
  },
  {
   "cell_type": "code",
   "execution_count": 435,
   "id": "f8a99cb6",
   "metadata": {
    "ExecuteTime": {
     "end_time": "2023-04-14T08:45:07.728915Z",
     "start_time": "2023-04-14T08:45:07.722076Z"
    }
   },
   "outputs": [
    {
     "data": {
      "text/plain": [
       "[]                                        0.671395\n",
       "[27bdd742-63a9-0a04-1514-efe1b99e70e7]    0.002364\n",
       "[50468293-95f8-b028-99a2-5de3131b323e]    0.002364\n",
       "[37f1444f-6c1f-dde3-98fe-dece769ff35d]    0.002364\n",
       "[7fcd707c-97e9-67b2-07f6-9f8d7a96d9cd]    0.002364\n",
       "                                            ...   \n",
       "[679e5661-8cbe-e465-d228-59203b8f0425]    0.002364\n",
       "[6065bb79-2319-0414-fa02-304ec5f72771]    0.002364\n",
       "[02e976d2-8c4a-3cc2-9d2b-3cee40fe8291]    0.002364\n",
       "[ad4b851f-f04b-694b-e3c1-73166263775b]    0.002364\n",
       "[dd9fbf6c-126a-201d-9462-245fbe34e117]    0.002364\n",
       "Name: sound_ids, Length: 140, dtype: float64"
      ]
     },
     "execution_count": 435,
     "metadata": {},
     "output_type": "execute_result"
    }
   ],
   "source": [
    "artworks_df['sound_ids'].value_counts(normalize=True)"
   ]
  },
  {
   "cell_type": "markdown",
   "id": "228ea736",
   "metadata": {},
   "source": [
    "* Extract alt_text only"
   ]
  },
  {
   "cell_type": "code",
   "execution_count": 436,
   "id": "a4951489",
   "metadata": {
    "ExecuteTime": {
     "end_time": "2023-04-14T08:45:07.734903Z",
     "start_time": "2023-04-14T08:45:07.730666Z"
    }
   },
   "outputs": [
    {
     "data": {
      "text/plain": [
       "id                                                             186392\n",
       "title               Wall Drawing #821: A black square divided hori...\n",
       "thumbnail                                                        None\n",
       "date_start                                                       1997\n",
       "date_end                                                         1997\n",
       "date_display                                                     1997\n",
       "artist_display                        Sol LeWitt\\nAmerican, 1928-2007\n",
       "place_of_origin                                         United States\n",
       "medium_display                                          Acrylic paint\n",
       "is_public_domain                                                False\n",
       "copyright_notice                      © 2008 The Estate of Sol LeWitt\n",
       "artist_id                                                       35429\n",
       "artist_title                                               Sol LeWitt\n",
       "term_titles         [20th Century, painting (image making), acryli...\n",
       "image_id                                                         None\n",
       "document_ids                                                       []\n",
       "sound_ids                                                          []\n",
       "video_ids                                                          []\n",
       "text_ids                                                           []\n",
       "Name: 371, dtype: object"
      ]
     },
     "execution_count": 436,
     "metadata": {},
     "output_type": "execute_result"
    }
   ],
   "source": [
    "artworks_df.loc[371]"
   ]
  },
  {
   "cell_type": "code",
   "execution_count": 437,
   "id": "e967b8a3",
   "metadata": {
    "ExecuteTime": {
     "end_time": "2023-04-14T08:45:07.747657Z",
     "start_time": "2023-04-14T08:45:07.736211Z"
    }
   },
   "outputs": [
    {
     "ename": "TypeError",
     "evalue": "'NoneType' object is not subscriptable",
     "output_type": "error",
     "traceback": [
      "\u001b[0;31m---------------------------------------------------------------------------\u001b[0m",
      "\u001b[0;31mTypeError\u001b[0m                                 Traceback (most recent call last)",
      "Input \u001b[0;32mIn [437]\u001b[0m, in \u001b[0;36m<cell line: 1>\u001b[0;34m()\u001b[0m\n\u001b[0;32m----> 1\u001b[0m \u001b[43martworks_df\u001b[49m\u001b[38;5;241;43m.\u001b[39;49m\u001b[43mloc\u001b[49m\u001b[43m[\u001b[49m\u001b[38;5;241;43m371\u001b[39;49m\u001b[43m]\u001b[49m\u001b[43m[\u001b[49m\u001b[38;5;124;43m'\u001b[39;49m\u001b[38;5;124;43mthumbnail\u001b[39;49m\u001b[38;5;124;43m'\u001b[39;49m\u001b[43m]\u001b[49m\u001b[43m[\u001b[49m\u001b[38;5;124;43m'\u001b[39;49m\u001b[38;5;124;43malt_text\u001b[39;49m\u001b[38;5;124;43m'\u001b[39;49m\u001b[43m]\u001b[49m\n",
      "\u001b[0;31mTypeError\u001b[0m: 'NoneType' object is not subscriptable"
     ]
    }
   ],
   "source": [
    "artworks_df.loc[371]['thumbnail']['alt_text']"
   ]
  },
  {
   "cell_type": "code",
   "execution_count": 438,
   "id": "1df76ba4",
   "metadata": {
    "ExecuteTime": {
     "end_time": "2023-04-14T08:45:22.600244Z",
     "start_time": "2023-04-14T08:45:22.388514Z"
    }
   },
   "outputs": [],
   "source": [
    "for index, value in artworks_df.iterrows():\n",
    "    if index != 371:\n",
    "        artworks_df.loc[index, ['alt_text']] = artworks_df.loc[index]['thumbnail']['alt_text']"
   ]
  },
  {
   "cell_type": "code",
   "execution_count": 439,
   "id": "1d44f96f",
   "metadata": {
    "ExecuteTime": {
     "end_time": "2023-04-14T08:45:23.354965Z",
     "start_time": "2023-04-14T08:45:23.331837Z"
    },
    "scrolled": true
   },
   "outputs": [
    {
     "data": {
      "text/html": [
       "<div>\n",
       "<style scoped>\n",
       "    .dataframe tbody tr th:only-of-type {\n",
       "        vertical-align: middle;\n",
       "    }\n",
       "\n",
       "    .dataframe tbody tr th {\n",
       "        vertical-align: top;\n",
       "    }\n",
       "\n",
       "    .dataframe thead th {\n",
       "        text-align: right;\n",
       "    }\n",
       "</style>\n",
       "<table border=\"1\" class=\"dataframe\">\n",
       "  <thead>\n",
       "    <tr style=\"text-align: right;\">\n",
       "      <th></th>\n",
       "      <th>id</th>\n",
       "      <th>title</th>\n",
       "      <th>thumbnail</th>\n",
       "      <th>date_start</th>\n",
       "      <th>date_end</th>\n",
       "      <th>date_display</th>\n",
       "      <th>artist_display</th>\n",
       "      <th>place_of_origin</th>\n",
       "      <th>medium_display</th>\n",
       "      <th>is_public_domain</th>\n",
       "      <th>copyright_notice</th>\n",
       "      <th>artist_id</th>\n",
       "      <th>artist_title</th>\n",
       "      <th>term_titles</th>\n",
       "      <th>image_id</th>\n",
       "      <th>document_ids</th>\n",
       "      <th>sound_ids</th>\n",
       "      <th>video_ids</th>\n",
       "      <th>text_ids</th>\n",
       "      <th>alt_text</th>\n",
       "    </tr>\n",
       "  </thead>\n",
       "  <tbody>\n",
       "    <tr>\n",
       "      <th>0</th>\n",
       "      <td>869</td>\n",
       "      <td>The Watermill with the Great Red Roof</td>\n",
       "      <td>{'lqip': 'data:image/gif;base64,R0lGODlhBwAFAP...</td>\n",
       "      <td>1665</td>\n",
       "      <td>1675</td>\n",
       "      <td>1662/65</td>\n",
       "      <td>Meindert Hobbema\\nDutch, 1638–1709</td>\n",
       "      <td>Holland</td>\n",
       "      <td>Oil on canvas</td>\n",
       "      <td>True</td>\n",
       "      <td>None</td>\n",
       "      <td>34954</td>\n",
       "      <td>Meindert Hobbema</td>\n",
       "      <td>[oil on canvas, Century of Progress, Realism, ...</td>\n",
       "      <td>237c25a2-6051-a8e7-1610-a01938d4deab</td>\n",
       "      <td>[fd2bd2c7-fb34-6e84-034a-49cb05ec4d6d]</td>\n",
       "      <td>[fd2bd2c7-fb34-6e84-034a-49cb05ec4d6d]</td>\n",
       "      <td>[]</td>\n",
       "      <td>[]</td>\n",
       "      <td>Landscape painting featuring a wavy tree tree ...</td>\n",
       "    </tr>\n",
       "    <tr>\n",
       "      <th>1</th>\n",
       "      <td>2189</td>\n",
       "      <td>Ready-to-Wear</td>\n",
       "      <td>{'lqip': 'data:image/gif;base64,R0lGODlhBAAFAP...</td>\n",
       "      <td>1955</td>\n",
       "      <td>1955</td>\n",
       "      <td>1955</td>\n",
       "      <td>Stuart Davis\\nAmerican, 1892–1964</td>\n",
       "      <td>United States</td>\n",
       "      <td>Oil on canvas</td>\n",
       "      <td>False</td>\n",
       "      <td>None</td>\n",
       "      <td>34155</td>\n",
       "      <td>Stuart Davis</td>\n",
       "      <td>[painting, oil paint (paint), Modernism, oil p...</td>\n",
       "      <td>8a4e78cf-d284-f262-6c9d-0ad15bc2d43b</td>\n",
       "      <td>[]</td>\n",
       "      <td>[]</td>\n",
       "      <td>[]</td>\n",
       "      <td>[]</td>\n",
       "      <td>Large abstract painting with red, blue, white,...</td>\n",
       "    </tr>\n",
       "    <tr>\n",
       "      <th>2</th>\n",
       "      <td>2816</td>\n",
       "      <td>Interior at Nice</td>\n",
       "      <td>{'lqip': 'data:image/gif;base64,R0lGODlhAwAFAP...</td>\n",
       "      <td>1919</td>\n",
       "      <td>1920</td>\n",
       "      <td>1919 or 1920</td>\n",
       "      <td>Henri Matisse\\nFrench, 1869–1954</td>\n",
       "      <td>France</td>\n",
       "      <td>Oil on canvas</td>\n",
       "      <td>False</td>\n",
       "      <td>© 2018 Succession H. Matisse / Artists Rights ...</td>\n",
       "      <td>35670</td>\n",
       "      <td>Henri Matisse</td>\n",
       "      <td>[painting, oil painting, oil paint (paint), in...</td>\n",
       "      <td>2193cdda-2691-2802-0776-145dee77f7ea</td>\n",
       "      <td>[]</td>\n",
       "      <td>[]</td>\n",
       "      <td>[]</td>\n",
       "      <td>[]</td>\n",
       "      <td>Interior of warm colored room, woman sits on b...</td>\n",
       "    </tr>\n",
       "    <tr>\n",
       "      <th>3</th>\n",
       "      <td>4081</td>\n",
       "      <td>Gian Lodovico Madruzzo</td>\n",
       "      <td>{'lqip': 'data:image/gif;base64,R0lGODlhAwAFAP...</td>\n",
       "      <td>1551</td>\n",
       "      <td>1552</td>\n",
       "      <td>1551/52</td>\n",
       "      <td>Giovanni Battista Moroni\\nItalian, 1520/24-1578</td>\n",
       "      <td>Italy</td>\n",
       "      <td>Oil on canvas</td>\n",
       "      <td>True</td>\n",
       "      <td>None</td>\n",
       "      <td>35838</td>\n",
       "      <td>Giovanni Battista Moroni</td>\n",
       "      <td>[oil on canvas, Century of Progress, animals, ...</td>\n",
       "      <td>bc24fe7f-4171-c785-bff2-b2ed3777a47d</td>\n",
       "      <td>[1faeb566-bc3a-9792-97f4-4ef156bd924d]</td>\n",
       "      <td>[1faeb566-bc3a-9792-97f4-4ef156bd924d]</td>\n",
       "      <td>[]</td>\n",
       "      <td>[]</td>\n",
       "      <td>A man with sparse brown facial hair stands in ...</td>\n",
       "    </tr>\n",
       "    <tr>\n",
       "      <th>4</th>\n",
       "      <td>4428</td>\n",
       "      <td>Mère Grégoire</td>\n",
       "      <td>{'lqip': 'data:image/gif;base64,R0lGODlhBAAFAP...</td>\n",
       "      <td>1855</td>\n",
       "      <td>1859</td>\n",
       "      <td>1855 and 1857/59</td>\n",
       "      <td>Gustave Courbet\\nFrench, 1819-1877</td>\n",
       "      <td>France</td>\n",
       "      <td>Oil on canvas</td>\n",
       "      <td>True</td>\n",
       "      <td>None</td>\n",
       "      <td>34049</td>\n",
       "      <td>Gustave Courbet</td>\n",
       "      <td>[painting, oil painting, oil paint (paint), Ce...</td>\n",
       "      <td>2e6d08c8-dac0-4f1c-3e56-de3539ceb905</td>\n",
       "      <td>[]</td>\n",
       "      <td>[]</td>\n",
       "      <td>[]</td>\n",
       "      <td>[]</td>\n",
       "      <td>Dark portrait of older woman in black dress wi...</td>\n",
       "    </tr>\n",
       "    <tr>\n",
       "      <th>...</th>\n",
       "      <td>...</td>\n",
       "      <td>...</td>\n",
       "      <td>...</td>\n",
       "      <td>...</td>\n",
       "      <td>...</td>\n",
       "      <td>...</td>\n",
       "      <td>...</td>\n",
       "      <td>...</td>\n",
       "      <td>...</td>\n",
       "      <td>...</td>\n",
       "      <td>...</td>\n",
       "      <td>...</td>\n",
       "      <td>...</td>\n",
       "      <td>...</td>\n",
       "      <td>...</td>\n",
       "      <td>...</td>\n",
       "      <td>...</td>\n",
       "      <td>...</td>\n",
       "      <td>...</td>\n",
       "      <td>...</td>\n",
       "    </tr>\n",
       "    <tr>\n",
       "      <th>418</th>\n",
       "      <td>234004</td>\n",
       "      <td>Untitled 72–12–A</td>\n",
       "      <td>{'lqip': 'data:image/gif;base64,R0lGODlhBAAFAP...</td>\n",
       "      <td>1972</td>\n",
       "      <td>1972</td>\n",
       "      <td>1972</td>\n",
       "      <td>Chung Sang-Hwa\\nKorean, born 1932</td>\n",
       "      <td>None</td>\n",
       "      <td>Acrylic on canvas</td>\n",
       "      <td>False</td>\n",
       "      <td>None</td>\n",
       "      <td>114644</td>\n",
       "      <td>Chung, Sang-Hwa</td>\n",
       "      <td>[painting (image making), acrylic paint, patte...</td>\n",
       "      <td>86f8596f-6fc2-5f28-dc26-8526b5da2290</td>\n",
       "      <td>[]</td>\n",
       "      <td>[]</td>\n",
       "      <td>[]</td>\n",
       "      <td>[]</td>\n",
       "      <td>Abstracted colors of tan and brown, painted di...</td>\n",
       "    </tr>\n",
       "    <tr>\n",
       "      <th>419</th>\n",
       "      <td>234433</td>\n",
       "      <td>Involvement Series</td>\n",
       "      <td>{'lqip': 'data:image/gif;base64,R0lGODlhBAAFAP...</td>\n",
       "      <td>1968</td>\n",
       "      <td>1968</td>\n",
       "      <td>1968</td>\n",
       "      <td>Wanda Pimentel\\nBrazilian, 1943-2019</td>\n",
       "      <td>None</td>\n",
       "      <td>Vinyl on canvas</td>\n",
       "      <td>False</td>\n",
       "      <td>None</td>\n",
       "      <td>114672</td>\n",
       "      <td>Wanda Pimentel</td>\n",
       "      <td>[synthetic resin paint, clothing, painting, co...</td>\n",
       "      <td>0f6ffedf-d080-9528-9543-31087899ce57</td>\n",
       "      <td>[]</td>\n",
       "      <td>[]</td>\n",
       "      <td>[]</td>\n",
       "      <td>[]</td>\n",
       "      <td>Dark blue shades create the background with a ...</td>\n",
       "    </tr>\n",
       "    <tr>\n",
       "      <th>420</th>\n",
       "      <td>234781</td>\n",
       "      <td>Christ Carrying the Cross</td>\n",
       "      <td>{'lqip': 'data:image/gif;base64,R0lGODlhBAAFAP...</td>\n",
       "      <td>1515</td>\n",
       "      <td>1517</td>\n",
       "      <td>about 1515/1517</td>\n",
       "      <td>Sebastiano del Piombo \\nItalian, about 1485–1547</td>\n",
       "      <td>None</td>\n",
       "      <td>Oil on panel</td>\n",
       "      <td>True</td>\n",
       "      <td>None</td>\n",
       "      <td>41499</td>\n",
       "      <td>Sebastiano del Piombo</td>\n",
       "      <td>[painting, oil painting, oil paint (paint), Je...</td>\n",
       "      <td>13a251ba-2c7a-2d0c-3f65-820c0e1f1a39</td>\n",
       "      <td>[]</td>\n",
       "      <td>[]</td>\n",
       "      <td>[]</td>\n",
       "      <td>[]</td>\n",
       "      <td>A work made of oil on panel.</td>\n",
       "    </tr>\n",
       "    <tr>\n",
       "      <th>421</th>\n",
       "      <td>234972</td>\n",
       "      <td>Small Town by Day (Badische Kleinstadt bei Tage)</td>\n",
       "      <td>{'lqip': 'data:image/gif;base64,R0lGODlhBAAFAP...</td>\n",
       "      <td>1922</td>\n",
       "      <td>1923</td>\n",
       "      <td>1922–23</td>\n",
       "      <td>Georg Scholz\\nGerman, 1890–1945</td>\n",
       "      <td>None</td>\n",
       "      <td>Oil on board</td>\n",
       "      <td>False</td>\n",
       "      <td>None</td>\n",
       "      <td>57509</td>\n",
       "      <td>Georg Scholz</td>\n",
       "      <td>[oil painting, oil paint (paint), towns, paint...</td>\n",
       "      <td>cd773e50-2f0f-9d5d-e112-a5271164abf2</td>\n",
       "      <td>[]</td>\n",
       "      <td>[]</td>\n",
       "      <td>[]</td>\n",
       "      <td>[]</td>\n",
       "      <td>A work made of oil on board.</td>\n",
       "    </tr>\n",
       "    <tr>\n",
       "      <th>422</th>\n",
       "      <td>238749</td>\n",
       "      <td>Bottle Rack (Porte-Bouteilles)</td>\n",
       "      <td>{'lqip': 'data:image/gif;base64,R0lGODlhBQAFAP...</td>\n",
       "      <td>1958</td>\n",
       "      <td>1959</td>\n",
       "      <td>1914/1959</td>\n",
       "      <td>Marcel Duchamp\\nAmerican, born France, 1887–1968</td>\n",
       "      <td>None</td>\n",
       "      <td>Galvanized iron</td>\n",
       "      <td>False</td>\n",
       "      <td>None</td>\n",
       "      <td>34316</td>\n",
       "      <td>Marcel Duchamp</td>\n",
       "      <td>[metalworking, ready-mades, iron (metal), Surr...</td>\n",
       "      <td>aaf32d95-6c4f-9024-b536-f22a801f2f51</td>\n",
       "      <td>[]</td>\n",
       "      <td>[]</td>\n",
       "      <td>[]</td>\n",
       "      <td>[]</td>\n",
       "      <td>A work made of galvanized iron.</td>\n",
       "    </tr>\n",
       "  </tbody>\n",
       "</table>\n",
       "<p>423 rows × 20 columns</p>\n",
       "</div>"
      ],
      "text/plain": [
       "         id                                             title  \\\n",
       "0       869             The Watermill with the Great Red Roof   \n",
       "1      2189                                     Ready-to-Wear   \n",
       "2      2816                                  Interior at Nice   \n",
       "3      4081                            Gian Lodovico Madruzzo   \n",
       "4      4428                                     Mère Grégoire   \n",
       "..      ...                                               ...   \n",
       "418  234004                                  Untitled 72–12–A   \n",
       "419  234433                                Involvement Series   \n",
       "420  234781                         Christ Carrying the Cross   \n",
       "421  234972  Small Town by Day (Badische Kleinstadt bei Tage)   \n",
       "422  238749                    Bottle Rack (Porte-Bouteilles)   \n",
       "\n",
       "                                             thumbnail date_start date_end  \\\n",
       "0    {'lqip': 'data:image/gif;base64,R0lGODlhBwAFAP...       1665     1675   \n",
       "1    {'lqip': 'data:image/gif;base64,R0lGODlhBAAFAP...       1955     1955   \n",
       "2    {'lqip': 'data:image/gif;base64,R0lGODlhAwAFAP...       1919     1920   \n",
       "3    {'lqip': 'data:image/gif;base64,R0lGODlhAwAFAP...       1551     1552   \n",
       "4    {'lqip': 'data:image/gif;base64,R0lGODlhBAAFAP...       1855     1859   \n",
       "..                                                 ...        ...      ...   \n",
       "418  {'lqip': 'data:image/gif;base64,R0lGODlhBAAFAP...       1972     1972   \n",
       "419  {'lqip': 'data:image/gif;base64,R0lGODlhBAAFAP...       1968     1968   \n",
       "420  {'lqip': 'data:image/gif;base64,R0lGODlhBAAFAP...       1515     1517   \n",
       "421  {'lqip': 'data:image/gif;base64,R0lGODlhBAAFAP...       1922     1923   \n",
       "422  {'lqip': 'data:image/gif;base64,R0lGODlhBQAFAP...       1958     1959   \n",
       "\n",
       "         date_display                                    artist_display  \\\n",
       "0             1662/65                Meindert Hobbema\\nDutch, 1638–1709   \n",
       "1                1955                 Stuart Davis\\nAmerican, 1892–1964   \n",
       "2        1919 or 1920                  Henri Matisse\\nFrench, 1869–1954   \n",
       "3             1551/52   Giovanni Battista Moroni\\nItalian, 1520/24-1578   \n",
       "4    1855 and 1857/59                Gustave Courbet\\nFrench, 1819-1877   \n",
       "..                ...                                               ...   \n",
       "418              1972                 Chung Sang-Hwa\\nKorean, born 1932   \n",
       "419              1968              Wanda Pimentel\\nBrazilian, 1943-2019   \n",
       "420   about 1515/1517  Sebastiano del Piombo \\nItalian, about 1485–1547   \n",
       "421           1922–23                   Georg Scholz\\nGerman, 1890–1945   \n",
       "422         1914/1959  Marcel Duchamp\\nAmerican, born France, 1887–1968   \n",
       "\n",
       "    place_of_origin     medium_display is_public_domain  \\\n",
       "0           Holland      Oil on canvas             True   \n",
       "1     United States      Oil on canvas            False   \n",
       "2            France      Oil on canvas            False   \n",
       "3             Italy      Oil on canvas             True   \n",
       "4            France      Oil on canvas             True   \n",
       "..              ...                ...              ...   \n",
       "418            None  Acrylic on canvas            False   \n",
       "419            None    Vinyl on canvas            False   \n",
       "420            None       Oil on panel             True   \n",
       "421            None       Oil on board            False   \n",
       "422            None    Galvanized iron            False   \n",
       "\n",
       "                                      copyright_notice artist_id  \\\n",
       "0                                                 None     34954   \n",
       "1                                                 None     34155   \n",
       "2    © 2018 Succession H. Matisse / Artists Rights ...     35670   \n",
       "3                                                 None     35838   \n",
       "4                                                 None     34049   \n",
       "..                                                 ...       ...   \n",
       "418                                               None    114644   \n",
       "419                                               None    114672   \n",
       "420                                               None     41499   \n",
       "421                                               None     57509   \n",
       "422                                               None     34316   \n",
       "\n",
       "                 artist_title  \\\n",
       "0            Meindert Hobbema   \n",
       "1                Stuart Davis   \n",
       "2               Henri Matisse   \n",
       "3    Giovanni Battista Moroni   \n",
       "4             Gustave Courbet   \n",
       "..                        ...   \n",
       "418           Chung, Sang-Hwa   \n",
       "419            Wanda Pimentel   \n",
       "420     Sebastiano del Piombo   \n",
       "421              Georg Scholz   \n",
       "422            Marcel Duchamp   \n",
       "\n",
       "                                           term_titles  \\\n",
       "0    [oil on canvas, Century of Progress, Realism, ...   \n",
       "1    [painting, oil paint (paint), Modernism, oil p...   \n",
       "2    [painting, oil painting, oil paint (paint), in...   \n",
       "3    [oil on canvas, Century of Progress, animals, ...   \n",
       "4    [painting, oil painting, oil paint (paint), Ce...   \n",
       "..                                                 ...   \n",
       "418  [painting (image making), acrylic paint, patte...   \n",
       "419  [synthetic resin paint, clothing, painting, co...   \n",
       "420  [painting, oil painting, oil paint (paint), Je...   \n",
       "421  [oil painting, oil paint (paint), towns, paint...   \n",
       "422  [metalworking, ready-mades, iron (metal), Surr...   \n",
       "\n",
       "                                 image_id  \\\n",
       "0    237c25a2-6051-a8e7-1610-a01938d4deab   \n",
       "1    8a4e78cf-d284-f262-6c9d-0ad15bc2d43b   \n",
       "2    2193cdda-2691-2802-0776-145dee77f7ea   \n",
       "3    bc24fe7f-4171-c785-bff2-b2ed3777a47d   \n",
       "4    2e6d08c8-dac0-4f1c-3e56-de3539ceb905   \n",
       "..                                    ...   \n",
       "418  86f8596f-6fc2-5f28-dc26-8526b5da2290   \n",
       "419  0f6ffedf-d080-9528-9543-31087899ce57   \n",
       "420  13a251ba-2c7a-2d0c-3f65-820c0e1f1a39   \n",
       "421  cd773e50-2f0f-9d5d-e112-a5271164abf2   \n",
       "422  aaf32d95-6c4f-9024-b536-f22a801f2f51   \n",
       "\n",
       "                               document_ids  \\\n",
       "0    [fd2bd2c7-fb34-6e84-034a-49cb05ec4d6d]   \n",
       "1                                        []   \n",
       "2                                        []   \n",
       "3    [1faeb566-bc3a-9792-97f4-4ef156bd924d]   \n",
       "4                                        []   \n",
       "..                                      ...   \n",
       "418                                      []   \n",
       "419                                      []   \n",
       "420                                      []   \n",
       "421                                      []   \n",
       "422                                      []   \n",
       "\n",
       "                                  sound_ids video_ids text_ids  \\\n",
       "0    [fd2bd2c7-fb34-6e84-034a-49cb05ec4d6d]        []       []   \n",
       "1                                        []        []       []   \n",
       "2                                        []        []       []   \n",
       "3    [1faeb566-bc3a-9792-97f4-4ef156bd924d]        []       []   \n",
       "4                                        []        []       []   \n",
       "..                                      ...       ...      ...   \n",
       "418                                      []        []       []   \n",
       "419                                      []        []       []   \n",
       "420                                      []        []       []   \n",
       "421                                      []        []       []   \n",
       "422                                      []        []       []   \n",
       "\n",
       "                                              alt_text  \n",
       "0    Landscape painting featuring a wavy tree tree ...  \n",
       "1    Large abstract painting with red, blue, white,...  \n",
       "2    Interior of warm colored room, woman sits on b...  \n",
       "3    A man with sparse brown facial hair stands in ...  \n",
       "4    Dark portrait of older woman in black dress wi...  \n",
       "..                                                 ...  \n",
       "418  Abstracted colors of tan and brown, painted di...  \n",
       "419  Dark blue shades create the background with a ...  \n",
       "420                       A work made of oil on panel.  \n",
       "421                       A work made of oil on board.  \n",
       "422                    A work made of galvanized iron.  \n",
       "\n",
       "[423 rows x 20 columns]"
      ]
     },
     "execution_count": 439,
     "metadata": {},
     "output_type": "execute_result"
    }
   ],
   "source": [
    "artworks_df"
   ]
  },
  {
   "cell_type": "code",
   "execution_count": 443,
   "id": "31ae6276",
   "metadata": {
    "ExecuteTime": {
     "end_time": "2023-04-14T08:45:54.321468Z",
     "start_time": "2023-04-14T08:45:54.305474Z"
    }
   },
   "outputs": [],
   "source": [
    "artworks_df.to_csv('raw_data/csv/artic_topartworks.csv', encoding='utf-8-sig')"
   ]
  },
  {
   "cell_type": "markdown",
   "id": "15737952",
   "metadata": {},
   "source": [
    "* Create a subset of works in the public domain"
   ]
  },
  {
   "cell_type": "code",
   "execution_count": 444,
   "id": "70cfefc4",
   "metadata": {
    "ExecuteTime": {
     "end_time": "2023-04-14T08:46:38.038881Z",
     "start_time": "2023-04-14T08:46:38.034993Z"
    }
   },
   "outputs": [],
   "source": [
    "public_df = artworks_df[artworks_df['is_public_domain'] == True]"
   ]
  },
  {
   "cell_type": "code",
   "execution_count": 445,
   "id": "bfd96a15",
   "metadata": {
    "ExecuteTime": {
     "end_time": "2023-04-14T08:46:38.343821Z",
     "start_time": "2023-04-14T08:46:38.321483Z"
    }
   },
   "outputs": [
    {
     "data": {
      "text/html": [
       "<div>\n",
       "<style scoped>\n",
       "    .dataframe tbody tr th:only-of-type {\n",
       "        vertical-align: middle;\n",
       "    }\n",
       "\n",
       "    .dataframe tbody tr th {\n",
       "        vertical-align: top;\n",
       "    }\n",
       "\n",
       "    .dataframe thead th {\n",
       "        text-align: right;\n",
       "    }\n",
       "</style>\n",
       "<table border=\"1\" class=\"dataframe\">\n",
       "  <thead>\n",
       "    <tr style=\"text-align: right;\">\n",
       "      <th></th>\n",
       "      <th>id</th>\n",
       "      <th>title</th>\n",
       "      <th>thumbnail</th>\n",
       "      <th>date_start</th>\n",
       "      <th>date_end</th>\n",
       "      <th>date_display</th>\n",
       "      <th>artist_display</th>\n",
       "      <th>place_of_origin</th>\n",
       "      <th>medium_display</th>\n",
       "      <th>is_public_domain</th>\n",
       "      <th>copyright_notice</th>\n",
       "      <th>artist_id</th>\n",
       "      <th>artist_title</th>\n",
       "      <th>term_titles</th>\n",
       "      <th>image_id</th>\n",
       "      <th>document_ids</th>\n",
       "      <th>sound_ids</th>\n",
       "      <th>video_ids</th>\n",
       "      <th>text_ids</th>\n",
       "      <th>alt_text</th>\n",
       "    </tr>\n",
       "  </thead>\n",
       "  <tbody>\n",
       "    <tr>\n",
       "      <th>0</th>\n",
       "      <td>869</td>\n",
       "      <td>The Watermill with the Great Red Roof</td>\n",
       "      <td>{'lqip': 'data:image/gif;base64,R0lGODlhBwAFAP...</td>\n",
       "      <td>1665</td>\n",
       "      <td>1675</td>\n",
       "      <td>1662/65</td>\n",
       "      <td>Meindert Hobbema\\nDutch, 1638–1709</td>\n",
       "      <td>Holland</td>\n",
       "      <td>Oil on canvas</td>\n",
       "      <td>True</td>\n",
       "      <td>None</td>\n",
       "      <td>34954</td>\n",
       "      <td>Meindert Hobbema</td>\n",
       "      <td>[oil on canvas, Century of Progress, Realism, ...</td>\n",
       "      <td>237c25a2-6051-a8e7-1610-a01938d4deab</td>\n",
       "      <td>[fd2bd2c7-fb34-6e84-034a-49cb05ec4d6d]</td>\n",
       "      <td>[fd2bd2c7-fb34-6e84-034a-49cb05ec4d6d]</td>\n",
       "      <td>[]</td>\n",
       "      <td>[]</td>\n",
       "      <td>Landscape painting featuring a wavy tree tree ...</td>\n",
       "    </tr>\n",
       "    <tr>\n",
       "      <th>3</th>\n",
       "      <td>4081</td>\n",
       "      <td>Gian Lodovico Madruzzo</td>\n",
       "      <td>{'lqip': 'data:image/gif;base64,R0lGODlhAwAFAP...</td>\n",
       "      <td>1551</td>\n",
       "      <td>1552</td>\n",
       "      <td>1551/52</td>\n",
       "      <td>Giovanni Battista Moroni\\nItalian, 1520/24-1578</td>\n",
       "      <td>Italy</td>\n",
       "      <td>Oil on canvas</td>\n",
       "      <td>True</td>\n",
       "      <td>None</td>\n",
       "      <td>35838</td>\n",
       "      <td>Giovanni Battista Moroni</td>\n",
       "      <td>[oil on canvas, Century of Progress, animals, ...</td>\n",
       "      <td>bc24fe7f-4171-c785-bff2-b2ed3777a47d</td>\n",
       "      <td>[1faeb566-bc3a-9792-97f4-4ef156bd924d]</td>\n",
       "      <td>[1faeb566-bc3a-9792-97f4-4ef156bd924d]</td>\n",
       "      <td>[]</td>\n",
       "      <td>[]</td>\n",
       "      <td>A man with sparse brown facial hair stands in ...</td>\n",
       "    </tr>\n",
       "    <tr>\n",
       "      <th>4</th>\n",
       "      <td>4428</td>\n",
       "      <td>Mère Grégoire</td>\n",
       "      <td>{'lqip': 'data:image/gif;base64,R0lGODlhBAAFAP...</td>\n",
       "      <td>1855</td>\n",
       "      <td>1859</td>\n",
       "      <td>1855 and 1857/59</td>\n",
       "      <td>Gustave Courbet\\nFrench, 1819-1877</td>\n",
       "      <td>France</td>\n",
       "      <td>Oil on canvas</td>\n",
       "      <td>True</td>\n",
       "      <td>None</td>\n",
       "      <td>34049</td>\n",
       "      <td>Gustave Courbet</td>\n",
       "      <td>[painting, oil painting, oil paint (paint), Ce...</td>\n",
       "      <td>2e6d08c8-dac0-4f1c-3e56-de3539ceb905</td>\n",
       "      <td>[]</td>\n",
       "      <td>[]</td>\n",
       "      <td>[]</td>\n",
       "      <td>[]</td>\n",
       "      <td>Dark portrait of older woman in black dress wi...</td>\n",
       "    </tr>\n",
       "    <tr>\n",
       "      <th>5</th>\n",
       "      <td>4575</td>\n",
       "      <td>Judith</td>\n",
       "      <td>{'lqip': 'data:image/gif;base64,R0lGODlhBAAFAP...</td>\n",
       "      <td>1495</td>\n",
       "      <td>1580</td>\n",
       "      <td>about 1540</td>\n",
       "      <td>Jan Sanders van Hemessen\\nNetherlandish, activ...</td>\n",
       "      <td>Netherlands</td>\n",
       "      <td>Oil on panel</td>\n",
       "      <td>True</td>\n",
       "      <td>None</td>\n",
       "      <td>11328</td>\n",
       "      <td>Jan Sanders van Hemessen</td>\n",
       "      <td>[oil on panel, women, oil painting, oil paint ...</td>\n",
       "      <td>5b9758c9-24ef-8661-fac0-c9a4229eefd4</td>\n",
       "      <td>[cb4b2557-071d-cb64-7195-2adc92592584, 28d1af9...</td>\n",
       "      <td>[28d1af93-d306-1886-94a0-6e4c8420fb8a]</td>\n",
       "      <td>[]</td>\n",
       "      <td>[cb4b2557-071d-cb64-7195-2adc92592584]</td>\n",
       "      <td>Painting of Judith, naked, holding sword, with...</td>\n",
       "    </tr>\n",
       "    <tr>\n",
       "      <th>6</th>\n",
       "      <td>4758</td>\n",
       "      <td>Stoke-by-Nayland</td>\n",
       "      <td>{'lqip': 'data:image/gif;base64,R0lGODlhBwAFAP...</td>\n",
       "      <td>1836</td>\n",
       "      <td>1836</td>\n",
       "      <td>1836</td>\n",
       "      <td>John Constable\\nEnglish, 1776-1837</td>\n",
       "      <td>England</td>\n",
       "      <td>Oil on canvas</td>\n",
       "      <td>True</td>\n",
       "      <td>None</td>\n",
       "      <td>34023</td>\n",
       "      <td>John Constable</td>\n",
       "      <td>[oil on canvas, 19th century, oil painting, oi...</td>\n",
       "      <td>400ce9e8-2f67-44e2-dd68-e6c98880d27f</td>\n",
       "      <td>[86aaf438-63d2-52ea-f883-e81dac4ee695]</td>\n",
       "      <td>[86aaf438-63d2-52ea-f883-e81dac4ee695]</td>\n",
       "      <td>[]</td>\n",
       "      <td>[]</td>\n",
       "      <td>Large English country landscape painting, farm...</td>\n",
       "    </tr>\n",
       "    <tr>\n",
       "      <th>...</th>\n",
       "      <td>...</td>\n",
       "      <td>...</td>\n",
       "      <td>...</td>\n",
       "      <td>...</td>\n",
       "      <td>...</td>\n",
       "      <td>...</td>\n",
       "      <td>...</td>\n",
       "      <td>...</td>\n",
       "      <td>...</td>\n",
       "      <td>...</td>\n",
       "      <td>...</td>\n",
       "      <td>...</td>\n",
       "      <td>...</td>\n",
       "      <td>...</td>\n",
       "      <td>...</td>\n",
       "      <td>...</td>\n",
       "      <td>...</td>\n",
       "      <td>...</td>\n",
       "      <td>...</td>\n",
       "      <td>...</td>\n",
       "    </tr>\n",
       "    <tr>\n",
       "      <th>395</th>\n",
       "      <td>193664</td>\n",
       "      <td>The Captive Slave (Ira Aldridge)</td>\n",
       "      <td>{'lqip': 'data:image/gif;base64,R0lGODlhBAAFAP...</td>\n",
       "      <td>1827</td>\n",
       "      <td>1827</td>\n",
       "      <td>1827</td>\n",
       "      <td>John Philip Simpson\\nEnglish, 1782–1847</td>\n",
       "      <td>None</td>\n",
       "      <td>Oil on canvas</td>\n",
       "      <td>True</td>\n",
       "      <td>None</td>\n",
       "      <td>107195</td>\n",
       "      <td>John Philip Simpson</td>\n",
       "      <td>[men, oil painting, oil paint (paint), paintin...</td>\n",
       "      <td>5c3cbb0f-03e6-7d46-60b6-f612ed71b5d3</td>\n",
       "      <td>[e694a130-f9f9-d8e0-d06b-0c922636f6df]</td>\n",
       "      <td>[e694a130-f9f9-d8e0-d06b-0c922636f6df]</td>\n",
       "      <td>[]</td>\n",
       "      <td>[]</td>\n",
       "      <td>Painting of a dark-skinned man seated and wear...</td>\n",
       "    </tr>\n",
       "    <tr>\n",
       "      <th>399</th>\n",
       "      <td>199854</td>\n",
       "      <td>Shaffron</td>\n",
       "      <td>{'lqip': 'data:image/gif;base64,R0lGODlhBAAFAP...</td>\n",
       "      <td>1550</td>\n",
       "      <td>1600</td>\n",
       "      <td>c. 1575</td>\n",
       "      <td>Italian, Milan</td>\n",
       "      <td>Italy</td>\n",
       "      <td>Steel with gilding</td>\n",
       "      <td>True</td>\n",
       "      <td>None</td>\n",
       "      <td>None</td>\n",
       "      <td>None</td>\n",
       "      <td>[horses, gilding, steel, horse equipment, plan...</td>\n",
       "      <td>cac09e60-7c12-5088-3efa-e145b3b47c5b</td>\n",
       "      <td>[]</td>\n",
       "      <td>[]</td>\n",
       "      <td>[]</td>\n",
       "      <td>[]</td>\n",
       "      <td>Steel horse helmet, brass trim, protruding spike.</td>\n",
       "    </tr>\n",
       "    <tr>\n",
       "      <th>401</th>\n",
       "      <td>210482</td>\n",
       "      <td>I'timad-ud-Daula's Tomb at Agra</td>\n",
       "      <td>{'lqip': 'data:image/gif;base64,R0lGODlhBwAFAP...</td>\n",
       "      <td>1815</td>\n",
       "      <td>1825</td>\n",
       "      <td>c. 1820</td>\n",
       "      <td>India\\nAgra</td>\n",
       "      <td>India</td>\n",
       "      <td>Watercolor on paper watermarked J. Whatman wit...</td>\n",
       "      <td>True</td>\n",
       "      <td>None</td>\n",
       "      <td>None</td>\n",
       "      <td>None</td>\n",
       "      <td>[paper (fiber product), painting (image making...</td>\n",
       "      <td>36e70de8-0ba3-2fe5-dd2e-53612b48a395</td>\n",
       "      <td>[]</td>\n",
       "      <td>[]</td>\n",
       "      <td>[]</td>\n",
       "      <td>[]</td>\n",
       "      <td>A work made of watercolor on paper watermarked...</td>\n",
       "    </tr>\n",
       "    <tr>\n",
       "      <th>402</th>\n",
       "      <td>210511</td>\n",
       "      <td>A Monumental Portrait of a Monkey</td>\n",
       "      <td>{'lqip': 'data:image/gif;base64,R0lGODlhBgAFAP...</td>\n",
       "      <td>1700</td>\n",
       "      <td>1715</td>\n",
       "      <td>c. 1705–1710</td>\n",
       "      <td>India\\nRajasthan, Mewar, Udaipur, attributed t...</td>\n",
       "      <td>India</td>\n",
       "      <td>Opaque watercolor and gold on paper</td>\n",
       "      <td>True</td>\n",
       "      <td>None</td>\n",
       "      <td>None</td>\n",
       "      <td>None</td>\n",
       "      <td>[paper (fiber product), painting (image making...</td>\n",
       "      <td>67c7274f-612f-3180-0a12-e2c7ed5a7dd4</td>\n",
       "      <td>[]</td>\n",
       "      <td>[]</td>\n",
       "      <td>[]</td>\n",
       "      <td>[]</td>\n",
       "      <td>A work made of opaque watercolor and gold on p...</td>\n",
       "    </tr>\n",
       "    <tr>\n",
       "      <th>420</th>\n",
       "      <td>234781</td>\n",
       "      <td>Christ Carrying the Cross</td>\n",
       "      <td>{'lqip': 'data:image/gif;base64,R0lGODlhBAAFAP...</td>\n",
       "      <td>1515</td>\n",
       "      <td>1517</td>\n",
       "      <td>about 1515/1517</td>\n",
       "      <td>Sebastiano del Piombo \\nItalian, about 1485–1547</td>\n",
       "      <td>None</td>\n",
       "      <td>Oil on panel</td>\n",
       "      <td>True</td>\n",
       "      <td>None</td>\n",
       "      <td>41499</td>\n",
       "      <td>Sebastiano del Piombo</td>\n",
       "      <td>[painting, oil painting, oil paint (paint), Je...</td>\n",
       "      <td>13a251ba-2c7a-2d0c-3f65-820c0e1f1a39</td>\n",
       "      <td>[]</td>\n",
       "      <td>[]</td>\n",
       "      <td>[]</td>\n",
       "      <td>[]</td>\n",
       "      <td>A work made of oil on panel.</td>\n",
       "    </tr>\n",
       "  </tbody>\n",
       "</table>\n",
       "<p>225 rows × 20 columns</p>\n",
       "</div>"
      ],
      "text/plain": [
       "         id                                  title  \\\n",
       "0       869  The Watermill with the Great Red Roof   \n",
       "3      4081                 Gian Lodovico Madruzzo   \n",
       "4      4428                          Mère Grégoire   \n",
       "5      4575                                 Judith   \n",
       "6      4758                       Stoke-by-Nayland   \n",
       "..      ...                                    ...   \n",
       "395  193664       The Captive Slave (Ira Aldridge)   \n",
       "399  199854                               Shaffron   \n",
       "401  210482        I'timad-ud-Daula's Tomb at Agra   \n",
       "402  210511      A Monumental Portrait of a Monkey   \n",
       "420  234781              Christ Carrying the Cross   \n",
       "\n",
       "                                             thumbnail date_start date_end  \\\n",
       "0    {'lqip': 'data:image/gif;base64,R0lGODlhBwAFAP...       1665     1675   \n",
       "3    {'lqip': 'data:image/gif;base64,R0lGODlhAwAFAP...       1551     1552   \n",
       "4    {'lqip': 'data:image/gif;base64,R0lGODlhBAAFAP...       1855     1859   \n",
       "5    {'lqip': 'data:image/gif;base64,R0lGODlhBAAFAP...       1495     1580   \n",
       "6    {'lqip': 'data:image/gif;base64,R0lGODlhBwAFAP...       1836     1836   \n",
       "..                                                 ...        ...      ...   \n",
       "395  {'lqip': 'data:image/gif;base64,R0lGODlhBAAFAP...       1827     1827   \n",
       "399  {'lqip': 'data:image/gif;base64,R0lGODlhBAAFAP...       1550     1600   \n",
       "401  {'lqip': 'data:image/gif;base64,R0lGODlhBwAFAP...       1815     1825   \n",
       "402  {'lqip': 'data:image/gif;base64,R0lGODlhBgAFAP...       1700     1715   \n",
       "420  {'lqip': 'data:image/gif;base64,R0lGODlhBAAFAP...       1515     1517   \n",
       "\n",
       "         date_display                                     artist_display  \\\n",
       "0             1662/65                 Meindert Hobbema\\nDutch, 1638–1709   \n",
       "3             1551/52    Giovanni Battista Moroni\\nItalian, 1520/24-1578   \n",
       "4    1855 and 1857/59                 Gustave Courbet\\nFrench, 1819-1877   \n",
       "5          about 1540  Jan Sanders van Hemessen\\nNetherlandish, activ...   \n",
       "6                1836                 John Constable\\nEnglish, 1776-1837   \n",
       "..                ...                                                ...   \n",
       "395              1827            John Philip Simpson\\nEnglish, 1782–1847   \n",
       "399           c. 1575                                     Italian, Milan   \n",
       "401           c. 1820                                        India\\nAgra   \n",
       "402      c. 1705–1710  India\\nRajasthan, Mewar, Udaipur, attributed t...   \n",
       "420   about 1515/1517   Sebastiano del Piombo \\nItalian, about 1485–1547   \n",
       "\n",
       "    place_of_origin                                     medium_display  \\\n",
       "0           Holland                                      Oil on canvas   \n",
       "3             Italy                                      Oil on canvas   \n",
       "4            France                                      Oil on canvas   \n",
       "5       Netherlands                                       Oil on panel   \n",
       "6           England                                      Oil on canvas   \n",
       "..              ...                                                ...   \n",
       "395            None                                      Oil on canvas   \n",
       "399           Italy                                 Steel with gilding   \n",
       "401           India  Watercolor on paper watermarked J. Whatman wit...   \n",
       "402           India                Opaque watercolor and gold on paper   \n",
       "420            None                                       Oil on panel   \n",
       "\n",
       "    is_public_domain copyright_notice artist_id              artist_title  \\\n",
       "0               True             None     34954          Meindert Hobbema   \n",
       "3               True             None     35838  Giovanni Battista Moroni   \n",
       "4               True             None     34049           Gustave Courbet   \n",
       "5               True             None     11328  Jan Sanders van Hemessen   \n",
       "6               True             None     34023            John Constable   \n",
       "..               ...              ...       ...                       ...   \n",
       "395             True             None    107195       John Philip Simpson   \n",
       "399             True             None      None                      None   \n",
       "401             True             None      None                      None   \n",
       "402             True             None      None                      None   \n",
       "420             True             None     41499     Sebastiano del Piombo   \n",
       "\n",
       "                                           term_titles  \\\n",
       "0    [oil on canvas, Century of Progress, Realism, ...   \n",
       "3    [oil on canvas, Century of Progress, animals, ...   \n",
       "4    [painting, oil painting, oil paint (paint), Ce...   \n",
       "5    [oil on panel, women, oil painting, oil paint ...   \n",
       "6    [oil on canvas, 19th century, oil painting, oi...   \n",
       "..                                                 ...   \n",
       "395  [men, oil painting, oil paint (paint), paintin...   \n",
       "399  [horses, gilding, steel, horse equipment, plan...   \n",
       "401  [paper (fiber product), painting (image making...   \n",
       "402  [paper (fiber product), painting (image making...   \n",
       "420  [painting, oil painting, oil paint (paint), Je...   \n",
       "\n",
       "                                 image_id  \\\n",
       "0    237c25a2-6051-a8e7-1610-a01938d4deab   \n",
       "3    bc24fe7f-4171-c785-bff2-b2ed3777a47d   \n",
       "4    2e6d08c8-dac0-4f1c-3e56-de3539ceb905   \n",
       "5    5b9758c9-24ef-8661-fac0-c9a4229eefd4   \n",
       "6    400ce9e8-2f67-44e2-dd68-e6c98880d27f   \n",
       "..                                    ...   \n",
       "395  5c3cbb0f-03e6-7d46-60b6-f612ed71b5d3   \n",
       "399  cac09e60-7c12-5088-3efa-e145b3b47c5b   \n",
       "401  36e70de8-0ba3-2fe5-dd2e-53612b48a395   \n",
       "402  67c7274f-612f-3180-0a12-e2c7ed5a7dd4   \n",
       "420  13a251ba-2c7a-2d0c-3f65-820c0e1f1a39   \n",
       "\n",
       "                                          document_ids  \\\n",
       "0               [fd2bd2c7-fb34-6e84-034a-49cb05ec4d6d]   \n",
       "3               [1faeb566-bc3a-9792-97f4-4ef156bd924d]   \n",
       "4                                                   []   \n",
       "5    [cb4b2557-071d-cb64-7195-2adc92592584, 28d1af9...   \n",
       "6               [86aaf438-63d2-52ea-f883-e81dac4ee695]   \n",
       "..                                                 ...   \n",
       "395             [e694a130-f9f9-d8e0-d06b-0c922636f6df]   \n",
       "399                                                 []   \n",
       "401                                                 []   \n",
       "402                                                 []   \n",
       "420                                                 []   \n",
       "\n",
       "                                  sound_ids video_ids  \\\n",
       "0    [fd2bd2c7-fb34-6e84-034a-49cb05ec4d6d]        []   \n",
       "3    [1faeb566-bc3a-9792-97f4-4ef156bd924d]        []   \n",
       "4                                        []        []   \n",
       "5    [28d1af93-d306-1886-94a0-6e4c8420fb8a]        []   \n",
       "6    [86aaf438-63d2-52ea-f883-e81dac4ee695]        []   \n",
       "..                                      ...       ...   \n",
       "395  [e694a130-f9f9-d8e0-d06b-0c922636f6df]        []   \n",
       "399                                      []        []   \n",
       "401                                      []        []   \n",
       "402                                      []        []   \n",
       "420                                      []        []   \n",
       "\n",
       "                                   text_ids  \\\n",
       "0                                        []   \n",
       "3                                        []   \n",
       "4                                        []   \n",
       "5    [cb4b2557-071d-cb64-7195-2adc92592584]   \n",
       "6                                        []   \n",
       "..                                      ...   \n",
       "395                                      []   \n",
       "399                                      []   \n",
       "401                                      []   \n",
       "402                                      []   \n",
       "420                                      []   \n",
       "\n",
       "                                              alt_text  \n",
       "0    Landscape painting featuring a wavy tree tree ...  \n",
       "3    A man with sparse brown facial hair stands in ...  \n",
       "4    Dark portrait of older woman in black dress wi...  \n",
       "5    Painting of Judith, naked, holding sword, with...  \n",
       "6    Large English country landscape painting, farm...  \n",
       "..                                                 ...  \n",
       "395  Painting of a dark-skinned man seated and wear...  \n",
       "399  Steel horse helmet, brass trim, protruding spike.  \n",
       "401  A work made of watercolor on paper watermarked...  \n",
       "402  A work made of opaque watercolor and gold on p...  \n",
       "420                       A work made of oil on panel.  \n",
       "\n",
       "[225 rows x 20 columns]"
      ]
     },
     "execution_count": 445,
     "metadata": {},
     "output_type": "execute_result"
    }
   ],
   "source": [
    "public_df"
   ]
  },
  {
   "cell_type": "code",
   "execution_count": 446,
   "id": "a134bae6",
   "metadata": {
    "ExecuteTime": {
     "end_time": "2023-04-14T08:46:42.650066Z",
     "start_time": "2023-04-14T08:46:42.640974Z"
    }
   },
   "outputs": [],
   "source": [
    "public_df.to_csv('raw_data/csv/artic_topartworks_public.csv', encoding='utf-8-sig')"
   ]
  },
  {
   "cell_type": "markdown",
   "id": "703357d1",
   "metadata": {
    "ExecuteTime": {
     "end_time": "2023-04-14T07:19:28.821605Z",
     "start_time": "2023-04-14T07:19:28.818346Z"
    }
   },
   "source": [
    "* Save images to disk at a rate limit of 1 per second"
   ]
  },
  {
   "cell_type": "code",
   "execution_count": 371,
   "id": "dd11dc2e",
   "metadata": {
    "ExecuteTime": {
     "end_time": "2023-04-14T07:56:33.539152Z",
     "start_time": "2023-04-14T07:56:33.536645Z"
    }
   },
   "outputs": [],
   "source": [
    "output_folder = 'raw_data/img/artic_topartworks_public'\n",
    "if not os.path.exists(output_folder):\n",
    "    os.makedirs(output_folder)"
   ]
  },
  {
   "cell_type": "code",
   "execution_count": 372,
   "id": "65eea327",
   "metadata": {
    "ExecuteTime": {
     "end_time": "2023-04-14T08:00:36.641842Z",
     "start_time": "2023-04-14T07:56:34.552341Z"
    }
   },
   "outputs": [
    {
     "name": "stderr",
     "output_type": "stream",
     "text": [
      "\r",
      "0it [00:00, ?it/s]"
     ]
    },
    {
     "name": "stdout",
     "output_type": "stream",
     "text": [
      "download https://www.artic.edu/iiif/2/237c25a2-6051-a8e7-1610-a01938d4deab/full/843,/0/default.jpg\n"
     ]
    },
    {
     "name": "stderr",
     "output_type": "stream",
     "text": [
      "\r",
      "1it [00:01,  1.05s/it]"
     ]
    },
    {
     "name": "stdout",
     "output_type": "stream",
     "text": [
      "download https://www.artic.edu/iiif/2/bc24fe7f-4171-c785-bff2-b2ed3777a47d/full/843,/0/default.jpg\n"
     ]
    },
    {
     "name": "stderr",
     "output_type": "stream",
     "text": [
      "\r",
      "2it [00:02,  1.06s/it]"
     ]
    },
    {
     "name": "stdout",
     "output_type": "stream",
     "text": [
      "download https://www.artic.edu/iiif/2/2e6d08c8-dac0-4f1c-3e56-de3539ceb905/full/843,/0/default.jpg\n"
     ]
    },
    {
     "name": "stderr",
     "output_type": "stream",
     "text": [
      "\r",
      "3it [00:03,  1.07s/it]"
     ]
    },
    {
     "name": "stdout",
     "output_type": "stream",
     "text": [
      "download https://www.artic.edu/iiif/2/5b9758c9-24ef-8661-fac0-c9a4229eefd4/full/843,/0/default.jpg\n"
     ]
    },
    {
     "name": "stderr",
     "output_type": "stream",
     "text": [
      "\r",
      "4it [00:04,  1.07s/it]"
     ]
    },
    {
     "name": "stdout",
     "output_type": "stream",
     "text": [
      "download https://www.artic.edu/iiif/2/400ce9e8-2f67-44e2-dd68-e6c98880d27f/full/843,/0/default.jpg\n"
     ]
    },
    {
     "name": "stderr",
     "output_type": "stream",
     "text": [
      "\r",
      "5it [00:05,  1.07s/it]"
     ]
    },
    {
     "name": "stdout",
     "output_type": "stream",
     "text": [
      "download https://www.artic.edu/iiif/2/0052fc88-353e-db97-8741-b6b5ec6fb354/full/843,/0/default.jpg\n"
     ]
    },
    {
     "name": "stderr",
     "output_type": "stream",
     "text": [
      "\r",
      "6it [00:06,  1.07s/it]"
     ]
    },
    {
     "name": "stdout",
     "output_type": "stream",
     "text": [
      "download https://www.artic.edu/iiif/2/5a047a1c-d36e-e88d-05e7-845d3936159b/full/843,/0/default.jpg\n"
     ]
    },
    {
     "name": "stderr",
     "output_type": "stream",
     "text": [
      "\r",
      "7it [00:07,  1.08s/it]"
     ]
    },
    {
     "name": "stdout",
     "output_type": "stream",
     "text": [
      "download https://www.artic.edu/iiif/2/8641479e-c93e-f1a8-9925-19be061706da/full/843,/0/default.jpg\n"
     ]
    },
    {
     "name": "stderr",
     "output_type": "stream",
     "text": [
      "\r",
      "8it [00:08,  1.07s/it]"
     ]
    },
    {
     "name": "stdout",
     "output_type": "stream",
     "text": [
      "download https://www.artic.edu/iiif/2/aa870b0d-5a1b-660a-6dc6-56c12109cf6e/full/843,/0/default.jpg\n"
     ]
    },
    {
     "name": "stderr",
     "output_type": "stream",
     "text": [
      "\r",
      "9it [00:09,  1.07s/it]"
     ]
    },
    {
     "name": "stdout",
     "output_type": "stream",
     "text": [
      "download https://www.artic.edu/iiif/2/21c98476-4704-604e-dac4-c650b5e62f9f/full/843,/0/default.jpg\n"
     ]
    },
    {
     "name": "stderr",
     "output_type": "stream",
     "text": [
      "\r",
      "10it [00:10,  1.06s/it]"
     ]
    },
    {
     "name": "stdout",
     "output_type": "stream",
     "text": [
      "download https://www.artic.edu/iiif/2/43165650-0212-8897-0605-dc3fdda88c13/full/843,/0/default.jpg\n"
     ]
    },
    {
     "name": "stderr",
     "output_type": "stream",
     "text": [
      "\r",
      "11it [00:11,  1.07s/it]"
     ]
    },
    {
     "name": "stdout",
     "output_type": "stream",
     "text": [
      "download https://www.artic.edu/iiif/2/9e00e226-9264-cda0-2893-685e0ca5b285/full/843,/0/default.jpg\n"
     ]
    },
    {
     "name": "stderr",
     "output_type": "stream",
     "text": [
      "\r",
      "12it [00:12,  1.07s/it]"
     ]
    },
    {
     "name": "stdout",
     "output_type": "stream",
     "text": [
      "download https://www.artic.edu/iiif/2/2e28c794-3fed-bd00-ed01-64c46cee9b7e/full/843,/0/default.jpg\n"
     ]
    },
    {
     "name": "stderr",
     "output_type": "stream",
     "text": [
      "\r",
      "13it [00:13,  1.07s/it]"
     ]
    },
    {
     "name": "stdout",
     "output_type": "stream",
     "text": [
      "download https://www.artic.edu/iiif/2/1914a6cb-8ec7-064e-4c99-de41637f889c/full/843,/0/default.jpg\n"
     ]
    },
    {
     "name": "stderr",
     "output_type": "stream",
     "text": [
      "\r",
      "14it [00:14,  1.06s/it]"
     ]
    },
    {
     "name": "stdout",
     "output_type": "stream",
     "text": [
      "download https://www.artic.edu/iiif/2/cd6b410d-e512-4ac8-ea17-cd631509e2df/full/843,/0/default.jpg\n"
     ]
    },
    {
     "name": "stderr",
     "output_type": "stream",
     "text": [
      "\r",
      "15it [00:16,  1.06s/it]"
     ]
    },
    {
     "name": "stdout",
     "output_type": "stream",
     "text": [
      "download https://www.artic.edu/iiif/2/1f5b595f-dbbd-3c9d-ca49-9263c3d93841/full/843,/0/default.jpg\n"
     ]
    },
    {
     "name": "stderr",
     "output_type": "stream",
     "text": [
      "\r",
      "16it [00:17,  1.06s/it]"
     ]
    },
    {
     "name": "stdout",
     "output_type": "stream",
     "text": [
      "download https://www.artic.edu/iiif/2/78c80988-6524-cec7-c661-a4c0a706d06f/full/843,/0/default.jpg\n"
     ]
    },
    {
     "name": "stderr",
     "output_type": "stream",
     "text": [
      "\r",
      "17it [00:18,  1.06s/it]"
     ]
    },
    {
     "name": "stdout",
     "output_type": "stream",
     "text": [
      "download https://www.artic.edu/iiif/2/bc2824ae-b75f-e76f-23f9-0e7e7f8f628e/full/843,/0/default.jpg\n"
     ]
    },
    {
     "name": "stderr",
     "output_type": "stream",
     "text": [
      "\r",
      "18it [00:19,  1.06s/it]"
     ]
    },
    {
     "name": "stdout",
     "output_type": "stream",
     "text": [
      "download https://www.artic.edu/iiif/2/6f513908-03cc-b974-633b-adfce56b7936/full/843,/0/default.jpg\n"
     ]
    },
    {
     "name": "stderr",
     "output_type": "stream",
     "text": [
      "\r",
      "19it [00:20,  1.06s/it]"
     ]
    },
    {
     "name": "stdout",
     "output_type": "stream",
     "text": [
      "download https://www.artic.edu/iiif/2/ba4d7ead-bd10-e02d-6f5f-613050d7062e/full/843,/0/default.jpg\n"
     ]
    },
    {
     "name": "stderr",
     "output_type": "stream",
     "text": [
      "\r",
      "20it [00:21,  1.07s/it]"
     ]
    },
    {
     "name": "stdout",
     "output_type": "stream",
     "text": [
      "download https://www.artic.edu/iiif/2/fd991fea-0c13-8444-7879-aba467f1d9db/full/843,/0/default.jpg\n"
     ]
    },
    {
     "name": "stderr",
     "output_type": "stream",
     "text": [
      "\r",
      "21it [00:22,  1.07s/it]"
     ]
    },
    {
     "name": "stdout",
     "output_type": "stream",
     "text": [
      "download https://www.artic.edu/iiif/2/95be2572-b53d-8e7b-abc9-10eb48d4fa5d/full/843,/0/default.jpg\n"
     ]
    },
    {
     "name": "stderr",
     "output_type": "stream",
     "text": [
      "\r",
      "22it [00:23,  1.07s/it]"
     ]
    },
    {
     "name": "stdout",
     "output_type": "stream",
     "text": [
      "download https://www.artic.edu/iiif/2/3a608f55-d76e-fa96-d0b1-0789fbc48f1e/full/843,/0/default.jpg\n"
     ]
    },
    {
     "name": "stderr",
     "output_type": "stream",
     "text": [
      "\r",
      "23it [00:24,  1.07s/it]"
     ]
    },
    {
     "name": "stdout",
     "output_type": "stream",
     "text": [
      "download https://www.artic.edu/iiif/2/09d2b000-8e44-c735-5099-126d6453aaaa/full/843,/0/default.jpg\n"
     ]
    },
    {
     "name": "stderr",
     "output_type": "stream",
     "text": [
      "\r",
      "24it [00:25,  1.07s/it]"
     ]
    },
    {
     "name": "stdout",
     "output_type": "stream",
     "text": [
      "download https://www.artic.edu/iiif/2/b146368d-a855-63ac-6115-04b835c60bb0/full/843,/0/default.jpg\n"
     ]
    },
    {
     "name": "stderr",
     "output_type": "stream",
     "text": [
      "\r",
      "25it [00:26,  1.07s/it]"
     ]
    },
    {
     "name": "stdout",
     "output_type": "stream",
     "text": [
      "download https://www.artic.edu/iiif/2/8a0e4ac9-43ea-bc3e-884b-ee27f8a10501/full/843,/0/default.jpg\n"
     ]
    },
    {
     "name": "stderr",
     "output_type": "stream",
     "text": [
      "\r",
      "26it [00:27,  1.09s/it]"
     ]
    },
    {
     "name": "stdout",
     "output_type": "stream",
     "text": [
      "download https://www.artic.edu/iiif/2/65db9e21-83c3-1cc6-7240-1e1996d87f52/full/843,/0/default.jpg\n"
     ]
    },
    {
     "name": "stderr",
     "output_type": "stream",
     "text": [
      "\r",
      "27it [00:28,  1.08s/it]"
     ]
    },
    {
     "name": "stdout",
     "output_type": "stream",
     "text": [
      "download https://www.artic.edu/iiif/2/7b642fae-1cc9-ee08-0f4c-f8b2974c71c9/full/843,/0/default.jpg\n"
     ]
    },
    {
     "name": "stderr",
     "output_type": "stream",
     "text": [
      "\r",
      "28it [00:29,  1.09s/it]"
     ]
    },
    {
     "name": "stdout",
     "output_type": "stream",
     "text": [
      "download https://www.artic.edu/iiif/2/7bc86f37-02d8-10fb-ec06-7e2ce69d9238/full/843,/0/default.jpg\n"
     ]
    },
    {
     "name": "stderr",
     "output_type": "stream",
     "text": [
      "\r",
      "29it [00:31,  1.10s/it]"
     ]
    },
    {
     "name": "stdout",
     "output_type": "stream",
     "text": [
      "download https://www.artic.edu/iiif/2/108f44fc-d93b-abf0-c33c-2920d57844c3/full/843,/0/default.jpg\n"
     ]
    },
    {
     "name": "stderr",
     "output_type": "stream",
     "text": [
      "\r",
      "30it [00:32,  1.10s/it]"
     ]
    },
    {
     "name": "stdout",
     "output_type": "stream",
     "text": [
      "download https://www.artic.edu/iiif/2/77951d0c-d781-eac6-f4ff-f13cc5cfc0cf/full/843,/0/default.jpg\n"
     ]
    },
    {
     "name": "stderr",
     "output_type": "stream",
     "text": [
      "\r",
      "31it [00:33,  1.10s/it]"
     ]
    },
    {
     "name": "stdout",
     "output_type": "stream",
     "text": [
      "download https://www.artic.edu/iiif/2/622998f1-73f9-4c96-08cf-60bda7c9ce4b/full/843,/0/default.jpg\n"
     ]
    },
    {
     "name": "stderr",
     "output_type": "stream",
     "text": [
      "\r",
      "32it [00:34,  1.10s/it]"
     ]
    },
    {
     "name": "stdout",
     "output_type": "stream",
     "text": [
      "download https://www.artic.edu/iiif/2/d4ca6321-8656-3d3f-a362-2ee297b2b813/full/843,/0/default.jpg\n"
     ]
    },
    {
     "name": "stderr",
     "output_type": "stream",
     "text": [
      "\r",
      "33it [00:35,  1.09s/it]"
     ]
    },
    {
     "name": "stdout",
     "output_type": "stream",
     "text": [
      "download https://www.artic.edu/iiif/2/633f464c-203f-f7b9-a251-7a2073f4b05d/full/843,/0/default.jpg\n"
     ]
    },
    {
     "name": "stderr",
     "output_type": "stream",
     "text": [
      "\r",
      "34it [00:36,  1.08s/it]"
     ]
    },
    {
     "name": "stdout",
     "output_type": "stream",
     "text": [
      "download https://www.artic.edu/iiif/2/4d03ba14-a01a-d003-404a-cf3f9fb40ede/full/843,/0/default.jpg\n"
     ]
    },
    {
     "name": "stderr",
     "output_type": "stream",
     "text": [
      "\r",
      "35it [00:37,  1.08s/it]"
     ]
    },
    {
     "name": "stdout",
     "output_type": "stream",
     "text": [
      "download https://www.artic.edu/iiif/2/194674a2-f451-65f7-ba46-6aac4d894f0b/full/843,/0/default.jpg\n"
     ]
    },
    {
     "name": "stderr",
     "output_type": "stream",
     "text": [
      "\r",
      "36it [00:38,  1.09s/it]"
     ]
    },
    {
     "name": "stdout",
     "output_type": "stream",
     "text": [
      "download https://www.artic.edu/iiif/2/3c27b499-af56-f0d5-93b5-a7f2f1ad5813/full/843,/0/default.jpg\n"
     ]
    },
    {
     "name": "stderr",
     "output_type": "stream",
     "text": [
      "\r",
      "37it [00:39,  1.08s/it]"
     ]
    },
    {
     "name": "stdout",
     "output_type": "stream",
     "text": [
      "download https://www.artic.edu/iiif/2/0f1cc0e0-e42e-be16-3f71-2022da38cb93/full/843,/0/default.jpg\n"
     ]
    },
    {
     "name": "stderr",
     "output_type": "stream",
     "text": [
      "\r",
      "38it [00:40,  1.08s/it]"
     ]
    },
    {
     "name": "stdout",
     "output_type": "stream",
     "text": [
      "download https://www.artic.edu/iiif/2/b34de958-1cbe-065f-4941-c34f64d2b366/full/843,/0/default.jpg\n"
     ]
    },
    {
     "name": "stderr",
     "output_type": "stream",
     "text": [
      "\r",
      "39it [00:41,  1.07s/it]"
     ]
    },
    {
     "name": "stdout",
     "output_type": "stream",
     "text": [
      "download https://www.artic.edu/iiif/2/801ac46f-ead4-a77a-8523-34dfade43877/full/843,/0/default.jpg\n"
     ]
    },
    {
     "name": "stderr",
     "output_type": "stream",
     "text": [
      "\r",
      "40it [00:43,  1.08s/it]"
     ]
    },
    {
     "name": "stdout",
     "output_type": "stream",
     "text": [
      "download https://www.artic.edu/iiif/2/ae6ac285-6887-dd76-4570-d379c786dfae/full/843,/0/default.jpg\n"
     ]
    },
    {
     "name": "stderr",
     "output_type": "stream",
     "text": [
      "\r",
      "41it [00:44,  1.08s/it]"
     ]
    },
    {
     "name": "stdout",
     "output_type": "stream",
     "text": [
      "download https://www.artic.edu/iiif/2/9c92dc44-1887-4a73-abef-ead68ed8cdb6/full/843,/0/default.jpg\n"
     ]
    },
    {
     "name": "stderr",
     "output_type": "stream",
     "text": [
      "\r",
      "42it [00:45,  1.08s/it]"
     ]
    },
    {
     "name": "stdout",
     "output_type": "stream",
     "text": [
      "download https://www.artic.edu/iiif/2/2ae64c8a-266d-470a-a25a-c83127564636/full/843,/0/default.jpg\n"
     ]
    },
    {
     "name": "stderr",
     "output_type": "stream",
     "text": [
      "\r",
      "43it [00:46,  1.08s/it]"
     ]
    },
    {
     "name": "stdout",
     "output_type": "stream",
     "text": [
      "download https://www.artic.edu/iiif/2/f8fd76e9-c396-5678-36ed-6a348c904d27/full/843,/0/default.jpg\n"
     ]
    },
    {
     "name": "stderr",
     "output_type": "stream",
     "text": [
      "\r",
      "44it [00:47,  1.07s/it]"
     ]
    },
    {
     "name": "stdout",
     "output_type": "stream",
     "text": [
      "download https://www.artic.edu/iiif/2/0675f9a9-1a7b-c90a-3bb6-7f7be2afb678/full/843,/0/default.jpg\n"
     ]
    },
    {
     "name": "stderr",
     "output_type": "stream",
     "text": [
      "\r",
      "45it [00:48,  1.07s/it]"
     ]
    },
    {
     "name": "stdout",
     "output_type": "stream",
     "text": [
      "download https://www.artic.edu/iiif/2/cd2ebc0d-eea7-d476-1a57-daf8a3976675/full/843,/0/default.jpg\n"
     ]
    },
    {
     "name": "stderr",
     "output_type": "stream",
     "text": [
      "\r",
      "46it [00:49,  1.07s/it]"
     ]
    },
    {
     "name": "stdout",
     "output_type": "stream",
     "text": [
      "download https://www.artic.edu/iiif/2/d2529576-bbf0-c631-6f8c-659e825c552d/full/843,/0/default.jpg\n"
     ]
    },
    {
     "name": "stderr",
     "output_type": "stream",
     "text": [
      "\r",
      "47it [00:50,  1.08s/it]"
     ]
    },
    {
     "name": "stdout",
     "output_type": "stream",
     "text": [
      "download https://www.artic.edu/iiif/2/d63b9402-c42b-cce3-aa63-6d213ad621cd/full/843,/0/default.jpg\n"
     ]
    },
    {
     "name": "stderr",
     "output_type": "stream",
     "text": [
      "\r",
      "48it [00:51,  1.09s/it]"
     ]
    },
    {
     "name": "stdout",
     "output_type": "stream",
     "text": [
      "download https://www.artic.edu/iiif/2/cf50f037-5fb2-e197-0e56-3ae701edb3e2/full/843,/0/default.jpg\n"
     ]
    },
    {
     "name": "stderr",
     "output_type": "stream",
     "text": [
      "\r",
      "49it [00:52,  1.08s/it]"
     ]
    },
    {
     "name": "stdout",
     "output_type": "stream",
     "text": [
      "download https://www.artic.edu/iiif/2/b3974542-b9b4-7568-fc4b-966738f61d78/full/843,/0/default.jpg\n"
     ]
    },
    {
     "name": "stderr",
     "output_type": "stream",
     "text": [
      "\r",
      "50it [00:53,  1.09s/it]"
     ]
    },
    {
     "name": "stdout",
     "output_type": "stream",
     "text": [
      "download https://www.artic.edu/iiif/2/c5409bc2-35dc-342a-e506-41259963bce0/full/843,/0/default.jpg\n"
     ]
    },
    {
     "name": "stderr",
     "output_type": "stream",
     "text": [
      "\r",
      "51it [00:54,  1.08s/it]"
     ]
    },
    {
     "name": "stdout",
     "output_type": "stream",
     "text": [
      "download https://www.artic.edu/iiif/2/a69557c8-2883-6634-5cf0-93f060ec280a/full/843,/0/default.jpg\n"
     ]
    },
    {
     "name": "stderr",
     "output_type": "stream",
     "text": [
      "\r",
      "52it [00:55,  1.08s/it]"
     ]
    },
    {
     "name": "stdout",
     "output_type": "stream",
     "text": [
      "download https://www.artic.edu/iiif/2/5dca7347-c6dc-24dd-d073-d705b9cdc575/full/843,/0/default.jpg\n"
     ]
    },
    {
     "name": "stderr",
     "output_type": "stream",
     "text": [
      "\r",
      "53it [00:57,  1.07s/it]"
     ]
    },
    {
     "name": "stdout",
     "output_type": "stream",
     "text": [
      "download https://www.artic.edu/iiif/2/72227c9e-413c-8930-477d-5a90e0a2123c/full/843,/0/default.jpg\n"
     ]
    },
    {
     "name": "stderr",
     "output_type": "stream",
     "text": [
      "\r",
      "54it [00:58,  1.08s/it]"
     ]
    },
    {
     "name": "stdout",
     "output_type": "stream",
     "text": [
      "download https://www.artic.edu/iiif/2/7c752046-744f-2f68-482b-a7fd42550f2b/full/843,/0/default.jpg\n"
     ]
    },
    {
     "name": "stderr",
     "output_type": "stream",
     "text": [
      "\r",
      "55it [00:59,  1.09s/it]"
     ]
    },
    {
     "name": "stdout",
     "output_type": "stream",
     "text": [
      "download https://www.artic.edu/iiif/2/7e649536-b186-c3f5-3e6d-0d22d5d798ef/full/843,/0/default.jpg\n"
     ]
    },
    {
     "name": "stderr",
     "output_type": "stream",
     "text": [
      "\r",
      "56it [01:00,  1.09s/it]"
     ]
    },
    {
     "name": "stdout",
     "output_type": "stream",
     "text": [
      "download https://www.artic.edu/iiif/2/2d484387-2509-5e8e-2c43-22f9981972eb/full/843,/0/default.jpg\n"
     ]
    },
    {
     "name": "stderr",
     "output_type": "stream",
     "text": [
      "\r",
      "57it [01:01,  1.08s/it]"
     ]
    },
    {
     "name": "stdout",
     "output_type": "stream",
     "text": [
      "download https://www.artic.edu/iiif/2/25c31d8d-21a4-9ea1-1d73-6a2eca4dda7e/full/843,/0/default.jpg\n"
     ]
    },
    {
     "name": "stderr",
     "output_type": "stream",
     "text": [
      "\r",
      "58it [01:02,  1.08s/it]"
     ]
    },
    {
     "name": "stdout",
     "output_type": "stream",
     "text": [
      "download https://www.artic.edu/iiif/2/72a76270-d6f4-e744-d47b-307873a8e8ff/full/843,/0/default.jpg\n"
     ]
    },
    {
     "name": "stderr",
     "output_type": "stream",
     "text": [
      "\r",
      "59it [01:03,  1.08s/it]"
     ]
    },
    {
     "name": "stdout",
     "output_type": "stream",
     "text": [
      "download https://www.artic.edu/iiif/2/82a87cf0-6082-a7f7-c2cf-0fc9283ed966/full/843,/0/default.jpg\n"
     ]
    },
    {
     "name": "stderr",
     "output_type": "stream",
     "text": [
      "\r",
      "60it [01:04,  1.08s/it]"
     ]
    },
    {
     "name": "stdout",
     "output_type": "stream",
     "text": [
      "download https://www.artic.edu/iiif/2/8cb9f5ea-c955-96fd-c2d6-c720b0dbf7d4/full/843,/0/default.jpg\n"
     ]
    },
    {
     "name": "stderr",
     "output_type": "stream",
     "text": [
      "\r",
      "61it [01:05,  1.08s/it]"
     ]
    },
    {
     "name": "stdout",
     "output_type": "stream",
     "text": [
      "download https://www.artic.edu/iiif/2/a4eebeee-7c01-e877-40ea-c7542e5071bf/full/843,/0/default.jpg\n"
     ]
    },
    {
     "name": "stderr",
     "output_type": "stream",
     "text": [
      "\r",
      "62it [01:06,  1.08s/it]"
     ]
    },
    {
     "name": "stdout",
     "output_type": "stream",
     "text": [
      "download https://www.artic.edu/iiif/2/fab54305-2a73-37ef-8591-33384cb325b9/full/843,/0/default.jpg\n"
     ]
    },
    {
     "name": "stderr",
     "output_type": "stream",
     "text": [
      "\r",
      "63it [01:07,  1.08s/it]"
     ]
    },
    {
     "name": "stdout",
     "output_type": "stream",
     "text": [
      "download https://www.artic.edu/iiif/2/f18f7064-fb9a-7074-1f1c-f8009eecaec7/full/843,/0/default.jpg\n"
     ]
    },
    {
     "name": "stderr",
     "output_type": "stream",
     "text": [
      "\r",
      "64it [01:08,  1.08s/it]"
     ]
    },
    {
     "name": "stdout",
     "output_type": "stream",
     "text": [
      "download https://www.artic.edu/iiif/2/a80e815d-aebd-a6cc-49c4-8741734ba640/full/843,/0/default.jpg\n"
     ]
    },
    {
     "name": "stderr",
     "output_type": "stream",
     "text": [
      "\r",
      "65it [01:09,  1.08s/it]"
     ]
    },
    {
     "name": "stdout",
     "output_type": "stream",
     "text": [
      "download https://www.artic.edu/iiif/2/4fdfa3c6-fd21-4eac-850d-231af8ef0401/full/843,/0/default.jpg\n"
     ]
    },
    {
     "name": "stderr",
     "output_type": "stream",
     "text": [
      "\r",
      "66it [01:10,  1.15it/s]"
     ]
    },
    {
     "name": "stdout",
     "output_type": "stream",
     "text": [
      "Skipping https://www.artic.edu/iiif/2/4fdfa3c6-fd21-4eac-850d-231af8ef0401/full/843,/0/default.jpg: Image not found\n",
      "download https://www.artic.edu/iiif/2/568b87d2-25f6-c63b-e8c3-6920bf1b75be/full/843,/0/default.jpg\n"
     ]
    },
    {
     "name": "stderr",
     "output_type": "stream",
     "text": [
      "\r",
      "67it [01:11,  1.08it/s]"
     ]
    },
    {
     "name": "stdout",
     "output_type": "stream",
     "text": [
      "download https://www.artic.edu/iiif/2/fa3a6e30-09ce-5c9e-5cba-a682ca4d56e7/full/843,/0/default.jpg\n"
     ]
    },
    {
     "name": "stderr",
     "output_type": "stream",
     "text": [
      "\r",
      "68it [01:12,  1.04it/s]"
     ]
    },
    {
     "name": "stdout",
     "output_type": "stream",
     "text": [
      "download https://www.artic.edu/iiif/2/2e7e28aa-a77b-c7f8-852b-708c1171f928/full/843,/0/default.jpg\n"
     ]
    },
    {
     "name": "stderr",
     "output_type": "stream",
     "text": [
      "\r",
      "69it [01:13,  1.01it/s]"
     ]
    },
    {
     "name": "stdout",
     "output_type": "stream",
     "text": [
      "download https://www.artic.edu/iiif/2/416b87c8-515f-0066-5c44-b7562162f2c0/full/843,/0/default.jpg\n"
     ]
    },
    {
     "name": "stderr",
     "output_type": "stream",
     "text": [
      "\r",
      "70it [01:14,  1.01s/it]"
     ]
    },
    {
     "name": "stdout",
     "output_type": "stream",
     "text": [
      "download https://www.artic.edu/iiif/2/f7b2db45-f393-653c-07ef-84319b0cdb92/full/843,/0/default.jpg\n"
     ]
    },
    {
     "name": "stderr",
     "output_type": "stream",
     "text": [
      "\r",
      "71it [01:15,  1.03s/it]"
     ]
    },
    {
     "name": "stdout",
     "output_type": "stream",
     "text": [
      "download https://www.artic.edu/iiif/2/6e6d0abe-9881-627d-86af-98b183500b77/full/843,/0/default.jpg\n"
     ]
    },
    {
     "name": "stderr",
     "output_type": "stream",
     "text": [
      "\r",
      "72it [01:16,  1.06s/it]"
     ]
    },
    {
     "name": "stdout",
     "output_type": "stream",
     "text": [
      "download https://www.artic.edu/iiif/2/0cbe27e8-2fec-3445-bc48-ce40a8f2dc25/full/843,/0/default.jpg\n"
     ]
    },
    {
     "name": "stderr",
     "output_type": "stream",
     "text": [
      "\r",
      "73it [01:17,  1.06s/it]"
     ]
    },
    {
     "name": "stdout",
     "output_type": "stream",
     "text": [
      "download https://www.artic.edu/iiif/2/631c7df4-4ad1-db43-49b2-404578e1c09f/full/843,/0/default.jpg\n"
     ]
    },
    {
     "name": "stderr",
     "output_type": "stream",
     "text": [
      "\r",
      "74it [01:18,  1.05s/it]"
     ]
    },
    {
     "name": "stdout",
     "output_type": "stream",
     "text": [
      "download https://www.artic.edu/iiif/2/9f08b895-4960-4bc6-5871-dc9bfab4c655/full/843,/0/default.jpg\n"
     ]
    },
    {
     "name": "stderr",
     "output_type": "stream",
     "text": [
      "\r",
      "75it [01:20,  1.08s/it]"
     ]
    },
    {
     "name": "stdout",
     "output_type": "stream",
     "text": [
      "download https://www.artic.edu/iiif/2/b8c8710c-ba52-dcdd-9674-49fd5095f4f2/full/843,/0/default.jpg\n"
     ]
    },
    {
     "name": "stderr",
     "output_type": "stream",
     "text": [
      "\r",
      "76it [01:21,  1.08s/it]"
     ]
    },
    {
     "name": "stdout",
     "output_type": "stream",
     "text": [
      "download https://www.artic.edu/iiif/2/10bdba64-db41-0811-f681-c904afded43c/full/843,/0/default.jpg\n"
     ]
    },
    {
     "name": "stderr",
     "output_type": "stream",
     "text": [
      "\r",
      "77it [01:22,  1.08s/it]"
     ]
    },
    {
     "name": "stdout",
     "output_type": "stream",
     "text": [
      "download https://www.artic.edu/iiif/2/444f3e95-b21f-c821-e6af-00fe9560fb95/full/843,/0/default.jpg\n"
     ]
    },
    {
     "name": "stderr",
     "output_type": "stream",
     "text": [
      "\r",
      "78it [01:23,  1.07s/it]"
     ]
    },
    {
     "name": "stdout",
     "output_type": "stream",
     "text": [
      "download https://www.artic.edu/iiif/2/02676a81-8689-50ec-7440-162df7b5fc10/full/843,/0/default.jpg\n"
     ]
    },
    {
     "name": "stderr",
     "output_type": "stream",
     "text": [
      "\r",
      "79it [01:24,  1.08s/it]"
     ]
    },
    {
     "name": "stdout",
     "output_type": "stream",
     "text": [
      "download https://www.artic.edu/iiif/2/73eb91ee-cde0-2f6d-843f-4f263d5c409f/full/843,/0/default.jpg\n"
     ]
    },
    {
     "name": "stderr",
     "output_type": "stream",
     "text": [
      "\r",
      "80it [01:25,  1.08s/it]"
     ]
    },
    {
     "name": "stdout",
     "output_type": "stream",
     "text": [
      "download https://www.artic.edu/iiif/2/0fa6a777-48eb-b9a1-89ff-5f4104f2490d/full/843,/0/default.jpg\n"
     ]
    },
    {
     "name": "stderr",
     "output_type": "stream",
     "text": [
      "\r",
      "81it [01:26,  1.08s/it]"
     ]
    },
    {
     "name": "stdout",
     "output_type": "stream",
     "text": [
      "download https://www.artic.edu/iiif/2/d1666499-6fde-bb14-1b47-7e86209d3b58/full/843,/0/default.jpg\n"
     ]
    },
    {
     "name": "stderr",
     "output_type": "stream",
     "text": [
      "\r",
      "82it [01:27,  1.07s/it]"
     ]
    },
    {
     "name": "stdout",
     "output_type": "stream",
     "text": [
      "download https://www.artic.edu/iiif/2/02738f67-3be4-4a69-0d80-ec33b7e6429c/full/843,/0/default.jpg\n"
     ]
    },
    {
     "name": "stderr",
     "output_type": "stream",
     "text": [
      "\r",
      "83it [01:28,  1.10s/it]"
     ]
    },
    {
     "name": "stdout",
     "output_type": "stream",
     "text": [
      "download https://www.artic.edu/iiif/2/e1cd114a-18c7-f501-af90-4852b47facf1/full/843,/0/default.jpg\n"
     ]
    },
    {
     "name": "stderr",
     "output_type": "stream",
     "text": [
      "\r",
      "84it [01:29,  1.11s/it]"
     ]
    },
    {
     "name": "stdout",
     "output_type": "stream",
     "text": [
      "download https://www.artic.edu/iiif/2/6e181602-53e1-26c5-d830-7cdd9f91356a/full/843,/0/default.jpg\n"
     ]
    },
    {
     "name": "stderr",
     "output_type": "stream",
     "text": [
      "\r",
      "85it [01:30,  1.09s/it]"
     ]
    },
    {
     "name": "stdout",
     "output_type": "stream",
     "text": [
      "download https://www.artic.edu/iiif/2/5b805de8-cb66-b522-6a62-88742994c65c/full/843,/0/default.jpg\n"
     ]
    },
    {
     "name": "stderr",
     "output_type": "stream",
     "text": [
      "\r",
      "86it [01:31,  1.09s/it]"
     ]
    },
    {
     "name": "stdout",
     "output_type": "stream",
     "text": [
      "download https://www.artic.edu/iiif/2/f3ffa7dd-dcff-47a7-2ca9-7b15f87f0106/full/843,/0/default.jpg\n"
     ]
    },
    {
     "name": "stderr",
     "output_type": "stream",
     "text": [
      "\r",
      "87it [01:33,  1.08s/it]"
     ]
    },
    {
     "name": "stdout",
     "output_type": "stream",
     "text": [
      "download https://www.artic.edu/iiif/2/50034c7f-ce51-00f1-430e-a6f7efc233fc/full/843,/0/default.jpg\n"
     ]
    },
    {
     "name": "stderr",
     "output_type": "stream",
     "text": [
      "\r",
      "88it [01:34,  1.07s/it]"
     ]
    },
    {
     "name": "stdout",
     "output_type": "stream",
     "text": [
      "download https://www.artic.edu/iiif/2/62fd0e14-d7fe-0d01-ab00-1eed84b4f294/full/843,/0/default.jpg\n"
     ]
    },
    {
     "name": "stderr",
     "output_type": "stream",
     "text": [
      "\r",
      "89it [01:35,  1.08s/it]"
     ]
    },
    {
     "name": "stdout",
     "output_type": "stream",
     "text": [
      "download https://www.artic.edu/iiif/2/ce583554-7fac-705e-2130-ec94c1abb2e2/full/843,/0/default.jpg\n"
     ]
    },
    {
     "name": "stderr",
     "output_type": "stream",
     "text": [
      "\r",
      "90it [01:36,  1.08s/it]"
     ]
    },
    {
     "name": "stdout",
     "output_type": "stream",
     "text": [
      "download https://www.artic.edu/iiif/2/3f5efc6f-52b0-d374-308b-34ca095d8624/full/843,/0/default.jpg\n"
     ]
    },
    {
     "name": "stderr",
     "output_type": "stream",
     "text": [
      "\r",
      "91it [01:37,  1.07s/it]"
     ]
    },
    {
     "name": "stdout",
     "output_type": "stream",
     "text": [
      "download https://www.artic.edu/iiif/2/92777387-4f55-e3fa-10ba-a549810aca95/full/843,/0/default.jpg\n"
     ]
    },
    {
     "name": "stderr",
     "output_type": "stream",
     "text": [
      "\r",
      "92it [01:38,  1.07s/it]"
     ]
    },
    {
     "name": "stdout",
     "output_type": "stream",
     "text": [
      "download https://www.artic.edu/iiif/2/0f951635-312c-0829-451b-553f461c5518/full/843,/0/default.jpg\n"
     ]
    },
    {
     "name": "stderr",
     "output_type": "stream",
     "text": [
      "\r",
      "93it [01:39,  1.07s/it]"
     ]
    },
    {
     "name": "stdout",
     "output_type": "stream",
     "text": [
      "download https://www.artic.edu/iiif/2/b2228199-cf8f-41a1-9482-b32e654b9011/full/843,/0/default.jpg\n"
     ]
    },
    {
     "name": "stderr",
     "output_type": "stream",
     "text": [
      "\r",
      "94it [01:40,  1.06s/it]"
     ]
    },
    {
     "name": "stdout",
     "output_type": "stream",
     "text": [
      "download https://www.artic.edu/iiif/2/50ac2e3e-1d1a-553f-6aeb-5c22cf323a8e/full/843,/0/default.jpg\n"
     ]
    },
    {
     "name": "stderr",
     "output_type": "stream",
     "text": [
      "\r",
      "95it [01:41,  1.06s/it]"
     ]
    },
    {
     "name": "stdout",
     "output_type": "stream",
     "text": [
      "download https://www.artic.edu/iiif/2/48268fc7-2eb4-ded6-1293-e91f27b66478/full/843,/0/default.jpg\n"
     ]
    },
    {
     "name": "stderr",
     "output_type": "stream",
     "text": [
      "\r",
      "96it [01:42,  1.08s/it]"
     ]
    },
    {
     "name": "stdout",
     "output_type": "stream",
     "text": [
      "download https://www.artic.edu/iiif/2/defb4004-b500-218d-3d9b-9a02423f097d/full/843,/0/default.jpg\n"
     ]
    },
    {
     "name": "stderr",
     "output_type": "stream",
     "text": [
      "\r",
      "97it [01:43,  1.07s/it]"
     ]
    },
    {
     "name": "stdout",
     "output_type": "stream",
     "text": [
      "download https://www.artic.edu/iiif/2/cb34b0a8-bc51-d063-aab1-47c7debf3a7b/full/843,/0/default.jpg\n"
     ]
    },
    {
     "name": "stderr",
     "output_type": "stream",
     "text": [
      "\r",
      "98it [01:44,  1.07s/it]"
     ]
    },
    {
     "name": "stdout",
     "output_type": "stream",
     "text": [
      "download https://www.artic.edu/iiif/2/d9bde524-38b2-4262-3338-e4d06a50746d/full/843,/0/default.jpg\n"
     ]
    },
    {
     "name": "stderr",
     "output_type": "stream",
     "text": [
      "\r",
      "99it [01:45,  1.06s/it]"
     ]
    },
    {
     "name": "stdout",
     "output_type": "stream",
     "text": [
      "download https://www.artic.edu/iiif/2/4822cd01-44ac-041a-36b8-c0542377b750/full/843,/0/default.jpg\n"
     ]
    },
    {
     "name": "stderr",
     "output_type": "stream",
     "text": [
      "\r",
      "100it [01:46,  1.07s/it]"
     ]
    },
    {
     "name": "stdout",
     "output_type": "stream",
     "text": [
      "download https://www.artic.edu/iiif/2/0ac9663b-e17e-471d-e4e3-6c60fc800704/full/843,/0/default.jpg\n"
     ]
    },
    {
     "name": "stderr",
     "output_type": "stream",
     "text": [
      "\r",
      "101it [01:49,  1.38s/it]"
     ]
    },
    {
     "name": "stdout",
     "output_type": "stream",
     "text": [
      "download https://www.artic.edu/iiif/2/93270aaf-16a5-1604-c6c8-0f3c003eb7a1/full/843,/0/default.jpg\n"
     ]
    },
    {
     "name": "stderr",
     "output_type": "stream",
     "text": [
      "\r",
      "102it [01:50,  1.30s/it]"
     ]
    },
    {
     "name": "stdout",
     "output_type": "stream",
     "text": [
      "download https://www.artic.edu/iiif/2/0f2d999d-0173-2935-a6d0-0175bb97b2a9/full/843,/0/default.jpg\n"
     ]
    },
    {
     "name": "stderr",
     "output_type": "stream",
     "text": [
      "\r",
      "103it [01:51,  1.23s/it]"
     ]
    },
    {
     "name": "stdout",
     "output_type": "stream",
     "text": [
      "download https://www.artic.edu/iiif/2/ef96e79b-f481-8114-0804-4bd39c101983/full/843,/0/default.jpg\n"
     ]
    },
    {
     "name": "stderr",
     "output_type": "stream",
     "text": [
      "\r",
      "104it [01:52,  1.19s/it]"
     ]
    },
    {
     "name": "stdout",
     "output_type": "stream",
     "text": [
      "download https://www.artic.edu/iiif/2/a38e2828-ec6f-ece1-a30f-70243449197b/full/843,/0/default.jpg\n"
     ]
    },
    {
     "name": "stderr",
     "output_type": "stream",
     "text": [
      "\r",
      "105it [01:53,  1.15s/it]"
     ]
    },
    {
     "name": "stdout",
     "output_type": "stream",
     "text": [
      "download https://www.artic.edu/iiif/2/71550262-862a-d19a-680b-f50a2e284901/full/843,/0/default.jpg\n"
     ]
    },
    {
     "name": "stderr",
     "output_type": "stream",
     "text": [
      "\r",
      "106it [01:54,  1.14s/it]"
     ]
    },
    {
     "name": "stdout",
     "output_type": "stream",
     "text": [
      "download https://www.artic.edu/iiif/2/19d671b4-1dda-df36-f76b-b8d1cf800261/full/843,/0/default.jpg\n"
     ]
    },
    {
     "name": "stderr",
     "output_type": "stream",
     "text": [
      "\r",
      "107it [01:55,  1.13s/it]"
     ]
    },
    {
     "name": "stdout",
     "output_type": "stream",
     "text": [
      "download https://www.artic.edu/iiif/2/173ec65a-bc7e-067c-fed1-1677bf5f26a9/full/843,/0/default.jpg\n"
     ]
    },
    {
     "name": "stderr",
     "output_type": "stream",
     "text": [
      "\r",
      "108it [01:56,  1.12s/it]"
     ]
    },
    {
     "name": "stdout",
     "output_type": "stream",
     "text": [
      "download https://www.artic.edu/iiif/2/62fdbcae-4491-91c3-6fdc-728e1cf4b547/full/843,/0/default.jpg\n"
     ]
    },
    {
     "name": "stderr",
     "output_type": "stream",
     "text": [
      "\r",
      "109it [01:57,  1.11s/it]"
     ]
    },
    {
     "name": "stdout",
     "output_type": "stream",
     "text": [
      "download https://www.artic.edu/iiif/2/d4bb8c90-5cbc-2cf2-b27a-ed2ce84319ea/full/843,/0/default.jpg\n"
     ]
    },
    {
     "name": "stderr",
     "output_type": "stream",
     "text": [
      "\r",
      "110it [01:58,  1.09s/it]"
     ]
    },
    {
     "name": "stdout",
     "output_type": "stream",
     "text": [
      "download https://www.artic.edu/iiif/2/3836baeb-35c2-7ce9-be86-96a26595521e/full/843,/0/default.jpg\n"
     ]
    },
    {
     "name": "stderr",
     "output_type": "stream",
     "text": [
      "\r",
      "111it [01:59,  1.09s/it]"
     ]
    },
    {
     "name": "stdout",
     "output_type": "stream",
     "text": [
      "download https://www.artic.edu/iiif/2/3f9aa9db-61e1-7060-fdb0-bfd7e41ddd08/full/843,/0/default.jpg\n"
     ]
    },
    {
     "name": "stderr",
     "output_type": "stream",
     "text": [
      "\r",
      "112it [02:00,  1.09s/it]"
     ]
    },
    {
     "name": "stdout",
     "output_type": "stream",
     "text": [
      "download https://www.artic.edu/iiif/2/bf4060c6-8b68-d4f3-acb0-cfeaea86ad05/full/843,/0/default.jpg\n"
     ]
    },
    {
     "name": "stderr",
     "output_type": "stream",
     "text": [
      "\r",
      "113it [02:02,  1.08s/it]"
     ]
    },
    {
     "name": "stdout",
     "output_type": "stream",
     "text": [
      "download https://www.artic.edu/iiif/2/7001c3dd-88cc-ec8a-da59-f4bc5691aa15/full/843,/0/default.jpg\n"
     ]
    },
    {
     "name": "stderr",
     "output_type": "stream",
     "text": [
      "\r",
      "114it [02:03,  1.07s/it]"
     ]
    },
    {
     "name": "stdout",
     "output_type": "stream",
     "text": [
      "download https://www.artic.edu/iiif/2/c91fbeed-e25f-237a-0539-e01f0be65701/full/843,/0/default.jpg\n"
     ]
    },
    {
     "name": "stderr",
     "output_type": "stream",
     "text": [
      "\r",
      "115it [02:04,  1.07s/it]"
     ]
    },
    {
     "name": "stdout",
     "output_type": "stream",
     "text": [
      "download https://www.artic.edu/iiif/2/3ae75415-0551-ae17-c478-3b8687a6f246/full/843,/0/default.jpg\n"
     ]
    },
    {
     "name": "stderr",
     "output_type": "stream",
     "text": [
      "\r",
      "116it [02:05,  1.08s/it]"
     ]
    },
    {
     "name": "stdout",
     "output_type": "stream",
     "text": [
      "download https://www.artic.edu/iiif/2/49c8b5f7-e4f6-96a8-cb44-2f0cb420f29f/full/843,/0/default.jpg\n"
     ]
    },
    {
     "name": "stderr",
     "output_type": "stream",
     "text": [
      "\r",
      "117it [02:06,  1.07s/it]"
     ]
    },
    {
     "name": "stdout",
     "output_type": "stream",
     "text": [
      "download https://www.artic.edu/iiif/2/d19683c2-2ef4-e586-7add-c1008b6a8fb2/full/843,/0/default.jpg\n"
     ]
    },
    {
     "name": "stderr",
     "output_type": "stream",
     "text": [
      "\r",
      "118it [02:07,  1.07s/it]"
     ]
    },
    {
     "name": "stdout",
     "output_type": "stream",
     "text": [
      "download https://www.artic.edu/iiif/2/ea8c5d62-6ce8-88e8-feb1-e0053cf534c5/full/843,/0/default.jpg\n"
     ]
    },
    {
     "name": "stderr",
     "output_type": "stream",
     "text": [
      "\r",
      "119it [02:08,  1.07s/it]"
     ]
    },
    {
     "name": "stdout",
     "output_type": "stream",
     "text": [
      "download https://www.artic.edu/iiif/2/f78addab-4d3a-f87c-4c83-7eae824c7504/full/843,/0/default.jpg\n"
     ]
    },
    {
     "name": "stderr",
     "output_type": "stream",
     "text": [
      "\r",
      "120it [02:09,  1.06s/it]"
     ]
    },
    {
     "name": "stdout",
     "output_type": "stream",
     "text": [
      "download https://www.artic.edu/iiif/2/547a14f3-9b78-b0bb-28c2-ecac60613e80/full/843,/0/default.jpg\n"
     ]
    },
    {
     "name": "stderr",
     "output_type": "stream",
     "text": [
      "\r",
      "121it [02:10,  1.06s/it]"
     ]
    },
    {
     "name": "stdout",
     "output_type": "stream",
     "text": [
      "download https://www.artic.edu/iiif/2/89230c79-97dc-d6d6-8821-1c2f99893bb8/full/843,/0/default.jpg\n"
     ]
    },
    {
     "name": "stderr",
     "output_type": "stream",
     "text": [
      "\r",
      "122it [02:11,  1.07s/it]"
     ]
    },
    {
     "name": "stdout",
     "output_type": "stream",
     "text": [
      "download https://www.artic.edu/iiif/2/33fc29fc-097b-576b-c9e6-c3352d9d3f15/full/843,/0/default.jpg\n"
     ]
    },
    {
     "name": "stderr",
     "output_type": "stream",
     "text": [
      "\r",
      "123it [02:12,  1.07s/it]"
     ]
    },
    {
     "name": "stdout",
     "output_type": "stream",
     "text": [
      "download https://www.artic.edu/iiif/2/116cad6f-d97f-f6d1-07a5-a19e9eaeebe7/full/843,/0/default.jpg\n"
     ]
    },
    {
     "name": "stderr",
     "output_type": "stream",
     "text": [
      "\r",
      "124it [02:13,  1.06s/it]"
     ]
    },
    {
     "name": "stdout",
     "output_type": "stream",
     "text": [
      "download https://www.artic.edu/iiif/2/c3c4fa77-ae12-1e5e-cc8a-0bde4f1be2ca/full/843,/0/default.jpg\n"
     ]
    },
    {
     "name": "stderr",
     "output_type": "stream",
     "text": [
      "\r",
      "125it [02:14,  1.09s/it]"
     ]
    },
    {
     "name": "stdout",
     "output_type": "stream",
     "text": [
      "download https://www.artic.edu/iiif/2/441ff42f-7329-1179-3735-e68db890c899/full/843,/0/default.jpg\n"
     ]
    },
    {
     "name": "stderr",
     "output_type": "stream",
     "text": [
      "\r",
      "126it [02:16,  1.11s/it]"
     ]
    },
    {
     "name": "stdout",
     "output_type": "stream",
     "text": [
      "download https://www.artic.edu/iiif/2/ce5e37ef-7bea-d929-efb6-756e5c10de7f/full/843,/0/default.jpg\n"
     ]
    },
    {
     "name": "stderr",
     "output_type": "stream",
     "text": [
      "\r",
      "127it [02:17,  1.09s/it]"
     ]
    },
    {
     "name": "stdout",
     "output_type": "stream",
     "text": [
      "download https://www.artic.edu/iiif/2/9920a4f9-09f9-86f4-b06d-b0af0590baac/full/843,/0/default.jpg\n"
     ]
    },
    {
     "name": "stderr",
     "output_type": "stream",
     "text": [
      "\r",
      "128it [02:18,  1.09s/it]"
     ]
    },
    {
     "name": "stdout",
     "output_type": "stream",
     "text": [
      "download https://www.artic.edu/iiif/2/9547bd79-e45b-5d25-4442-0a666bb5089e/full/843,/0/default.jpg\n"
     ]
    },
    {
     "name": "stderr",
     "output_type": "stream",
     "text": [
      "\r",
      "129it [02:19,  1.08s/it]"
     ]
    },
    {
     "name": "stdout",
     "output_type": "stream",
     "text": [
      "download https://www.artic.edu/iiif/2/26d3cea8-44c0-bfbd-a91a-19a007517152/full/843,/0/default.jpg\n"
     ]
    },
    {
     "name": "stderr",
     "output_type": "stream",
     "text": [
      "\r",
      "130it [02:20,  1.08s/it]"
     ]
    },
    {
     "name": "stdout",
     "output_type": "stream",
     "text": [
      "download https://www.artic.edu/iiif/2/1c2d32a7-790c-501a-e124-00f28cf5052d/full/843,/0/default.jpg\n"
     ]
    },
    {
     "name": "stderr",
     "output_type": "stream",
     "text": [
      "\r",
      "131it [02:21,  1.08s/it]"
     ]
    },
    {
     "name": "stdout",
     "output_type": "stream",
     "text": [
      "download https://www.artic.edu/iiif/2/321c45f5-22a3-84a2-44cc-cf66642d4cf2/full/843,/0/default.jpg\n"
     ]
    },
    {
     "name": "stderr",
     "output_type": "stream",
     "text": [
      "\r",
      "132it [02:22,  1.08s/it]"
     ]
    },
    {
     "name": "stdout",
     "output_type": "stream",
     "text": [
      "download https://www.artic.edu/iiif/2/de2ff14c-3655-9cd1-277a-e0ba5e6d8af6/full/843,/0/default.jpg\n"
     ]
    },
    {
     "name": "stderr",
     "output_type": "stream",
     "text": [
      "\r",
      "133it [02:23,  1.08s/it]"
     ]
    },
    {
     "name": "stdout",
     "output_type": "stream",
     "text": [
      "download https://www.artic.edu/iiif/2/5228201b-fa4a-e167-6c09-5ddaa27cffeb/full/843,/0/default.jpg\n"
     ]
    },
    {
     "name": "stderr",
     "output_type": "stream",
     "text": [
      "\r",
      "134it [02:24,  1.07s/it]"
     ]
    },
    {
     "name": "stdout",
     "output_type": "stream",
     "text": [
      "download https://www.artic.edu/iiif/2/ff7bc41b-f7c6-a8fa-553d-00ea8a70bc91/full/843,/0/default.jpg\n"
     ]
    },
    {
     "name": "stderr",
     "output_type": "stream",
     "text": [
      "\r",
      "135it [02:25,  1.08s/it]"
     ]
    },
    {
     "name": "stdout",
     "output_type": "stream",
     "text": [
      "download https://www.artic.edu/iiif/2/11ec0254-2ebf-b069-e09b-523192ff02ab/full/843,/0/default.jpg\n"
     ]
    },
    {
     "name": "stderr",
     "output_type": "stream",
     "text": [
      "\r",
      "136it [02:26,  1.08s/it]"
     ]
    },
    {
     "name": "stdout",
     "output_type": "stream",
     "text": [
      "download https://www.artic.edu/iiif/2/99a562f9-d39a-274b-0a75-163168dda766/full/843,/0/default.jpg\n"
     ]
    },
    {
     "name": "stderr",
     "output_type": "stream",
     "text": [
      "\r",
      "137it [02:27,  1.09s/it]"
     ]
    },
    {
     "name": "stdout",
     "output_type": "stream",
     "text": [
      "download https://www.artic.edu/iiif/2/47fd1564-93f5-f30b-7786-013421133b4a/full/843,/0/default.jpg\n"
     ]
    },
    {
     "name": "stderr",
     "output_type": "stream",
     "text": [
      "\r",
      "138it [02:29,  1.09s/it]"
     ]
    },
    {
     "name": "stdout",
     "output_type": "stream",
     "text": [
      "download https://www.artic.edu/iiif/2/46ff0699-8905-a7d7-92f3-5210c2cc5e51/full/843,/0/default.jpg\n"
     ]
    },
    {
     "name": "stderr",
     "output_type": "stream",
     "text": [
      "\r",
      "139it [02:30,  1.09s/it]"
     ]
    },
    {
     "name": "stdout",
     "output_type": "stream",
     "text": [
      "download https://www.artic.edu/iiif/2/214ac436-6535-8de0-b77d-c2e5406df956/full/843,/0/default.jpg\n"
     ]
    },
    {
     "name": "stderr",
     "output_type": "stream",
     "text": [
      "\r",
      "140it [02:31,  1.08s/it]"
     ]
    },
    {
     "name": "stdout",
     "output_type": "stream",
     "text": [
      "download https://www.artic.edu/iiif/2/97908967-4d35-cde9-6d90-7e90d3fa1dd6/full/843,/0/default.jpg\n"
     ]
    },
    {
     "name": "stderr",
     "output_type": "stream",
     "text": [
      "\r",
      "141it [02:32,  1.08s/it]"
     ]
    },
    {
     "name": "stdout",
     "output_type": "stream",
     "text": [
      "download https://www.artic.edu/iiif/2/229ac37a-143b-0dfe-7b01-b3da50ee6f18/full/843,/0/default.jpg\n"
     ]
    },
    {
     "name": "stderr",
     "output_type": "stream",
     "text": [
      "\r",
      "142it [02:33,  1.08s/it]"
     ]
    },
    {
     "name": "stdout",
     "output_type": "stream",
     "text": [
      "download https://www.artic.edu/iiif/2/c0318a0c-9092-43ab-3237-6096d952b2c4/full/843,/0/default.jpg\n"
     ]
    },
    {
     "name": "stderr",
     "output_type": "stream",
     "text": [
      "\r",
      "143it [02:34,  1.09s/it]"
     ]
    },
    {
     "name": "stdout",
     "output_type": "stream",
     "text": [
      "download https://www.artic.edu/iiif/2/18092196-50ae-3ff1-9205-1b3110e966c3/full/843,/0/default.jpg\n"
     ]
    },
    {
     "name": "stderr",
     "output_type": "stream",
     "text": [
      "\r",
      "144it [02:35,  1.08s/it]"
     ]
    },
    {
     "name": "stdout",
     "output_type": "stream",
     "text": [
      "download https://www.artic.edu/iiif/2/6fa39eac-ad97-a247-920f-210a370a3f52/full/843,/0/default.jpg\n"
     ]
    },
    {
     "name": "stderr",
     "output_type": "stream",
     "text": [
      "\r",
      "145it [02:36,  1.09s/it]"
     ]
    },
    {
     "name": "stdout",
     "output_type": "stream",
     "text": [
      "download https://www.artic.edu/iiif/2/239e0072-de08-cb26-1484-4776fc27b0fb/full/843,/0/default.jpg\n"
     ]
    },
    {
     "name": "stderr",
     "output_type": "stream",
     "text": [
      "\r",
      "146it [02:37,  1.08s/it]"
     ]
    },
    {
     "name": "stdout",
     "output_type": "stream",
     "text": [
      "download https://www.artic.edu/iiif/2/9b1c3d61-5f9b-c7a2-a5ea-f48248836160/full/843,/0/default.jpg\n"
     ]
    },
    {
     "name": "stderr",
     "output_type": "stream",
     "text": [
      "\r",
      "147it [02:38,  1.08s/it]"
     ]
    },
    {
     "name": "stdout",
     "output_type": "stream",
     "text": [
      "download https://www.artic.edu/iiif/2/83375479-f7a9-bac3-44a8-e705ab6e423c/full/843,/0/default.jpg\n"
     ]
    },
    {
     "name": "stderr",
     "output_type": "stream",
     "text": [
      "\r",
      "148it [02:39,  1.07s/it]"
     ]
    },
    {
     "name": "stdout",
     "output_type": "stream",
     "text": [
      "download https://www.artic.edu/iiif/2/375c77df-2819-fe65-f129-c3bc6ea2ce37/full/843,/0/default.jpg\n"
     ]
    },
    {
     "name": "stderr",
     "output_type": "stream",
     "text": [
      "\r",
      "149it [02:40,  1.07s/it]"
     ]
    },
    {
     "name": "stdout",
     "output_type": "stream",
     "text": [
      "download https://www.artic.edu/iiif/2/0d429682-7cf8-0437-3ed9-b545d23a24f4/full/843,/0/default.jpg\n"
     ]
    },
    {
     "name": "stderr",
     "output_type": "stream",
     "text": [
      "\r",
      "150it [02:41,  1.07s/it]"
     ]
    },
    {
     "name": "stdout",
     "output_type": "stream",
     "text": [
      "download https://www.artic.edu/iiif/2/548e0a34-6043-2fea-628e-97f46484d3f5/full/843,/0/default.jpg\n"
     ]
    },
    {
     "name": "stderr",
     "output_type": "stream",
     "text": [
      "\r",
      "151it [02:43,  1.08s/it]"
     ]
    },
    {
     "name": "stdout",
     "output_type": "stream",
     "text": [
      "download https://www.artic.edu/iiif/2/0729fbba-51e3-a2d7-6d4d-61c2be62af3f/full/843,/0/default.jpg\n"
     ]
    },
    {
     "name": "stderr",
     "output_type": "stream",
     "text": [
      "\r",
      "152it [02:44,  1.07s/it]"
     ]
    },
    {
     "name": "stdout",
     "output_type": "stream",
     "text": [
      "download https://www.artic.edu/iiif/2/dfe5d0d9-5ef0-5ff7-dfa8-43a98d704493/full/843,/0/default.jpg\n"
     ]
    },
    {
     "name": "stderr",
     "output_type": "stream",
     "text": [
      "\r",
      "153it [02:45,  1.07s/it]"
     ]
    },
    {
     "name": "stdout",
     "output_type": "stream",
     "text": [
      "download https://www.artic.edu/iiif/2/631ad042-02e0-e333-112d-6c8e470ad670/full/843,/0/default.jpg\n"
     ]
    },
    {
     "name": "stderr",
     "output_type": "stream",
     "text": [
      "\r",
      "154it [02:46,  1.07s/it]"
     ]
    },
    {
     "name": "stdout",
     "output_type": "stream",
     "text": [
      "download https://www.artic.edu/iiif/2/ebc8d8c4-c8d1-2e44-9c26-ae6138984145/full/843,/0/default.jpg\n"
     ]
    },
    {
     "name": "stderr",
     "output_type": "stream",
     "text": [
      "\r",
      "155it [02:47,  1.07s/it]"
     ]
    },
    {
     "name": "stdout",
     "output_type": "stream",
     "text": [
      "download https://www.artic.edu/iiif/2/4dd78841-4237-9e49-76ec-136fbfa0b0a7/full/843,/0/default.jpg\n"
     ]
    },
    {
     "name": "stderr",
     "output_type": "stream",
     "text": [
      "\r",
      "156it [02:48,  1.07s/it]"
     ]
    },
    {
     "name": "stdout",
     "output_type": "stream",
     "text": [
      "download https://www.artic.edu/iiif/2/729c7015-ffde-6525-a0c8-6e61b67acbe8/full/843,/0/default.jpg\n"
     ]
    },
    {
     "name": "stderr",
     "output_type": "stream",
     "text": [
      "\r",
      "157it [02:49,  1.07s/it]"
     ]
    },
    {
     "name": "stdout",
     "output_type": "stream",
     "text": [
      "download https://www.artic.edu/iiif/2/2d9fb8b5-b9a3-3e41-270e-3c480f7b317b/full/843,/0/default.jpg\n"
     ]
    },
    {
     "name": "stderr",
     "output_type": "stream",
     "text": [
      "\r",
      "158it [02:50,  1.07s/it]"
     ]
    },
    {
     "name": "stdout",
     "output_type": "stream",
     "text": [
      "download https://www.artic.edu/iiif/2/e8572c18-bdda-a2e2-9e95-e0dac1d215d0/full/843,/0/default.jpg\n"
     ]
    },
    {
     "name": "stderr",
     "output_type": "stream",
     "text": [
      "\r",
      "159it [02:51,  1.07s/it]"
     ]
    },
    {
     "name": "stdout",
     "output_type": "stream",
     "text": [
      "download https://www.artic.edu/iiif/2/6088ab1b-930d-a3fa-6cba-bcff70e7bb37/full/843,/0/default.jpg\n"
     ]
    },
    {
     "name": "stderr",
     "output_type": "stream",
     "text": [
      "\r",
      "160it [02:52,  1.07s/it]"
     ]
    },
    {
     "name": "stdout",
     "output_type": "stream",
     "text": [
      "download https://www.artic.edu/iiif/2/2535e55c-b365-d615-d0fa-acce9de35865/full/843,/0/default.jpg\n"
     ]
    },
    {
     "name": "stderr",
     "output_type": "stream",
     "text": [
      "\r",
      "161it [02:53,  1.09s/it]"
     ]
    },
    {
     "name": "stdout",
     "output_type": "stream",
     "text": [
      "download https://www.artic.edu/iiif/2/9a53890f-4be1-2ffd-68fb-c6564f0413af/full/843,/0/default.jpg\n"
     ]
    },
    {
     "name": "stderr",
     "output_type": "stream",
     "text": [
      "\r",
      "162it [02:54,  1.08s/it]"
     ]
    },
    {
     "name": "stdout",
     "output_type": "stream",
     "text": [
      "download https://www.artic.edu/iiif/2/9bc9134c-6b57-80be-c118-566667a615ae/full/843,/0/default.jpg\n"
     ]
    },
    {
     "name": "stderr",
     "output_type": "stream",
     "text": [
      "\r",
      "163it [02:55,  1.08s/it]"
     ]
    },
    {
     "name": "stdout",
     "output_type": "stream",
     "text": [
      "download https://www.artic.edu/iiif/2/a145f14e-2303-ec8c-4a59-1cee25f1832c/full/843,/0/default.jpg\n"
     ]
    },
    {
     "name": "stderr",
     "output_type": "stream",
     "text": [
      "\r",
      "164it [02:56,  1.07s/it]"
     ]
    },
    {
     "name": "stdout",
     "output_type": "stream",
     "text": [
      "download https://www.artic.edu/iiif/2/18ab0c35-e35c-0216-9afd-f93357920db1/full/843,/0/default.jpg\n"
     ]
    },
    {
     "name": "stderr",
     "output_type": "stream",
     "text": [
      "\r",
      "165it [02:58,  1.07s/it]"
     ]
    },
    {
     "name": "stdout",
     "output_type": "stream",
     "text": [
      "download https://www.artic.edu/iiif/2/25f660ee-f1db-d13b-42a5-56df97c98ba7/full/843,/0/default.jpg\n"
     ]
    },
    {
     "name": "stderr",
     "output_type": "stream",
     "text": [
      "\r",
      "166it [02:59,  1.06s/it]"
     ]
    },
    {
     "name": "stdout",
     "output_type": "stream",
     "text": [
      "download https://www.artic.edu/iiif/2/a1dc6109-6e0c-7801-ebe8-8c95fec2c4e4/full/843,/0/default.jpg\n"
     ]
    },
    {
     "name": "stderr",
     "output_type": "stream",
     "text": [
      "\r",
      "167it [03:00,  1.07s/it]"
     ]
    },
    {
     "name": "stdout",
     "output_type": "stream",
     "text": [
      "download https://www.artic.edu/iiif/2/fa81bfb9-5a07-5e3c-33b4-4efde68981c8/full/843,/0/default.jpg\n"
     ]
    },
    {
     "name": "stderr",
     "output_type": "stream",
     "text": [
      "\r",
      "168it [03:01,  1.07s/it]"
     ]
    },
    {
     "name": "stdout",
     "output_type": "stream",
     "text": [
      "download https://www.artic.edu/iiif/2/d4574667-943d-6e28-ec30-fe9c91eeeca1/full/843,/0/default.jpg\n"
     ]
    },
    {
     "name": "stderr",
     "output_type": "stream",
     "text": [
      "\r",
      "169it [03:02,  1.07s/it]"
     ]
    },
    {
     "name": "stdout",
     "output_type": "stream",
     "text": [
      "download https://www.artic.edu/iiif/2/e2271376-79e7-f092-4c0c-610ad9f58e67/full/843,/0/default.jpg\n"
     ]
    },
    {
     "name": "stderr",
     "output_type": "stream",
     "text": [
      "\r",
      "170it [03:03,  1.07s/it]"
     ]
    },
    {
     "name": "stdout",
     "output_type": "stream",
     "text": [
      "download https://www.artic.edu/iiif/2/16c90e2f-1a1c-6b6d-d046-fcfdf20fab4e/full/843,/0/default.jpg\n"
     ]
    },
    {
     "name": "stderr",
     "output_type": "stream",
     "text": [
      "\r",
      "171it [03:04,  1.06s/it]"
     ]
    },
    {
     "name": "stdout",
     "output_type": "stream",
     "text": [
      "download https://www.artic.edu/iiif/2/8d119fd0-2f57-f20e-a3f5-a573904001e9/full/843,/0/default.jpg\n"
     ]
    },
    {
     "name": "stderr",
     "output_type": "stream",
     "text": [
      "\r",
      "172it [03:05,  1.06s/it]"
     ]
    },
    {
     "name": "stdout",
     "output_type": "stream",
     "text": [
      "download https://www.artic.edu/iiif/2/3cea045a-92d6-36cf-1508-2c99ea740218/full/843,/0/default.jpg\n"
     ]
    },
    {
     "name": "stderr",
     "output_type": "stream",
     "text": [
      "\r",
      "173it [03:06,  1.07s/it]"
     ]
    },
    {
     "name": "stdout",
     "output_type": "stream",
     "text": [
      "download https://www.artic.edu/iiif/2/1d30ac4e-c91c-d91d-705f-acdce9e6efb4/full/843,/0/default.jpg\n"
     ]
    },
    {
     "name": "stderr",
     "output_type": "stream",
     "text": [
      "\r",
      "174it [03:07,  1.08s/it]"
     ]
    },
    {
     "name": "stdout",
     "output_type": "stream",
     "text": [
      "download https://www.artic.edu/iiif/2/52ac8996-3460-cf71-cb42-5c4d0aa29b74/full/843,/0/default.jpg\n"
     ]
    },
    {
     "name": "stderr",
     "output_type": "stream",
     "text": [
      "\r",
      "175it [03:08,  1.10s/it]"
     ]
    },
    {
     "name": "stdout",
     "output_type": "stream",
     "text": [
      "download https://www.artic.edu/iiif/2/5de963b1-55e2-b349-6cd5-85f9bd2687ec/full/843,/0/default.jpg\n"
     ]
    },
    {
     "name": "stderr",
     "output_type": "stream",
     "text": [
      "\r",
      "176it [03:09,  1.10s/it]"
     ]
    },
    {
     "name": "stdout",
     "output_type": "stream",
     "text": [
      "download https://www.artic.edu/iiif/2/e54a695c-16df-cf45-9dd4-b517e8c32cc3/full/843,/0/default.jpg\n"
     ]
    },
    {
     "name": "stderr",
     "output_type": "stream",
     "text": [
      "\r",
      "177it [03:10,  1.08s/it]"
     ]
    },
    {
     "name": "stdout",
     "output_type": "stream",
     "text": [
      "download https://www.artic.edu/iiif/2/b553d1fe-da1f-dd9e-ff0f-c36fc22aac0e/full/843,/0/default.jpg\n"
     ]
    },
    {
     "name": "stderr",
     "output_type": "stream",
     "text": [
      "\r",
      "178it [03:12,  1.08s/it]"
     ]
    },
    {
     "name": "stdout",
     "output_type": "stream",
     "text": [
      "download https://www.artic.edu/iiif/2/d812e25d-5d00-cb04-f973-c5eaf671d540/full/843,/0/default.jpg\n"
     ]
    },
    {
     "name": "stderr",
     "output_type": "stream",
     "text": [
      "\r",
      "179it [03:13,  1.07s/it]"
     ]
    },
    {
     "name": "stdout",
     "output_type": "stream",
     "text": [
      "download https://www.artic.edu/iiif/2/846b0cc8-20b5-845a-8f07-f418e6d98ff5/full/843,/0/default.jpg\n"
     ]
    },
    {
     "name": "stderr",
     "output_type": "stream",
     "text": [
      "\r",
      "180it [03:14,  1.07s/it]"
     ]
    },
    {
     "name": "stdout",
     "output_type": "stream",
     "text": [
      "download https://www.artic.edu/iiif/2/1cddae1c-99d5-462f-4aa6-128c0732ac11/full/843,/0/default.jpg\n"
     ]
    },
    {
     "name": "stderr",
     "output_type": "stream",
     "text": [
      "\r",
      "181it [03:15,  1.07s/it]"
     ]
    },
    {
     "name": "stdout",
     "output_type": "stream",
     "text": [
      "download https://www.artic.edu/iiif/2/55c7170e-0011-df2a-8943-b22cb5585661/full/843,/0/default.jpg\n"
     ]
    },
    {
     "name": "stderr",
     "output_type": "stream",
     "text": [
      "\r",
      "182it [03:16,  1.07s/it]"
     ]
    },
    {
     "name": "stdout",
     "output_type": "stream",
     "text": [
      "download https://www.artic.edu/iiif/2/a8646837-9f22-0141-5716-fee38e53cc91/full/843,/0/default.jpg\n"
     ]
    },
    {
     "name": "stderr",
     "output_type": "stream",
     "text": [
      "\r",
      "183it [03:17,  1.07s/it]"
     ]
    },
    {
     "name": "stdout",
     "output_type": "stream",
     "text": [
      "download https://www.artic.edu/iiif/2/9365a024-75ce-75e9-756f-1c2c96eadec9/full/843,/0/default.jpg\n"
     ]
    },
    {
     "name": "stderr",
     "output_type": "stream",
     "text": [
      "\r",
      "184it [03:18,  1.07s/it]"
     ]
    },
    {
     "name": "stdout",
     "output_type": "stream",
     "text": [
      "download https://www.artic.edu/iiif/2/4747ac8d-191c-75ac-3198-f7b551441fe4/full/843,/0/default.jpg\n"
     ]
    },
    {
     "name": "stderr",
     "output_type": "stream",
     "text": [
      "\r",
      "185it [03:19,  1.08s/it]"
     ]
    },
    {
     "name": "stdout",
     "output_type": "stream",
     "text": [
      "download https://www.artic.edu/iiif/2/38bb6be4-223e-af7a-7e18-f9ad0c388d3c/full/843,/0/default.jpg\n"
     ]
    },
    {
     "name": "stderr",
     "output_type": "stream",
     "text": [
      "\r",
      "186it [03:20,  1.09s/it]"
     ]
    },
    {
     "name": "stdout",
     "output_type": "stream",
     "text": [
      "download https://www.artic.edu/iiif/2/a146920f-65dd-66d0-68ec-f6fff2451e5e/full/843,/0/default.jpg\n"
     ]
    },
    {
     "name": "stderr",
     "output_type": "stream",
     "text": [
      "\r",
      "187it [03:21,  1.08s/it]"
     ]
    },
    {
     "name": "stdout",
     "output_type": "stream",
     "text": [
      "download https://www.artic.edu/iiif/2/d55b0cfc-0716-d6cd-3b38-5742903ce046/full/843,/0/default.jpg\n"
     ]
    },
    {
     "name": "stderr",
     "output_type": "stream",
     "text": [
      "\r",
      "188it [03:22,  1.08s/it]"
     ]
    },
    {
     "name": "stdout",
     "output_type": "stream",
     "text": [
      "download https://www.artic.edu/iiif/2/5de78980-17d7-8fb5-83de-7b2ae4e997f2/full/843,/0/default.jpg\n"
     ]
    },
    {
     "name": "stderr",
     "output_type": "stream",
     "text": [
      "\r",
      "189it [03:23,  1.08s/it]"
     ]
    },
    {
     "name": "stdout",
     "output_type": "stream",
     "text": [
      "download https://www.artic.edu/iiif/2/6984d399-ce23-cb53-29e3-bd96c932d908/full/843,/0/default.jpg\n"
     ]
    },
    {
     "name": "stderr",
     "output_type": "stream",
     "text": [
      "\r",
      "190it [03:24,  1.07s/it]"
     ]
    },
    {
     "name": "stdout",
     "output_type": "stream",
     "text": [
      "download https://www.artic.edu/iiif/2/13b2edbf-05dc-a541-af00-6c14408ce6a6/full/843,/0/default.jpg\n"
     ]
    },
    {
     "name": "stderr",
     "output_type": "stream",
     "text": [
      "\r",
      "191it [03:26,  1.08s/it]"
     ]
    },
    {
     "name": "stdout",
     "output_type": "stream",
     "text": [
      "download https://www.artic.edu/iiif/2/44506581-ba5e-57bf-713d-8dd3b3b80310/full/843,/0/default.jpg\n"
     ]
    },
    {
     "name": "stderr",
     "output_type": "stream",
     "text": [
      "\r",
      "192it [03:27,  1.08s/it]"
     ]
    },
    {
     "name": "stdout",
     "output_type": "stream",
     "text": [
      "download https://www.artic.edu/iiif/2/7be77291-9b19-5bf7-09dc-52be533bff73/full/843,/0/default.jpg\n"
     ]
    },
    {
     "name": "stderr",
     "output_type": "stream",
     "text": [
      "\r",
      "193it [03:28,  1.08s/it]"
     ]
    },
    {
     "name": "stdout",
     "output_type": "stream",
     "text": [
      "download https://www.artic.edu/iiif/2/2c6ecfa3-db53-694f-5675-dc119ee86690/full/843,/0/default.jpg\n"
     ]
    },
    {
     "name": "stderr",
     "output_type": "stream",
     "text": [
      "\r",
      "194it [03:29,  1.09s/it]"
     ]
    },
    {
     "name": "stdout",
     "output_type": "stream",
     "text": [
      "download https://www.artic.edu/iiif/2/c3f36398-eee0-77a9-17f4-204f3252f6f9/full/843,/0/default.jpg\n"
     ]
    },
    {
     "name": "stderr",
     "output_type": "stream",
     "text": [
      "\r",
      "195it [03:30,  1.08s/it]"
     ]
    },
    {
     "name": "stdout",
     "output_type": "stream",
     "text": [
      "download https://www.artic.edu/iiif/2/f52bfbf2-bfd4-524c-b042-80b73233bea8/full/843,/0/default.jpg\n"
     ]
    },
    {
     "name": "stderr",
     "output_type": "stream",
     "text": [
      "\r",
      "196it [03:31,  1.08s/it]"
     ]
    },
    {
     "name": "stdout",
     "output_type": "stream",
     "text": [
      "download https://www.artic.edu/iiif/2/d7df2633-3b40-f570-c906-211503a37cde/full/843,/0/default.jpg\n"
     ]
    },
    {
     "name": "stderr",
     "output_type": "stream",
     "text": [
      "\r",
      "197it [03:32,  1.08s/it]"
     ]
    },
    {
     "name": "stdout",
     "output_type": "stream",
     "text": [
      "download https://www.artic.edu/iiif/2/fa92da95-3ee2-8ab3-c938-9f5778342552/full/843,/0/default.jpg\n"
     ]
    },
    {
     "name": "stderr",
     "output_type": "stream",
     "text": [
      "\r",
      "198it [03:33,  1.08s/it]"
     ]
    },
    {
     "name": "stdout",
     "output_type": "stream",
     "text": [
      "download https://www.artic.edu/iiif/2/cbae4723-b8bb-c870-ba5d-1dc0bae19528/full/843,/0/default.jpg\n"
     ]
    },
    {
     "name": "stderr",
     "output_type": "stream",
     "text": [
      "\r",
      "199it [03:34,  1.07s/it]"
     ]
    },
    {
     "name": "stdout",
     "output_type": "stream",
     "text": [
      "download https://www.artic.edu/iiif/2/be169735-ea1c-7440-c438-bafd24021119/full/843,/0/default.jpg\n"
     ]
    },
    {
     "name": "stderr",
     "output_type": "stream",
     "text": [
      "\r",
      "200it [03:35,  1.07s/it]"
     ]
    },
    {
     "name": "stdout",
     "output_type": "stream",
     "text": [
      "download https://www.artic.edu/iiif/2/47b28b55-ced6-502d-f111-fbe0033f8dc8/full/843,/0/default.jpg\n"
     ]
    },
    {
     "name": "stderr",
     "output_type": "stream",
     "text": [
      "\r",
      "201it [03:36,  1.07s/it]"
     ]
    },
    {
     "name": "stdout",
     "output_type": "stream",
     "text": [
      "download https://www.artic.edu/iiif/2/5e46bf23-e903-5621-f5c2-21bdeccbf5c3/full/843,/0/default.jpg\n"
     ]
    },
    {
     "name": "stderr",
     "output_type": "stream",
     "text": [
      "\r",
      "202it [03:37,  1.07s/it]"
     ]
    },
    {
     "name": "stdout",
     "output_type": "stream",
     "text": [
      "download https://www.artic.edu/iiif/2/34133244-99a5-246f-c72f-76f32e55d253/full/843,/0/default.jpg\n"
     ]
    },
    {
     "name": "stderr",
     "output_type": "stream",
     "text": [
      "\r",
      "203it [03:38,  1.07s/it]"
     ]
    },
    {
     "name": "stdout",
     "output_type": "stream",
     "text": [
      "download https://www.artic.edu/iiif/2/d661b811-c78c-ac16-b39c-442cbd8c517f/full/843,/0/default.jpg\n"
     ]
    },
    {
     "name": "stderr",
     "output_type": "stream",
     "text": [
      "\r",
      "204it [03:39,  1.07s/it]"
     ]
    },
    {
     "name": "stdout",
     "output_type": "stream",
     "text": [
      "download https://www.artic.edu/iiif/2/1f49224f-ccf1-3005-65be-357702585bb8/full/843,/0/default.jpg\n"
     ]
    },
    {
     "name": "stderr",
     "output_type": "stream",
     "text": [
      "\r",
      "205it [03:41,  1.06s/it]"
     ]
    },
    {
     "name": "stdout",
     "output_type": "stream",
     "text": [
      "download https://www.artic.edu/iiif/2/1dcb1fd9-8254-8098-586c-e5b117c00871/full/843,/0/default.jpg\n"
     ]
    },
    {
     "name": "stderr",
     "output_type": "stream",
     "text": [
      "\r",
      "206it [03:42,  1.06s/it]"
     ]
    },
    {
     "name": "stdout",
     "output_type": "stream",
     "text": [
      "download https://www.artic.edu/iiif/2/6f071f3a-a59e-ee80-6528-ed1fa8670090/full/843,/0/default.jpg\n"
     ]
    },
    {
     "name": "stderr",
     "output_type": "stream",
     "text": [
      "\r",
      "207it [03:43,  1.07s/it]"
     ]
    },
    {
     "name": "stdout",
     "output_type": "stream",
     "text": [
      "download https://www.artic.edu/iiif/2/b82fd3da-48ef-ca2d-4ab2-13342c765c12/full/843,/0/default.jpg\n"
     ]
    },
    {
     "name": "stderr",
     "output_type": "stream",
     "text": [
      "\r",
      "208it [03:44,  1.08s/it]"
     ]
    },
    {
     "name": "stdout",
     "output_type": "stream",
     "text": [
      "download https://www.artic.edu/iiif/2/40fdb1d6-93fe-2916-78fb-f56a1ac261f1/full/843,/0/default.jpg\n"
     ]
    },
    {
     "name": "stderr",
     "output_type": "stream",
     "text": [
      "\r",
      "209it [03:45,  1.09s/it]"
     ]
    },
    {
     "name": "stdout",
     "output_type": "stream",
     "text": [
      "download https://www.artic.edu/iiif/2/ee3d039d-d4dc-1f0d-c4a4-0066d34b438a/full/843,/0/default.jpg\n"
     ]
    },
    {
     "name": "stderr",
     "output_type": "stream",
     "text": [
      "\r",
      "210it [03:46,  1.09s/it]"
     ]
    },
    {
     "name": "stdout",
     "output_type": "stream",
     "text": [
      "download https://www.artic.edu/iiif/2/637a65fa-a6f2-8a9f-a6f4-98fcffe2ec92/full/843,/0/default.jpg\n"
     ]
    },
    {
     "name": "stderr",
     "output_type": "stream",
     "text": [
      "\r",
      "211it [03:47,  1.09s/it]"
     ]
    },
    {
     "name": "stdout",
     "output_type": "stream",
     "text": [
      "download https://www.artic.edu/iiif/2/899c5368-d920-d493-05b3-43c875bcce95/full/843,/0/default.jpg\n"
     ]
    },
    {
     "name": "stderr",
     "output_type": "stream",
     "text": [
      "\r",
      "212it [03:48,  1.10s/it]"
     ]
    },
    {
     "name": "stdout",
     "output_type": "stream",
     "text": [
      "download https://www.artic.edu/iiif/2/ea1e9c35-df65-1d51-96a0-73c772e18990/full/843,/0/default.jpg\n"
     ]
    },
    {
     "name": "stderr",
     "output_type": "stream",
     "text": [
      "\r",
      "213it [03:49,  1.10s/it]"
     ]
    },
    {
     "name": "stdout",
     "output_type": "stream",
     "text": [
      "download https://www.artic.edu/iiif/2/1f36143a-1591-b2a0-f757-20f92438ee5a/full/843,/0/default.jpg\n"
     ]
    },
    {
     "name": "stderr",
     "output_type": "stream",
     "text": [
      "\r",
      "214it [03:50,  1.09s/it]"
     ]
    },
    {
     "name": "stdout",
     "output_type": "stream",
     "text": [
      "download https://www.artic.edu/iiif/2/69f25cba-e78d-061b-4cc1-b8fe66b02f28/full/843,/0/default.jpg\n"
     ]
    },
    {
     "name": "stderr",
     "output_type": "stream",
     "text": [
      "\r",
      "215it [03:51,  1.08s/it]"
     ]
    },
    {
     "name": "stdout",
     "output_type": "stream",
     "text": [
      "download https://www.artic.edu/iiif/2/2bc4d353-e61a-7589-8585-2000a23689bb/full/843,/0/default.jpg\n"
     ]
    },
    {
     "name": "stderr",
     "output_type": "stream",
     "text": [
      "\r",
      "216it [03:52,  1.07s/it]"
     ]
    },
    {
     "name": "stdout",
     "output_type": "stream",
     "text": [
      "download https://www.artic.edu/iiif/2/cce3f815-0f77-5b8d-83d4-43e2b22a52cf/full/843,/0/default.jpg\n"
     ]
    },
    {
     "name": "stderr",
     "output_type": "stream",
     "text": [
      "\r",
      "217it [03:53,  1.16it/s]"
     ]
    },
    {
     "name": "stdout",
     "output_type": "stream",
     "text": [
      "Skipping https://www.artic.edu/iiif/2/cce3f815-0f77-5b8d-83d4-43e2b22a52cf/full/843,/0/default.jpg: Image not found\n",
      "download https://www.artic.edu/iiif/2/bda9c39c-12d8-e753-3371-7e40230b88b7/full/843,/0/default.jpg\n"
     ]
    },
    {
     "name": "stderr",
     "output_type": "stream",
     "text": [
      "\r",
      "218it [03:54,  1.05it/s]"
     ]
    },
    {
     "name": "stdout",
     "output_type": "stream",
     "text": [
      "download https://www.artic.edu/iiif/2/79388e76-3bad-d8a8-72da-af1dbcd7db77/full/843,/0/default.jpg\n"
     ]
    },
    {
     "name": "stderr",
     "output_type": "stream",
     "text": [
      "\r",
      "219it [03:55,  1.00it/s]"
     ]
    },
    {
     "name": "stdout",
     "output_type": "stream",
     "text": [
      "download https://www.artic.edu/iiif/2/17455fc4-14ec-b892-93d2-ebf89c7c689e/full/843,/0/default.jpg\n"
     ]
    },
    {
     "name": "stderr",
     "output_type": "stream",
     "text": [
      "\r",
      "220it [03:56,  1.03s/it]"
     ]
    },
    {
     "name": "stdout",
     "output_type": "stream",
     "text": [
      "download https://www.artic.edu/iiif/2/5c3cbb0f-03e6-7d46-60b6-f612ed71b5d3/full/843,/0/default.jpg\n"
     ]
    },
    {
     "name": "stderr",
     "output_type": "stream",
     "text": [
      "\r",
      "221it [03:57,  1.04s/it]"
     ]
    },
    {
     "name": "stdout",
     "output_type": "stream",
     "text": [
      "download https://www.artic.edu/iiif/2/cac09e60-7c12-5088-3efa-e145b3b47c5b/full/843,/0/default.jpg\n"
     ]
    },
    {
     "name": "stderr",
     "output_type": "stream",
     "text": [
      "\r",
      "222it [03:58,  1.05s/it]"
     ]
    },
    {
     "name": "stdout",
     "output_type": "stream",
     "text": [
      "download https://www.artic.edu/iiif/2/36e70de8-0ba3-2fe5-dd2e-53612b48a395/full/843,/0/default.jpg\n"
     ]
    },
    {
     "name": "stderr",
     "output_type": "stream",
     "text": [
      "\r",
      "223it [03:59,  1.06s/it]"
     ]
    },
    {
     "name": "stdout",
     "output_type": "stream",
     "text": [
      "download https://www.artic.edu/iiif/2/67c7274f-612f-3180-0a12-e2c7ed5a7dd4/full/843,/0/default.jpg\n"
     ]
    },
    {
     "name": "stderr",
     "output_type": "stream",
     "text": [
      "\r",
      "224it [04:01,  1.06s/it]"
     ]
    },
    {
     "name": "stdout",
     "output_type": "stream",
     "text": [
      "download https://www.artic.edu/iiif/2/13a251ba-2c7a-2d0c-3f65-820c0e1f1a39/full/843,/0/default.jpg\n"
     ]
    },
    {
     "name": "stderr",
     "output_type": "stream",
     "text": [
      "225it [04:02,  1.08s/it]\n"
     ]
    }
   ],
   "source": [
    "for index, value in tqdm(public_df.iterrows()):\n",
    "    id = public_df.loc[index]['id']\n",
    "    identifier = public_df.loc[index]['image_id']\n",
    "    url = f'https://www.artic.edu/iiif/2/{identifier}/full/843,/0/default.jpg'\n",
    "    print(f'download {url}')\n",
    "    response = requests.get(url)\n",
    "    if response.status_code == 404:\n",
    "        print(f'Skipping {url}: Image not found')\n",
    "        continue\n",
    "        \n",
    "    # Convert the content to an image\n",
    "    image = Image.open(BytesIO(response.content))\n",
    "\n",
    "    # Save the image to the output folder with its id as unique filename\n",
    "    filename = f'{id}.jpg'\n",
    "    output_path = os.path.join(output_folder, filename)\n",
    "    image.save(output_path)\n",
    "\n",
    "    # Wait for 1 second before downloading the next image\n",
    "    time.sleep(1)"
   ]
  },
  {
   "cell_type": "markdown",
   "id": "b84cb23b",
   "metadata": {
    "ExecuteTime": {
     "end_time": "2023-04-14T07:40:48.435004Z",
     "start_time": "2023-04-14T07:40:48.431921Z"
    }
   },
   "source": [
    "* Download sound files"
   ]
  },
  {
   "cell_type": "code",
   "execution_count": 373,
   "id": "bee0878c",
   "metadata": {
    "ExecuteTime": {
     "end_time": "2023-04-14T08:01:05.669287Z",
     "start_time": "2023-04-14T08:01:05.661718Z"
    }
   },
   "outputs": [
    {
     "data": {
      "text/plain": [
       "[]                                                                              0.568889\n",
       "[fd2bd2c7-fb34-6e84-034a-49cb05ec4d6d]                                          0.004444\n",
       "[031e5d5f-5a02-7dc4-faba-5f46a7914039, 367d7d17-cf67-faca-eb21-8d898265336f]    0.004444\n",
       "[34302929-1430-aa1c-8cca-23d94444ba2d]                                          0.004444\n",
       "[bebc4218-ec27-d5e5-3755-3ab79420a5d1]                                          0.004444\n",
       "                                                                                  ...   \n",
       "[a0d232ce-be78-8c35-3ff4-8fc21665b010]                                          0.004444\n",
       "[3861dbe0-e54b-7fdc-225c-3f192a7b3947, 07a1f837-9df3-6675-9992-248fbbb6a485]    0.004444\n",
       "[4bbf187a-cef1-bec1-9f4d-9946d7bfb8b6, 5968010e-07a0-1055-072c-8fae9acfa8b8]    0.004444\n",
       "[0f5293cb-626b-ee91-81f1-ed14623ce3fd, a8dabe2b-9c27-b59d-2964-f9f532fb785d]    0.004444\n",
       "[e694a130-f9f9-d8e0-d06b-0c922636f6df]                                          0.004444\n",
       "Name: sound_ids, Length: 98, dtype: float64"
      ]
     },
     "execution_count": 373,
     "metadata": {},
     "output_type": "execute_result"
    }
   ],
   "source": [
    "public_df['sound_ids'].value_counts(normalize=True)"
   ]
  },
  {
   "cell_type": "code",
   "execution_count": 405,
   "id": "189947ce",
   "metadata": {
    "ExecuteTime": {
     "end_time": "2023-04-14T08:12:01.936888Z",
     "start_time": "2023-04-14T08:12:01.932230Z"
    }
   },
   "outputs": [
    {
     "data": {
      "text/plain": [
       "id                                                               4428\n",
       "title                                                   Mère Grégoire\n",
       "thumbnail           {'lqip': 'data:image/gif;base64,R0lGODlhBAAFAP...\n",
       "date_start                                                       1855\n",
       "date_end                                                         1859\n",
       "date_display                                         1855 and 1857/59\n",
       "artist_display                     Gustave Courbet\\nFrench, 1819-1877\n",
       "place_of_origin                                                France\n",
       "medium_display                                          Oil on canvas\n",
       "is_public_domain                                                 True\n",
       "copyright_notice                                                 None\n",
       "artist_id                                                       34049\n",
       "artist_title                                          Gustave Courbet\n",
       "term_titles         [painting, oil painting, oil paint (paint), Ce...\n",
       "image_id                         2e6d08c8-dac0-4f1c-3e56-de3539ceb905\n",
       "document_ids                                                       []\n",
       "sound_ids                                                          []\n",
       "video_ids                                                          []\n",
       "text_ids                                                           []\n",
       "alt_text            Dark portrait of older woman in black dress wi...\n",
       "Name: 4, dtype: object"
      ]
     },
     "execution_count": 405,
     "metadata": {},
     "output_type": "execute_result"
    }
   ],
   "source": [
    "public_df.iloc[2]"
   ]
  },
  {
   "cell_type": "code",
   "execution_count": 408,
   "id": "e7fb5030",
   "metadata": {
    "ExecuteTime": {
     "end_time": "2023-04-14T08:19:16.341711Z",
     "start_time": "2023-04-14T08:19:16.338796Z"
    }
   },
   "outputs": [],
   "source": [
    "folder_path = os.path.join(os.getcwd(), 'raw_data/sounds/artic_topartworks_public')\n",
    "if not os.path.exists(folder_path):\n",
    "    os.makedirs(folder_path)"
   ]
  },
  {
   "cell_type": "code",
   "execution_count": 411,
   "id": "5ce39abc",
   "metadata": {
    "ExecuteTime": {
     "end_time": "2023-04-14T08:25:52.992573Z",
     "start_time": "2023-04-14T08:22:06.240734Z"
    }
   },
   "outputs": [
    {
     "name": "stdout",
     "output_type": "stream",
     "text": [
      "https://www.artic.edu/assets/fd2bd2c7-fb34-6e84-034a-49cb05ec4d6d\n",
      "Sound saved to 869.mp3\n",
      "https://www.artic.edu/assets/1faeb566-bc3a-9792-97f4-4ef156bd924d\n",
      "Sound saved to 4081.mp3\n",
      "error encountered, skipping...\n",
      "https://www.artic.edu/assets/28d1af93-d306-1886-94a0-6e4c8420fb8a\n",
      "Sound saved to 4575.mp3\n",
      "https://www.artic.edu/assets/86aaf438-63d2-52ea-f883-e81dac4ee695\n",
      "Sound saved to 4758.mp3\n",
      "error encountered, skipping...\n",
      "https://www.artic.edu/assets/882a8a15-0b99-de46-a868-1e8ca0596a9d\n",
      "Sound saved to 4788.mp3\n",
      "error encountered, skipping...\n",
      "https://www.artic.edu/assets/2364b23c-f4e0-ce4e-9d65-d31a6b0f5dff\n",
      "Sound saved to 5848.mp3\n",
      "error encountered, skipping...\n",
      "https://www.artic.edu/assets/ee168f31-6695-e48c-e430-a57a4ba7fdce\n",
      "Sound saved to 8958.mp3\n",
      "https://www.artic.edu/assets/69b174c7-8039-b5c7-7474-957a2d0fee0e\n",
      "Sound saved to 8991.mp3\n",
      "error encountered, skipping...\n",
      "error encountered, skipping...\n",
      "error encountered, skipping...\n",
      "https://www.artic.edu/assets/390c54e3-82bc-c57f-077a-6b5a9a1d939d\n",
      "Sound saved to 11434.mp3\n",
      "https://www.artic.edu/assets/2086435f-6c83-5e54-2fea-3b9f011f9c3f\n",
      "Sound saved to 11723.mp3\n",
      "https://www.artic.edu/assets/8cfe11d2-a93e-8026-5f35-598513b7c929\n",
      "Sound saved to 13853.mp3\n",
      "https://www.artic.edu/assets/2149bc62-56f8-b16a-b3d2-b15e3bbeef59\n",
      "Sound saved to 14572.mp3\n",
      "error encountered, skipping...\n",
      "https://www.artic.edu/assets/bdee9d09-17d2-c873-2f06-687dd91eb7c3\n",
      "Sound saved to 14591.mp3\n",
      "error encountered, skipping...\n",
      "https://www.artic.edu/assets/877ca855-6d41-6dec-1726-d18380aa8305\n",
      "Sound saved to 14655.mp3\n",
      "error encountered, skipping...\n",
      "https://www.artic.edu/assets/9d17e411-b3f3-6130-d09c-1961a4f50504\n",
      "Sound saved to 15401.mp3\n",
      "https://www.artic.edu/assets/c261938a-6c52-0fbb-1b9d-f2ce3df40f23\n",
      "Sound saved to 15468.mp3\n",
      "https://www.artic.edu/assets/b6273c1f-cab5-9a67-1a93-03f148a5fbee\n",
      "Sound saved to 16146.mp3\n",
      "error encountered, skipping...\n",
      "error encountered, skipping...\n",
      "error encountered, skipping...\n",
      "https://www.artic.edu/assets/c11d54e6-60cb-f251-6313-591e67788e45\n",
      "Sound saved to 16327.mp3\n",
      "error encountered, skipping...\n",
      "error encountered, skipping...\n",
      "error encountered, skipping...\n",
      "https://www.artic.edu/assets/f11b57a9-c4fd-98d1-ed43-a256feb613db\n",
      "Sound saved to 16499.mp3\n",
      "https://www.artic.edu/assets/e746e585-4e44-39d6-1608-e9cdf21f2f56\n",
      "Sound saved to 16551.mp3\n",
      "https://www.artic.edu/assets/774a8d6d-4fb3-8daa-58de-5b8791f8b2c4\n",
      "Sound saved to 16568.mp3\n",
      "https://www.artic.edu/assets/ec7cf803-7d44-ff3c-ad45-79cb5dc5f820\n",
      "Sound saved to 16571.mp3\n",
      "error encountered, skipping...\n",
      "error encountered, skipping...\n",
      "https://www.artic.edu/assets/df82f24a-f4d4-fb47-5d52-f1889e2aad9d\n",
      "Sound saved to 19339.mp3\n",
      "error encountered, skipping...\n",
      "https://www.artic.edu/assets/5f8c8bcd-e7a1-d43d-ca8f-bfef675879b7\n",
      "Sound saved to 20579.mp3\n",
      "https://www.artic.edu/assets/8313475f-a89a-035d-8a5b-93ac1bfcc69d\n",
      "Sound saved to 20684.mp3\n",
      "error encountered, skipping...\n",
      "https://www.artic.edu/assets/8234e412-189c-4769-8daa-6bcc2cb82c92\n",
      "Sound saved to 23333.mp3\n",
      "error encountered, skipping...\n",
      "https://www.artic.edu/assets/d702312a-39c5-fe3d-d16d-a9485a56affc\n",
      "Sound saved to 23972.mp3\n",
      "https://www.artic.edu/assets/0f5293cb-626b-ee91-81f1-ed14623ce3fd\n",
      "Sound saved to 24548.mp3\n",
      "error encountered, skipping...\n",
      "error encountered, skipping...\n",
      "https://www.artic.edu/assets/4bbf187a-cef1-bec1-9f4d-9946d7bfb8b6\n",
      "Sound saved to 25853.mp3\n",
      "https://www.artic.edu/assets/3861dbe0-e54b-7fdc-225c-3f192a7b3947\n",
      "Sound saved to 25865.mp3\n",
      "error encountered, skipping...\n",
      "https://www.artic.edu/assets/a0d232ce-be78-8c35-3ff4-8fc21665b010\n",
      "Sound saved to 27310.mp3\n",
      "https://www.artic.edu/assets/db2154f5-380a-fce0-dab1-59e6d3c46d16\n",
      "Sound saved to 27987.mp3\n",
      "https://www.artic.edu/assets/d9683532-66fd-67c3-5588-021527d115af\n",
      "Sound saved to 27992.mp3\n",
      "https://www.artic.edu/assets/02e976d2-8c4a-3cc2-9d2b-3cee40fe8291\n",
      "Sound saved to 28560.mp3\n",
      "error encountered, skipping...\n",
      "error encountered, skipping...\n",
      "error encountered, skipping...\n",
      "https://www.artic.edu/assets/6065bb79-2319-0414-fa02-304ec5f72771\n",
      "Sound saved to 34116.mp3\n",
      "error encountered, skipping...\n",
      "error encountered, skipping...\n",
      "error encountered, skipping...\n",
      "error encountered, skipping...\n",
      "https://www.artic.edu/assets/e0de9344-39f6-1e25-7506-05f8c88e42db\n",
      "Sound saved to 42566.mp3\n",
      "https://www.artic.edu/assets/a96b0b43-0d39-1aff-8d3a-f20eabc7c59f\n",
      "Sound saved to 43060.mp3\n",
      "error encountered, skipping...\n",
      "error encountered, skipping...\n",
      "error encountered, skipping...\n",
      "https://www.artic.edu/assets/06104032-2b29-7c27-8d2f-7068f646e7ab\n",
      "Sound saved to 44741.mp3\n",
      "error encountered, skipping...\n",
      "error encountered, skipping...\n",
      "error encountered, skipping...\n",
      "error encountered, skipping...\n",
      "https://www.artic.edu/assets/41079bb2-af77-e076-0fe1-e50c45c7a739\n",
      "Sound saved to 49702.mp3\n",
      "error encountered, skipping...\n",
      "https://www.artic.edu/assets/e22a48b4-448d-3cba-8fac-798286f4d68d\n",
      "Sound saved to 50330.mp3\n",
      "error encountered, skipping...\n",
      "error encountered, skipping...\n",
      "error encountered, skipping...\n",
      "error encountered, skipping...\n",
      "error encountered, skipping...\n",
      "https://www.artic.edu/assets/f67dfa2b-0ebc-9426-697d-c5a798e5ddda\n",
      "Sound saved to 55249.mp3\n",
      "https://www.artic.edu/assets/f1e06c78-d46f-1720-29df-19a9f7b85860\n",
      "Sound saved to 55706.mp3\n",
      "error encountered, skipping...\n",
      "https://www.artic.edu/assets/3e365fa3-fe02-4fc6-a2f3-75221d6cebe0\n",
      "Sound saved to 56905.mp3\n",
      "error encountered, skipping...\n",
      "https://www.artic.edu/assets/a0f85e4f-2a9c-f704-4d48-7dc91ff6a449\n",
      "Sound saved to 57819.mp3\n",
      "https://www.artic.edu/assets/3daef9b8-33d9-76de-74e6-5d633da92a5e\n",
      "Sound saved to 58540.mp3\n",
      "error encountered, skipping...\n",
      "https://www.artic.edu/assets/e25bc1a3-6cf4-1902-e0bc-9caf24d8f3bf\n",
      "Sound saved to 59847.mp3\n",
      "error encountered, skipping...\n",
      "error encountered, skipping...\n",
      "https://www.artic.edu/assets/82c51207-24a5-9da8-e8c4-149d7f97d593\n",
      "Sound saved to 60812.mp3\n",
      "error encountered, skipping...\n",
      "error encountered, skipping...\n",
      "https://www.artic.edu/assets/4892d093-1f95-2a76-a8f7-e622637e1e66\n",
      "Sound saved to 62042.mp3\n",
      "https://www.artic.edu/assets/fe83c0b9-37a5-084a-fed9-b150c56289f8\n",
      "Sound saved to 62371.mp3\n",
      "error encountered, skipping...\n",
      "https://www.artic.edu/assets/03c5410e-ff98-49f2-7080-eecdb045168f\n",
      "Sound saved to 64339.mp3\n",
      "error encountered, skipping...\n",
      "error encountered, skipping...\n",
      "error encountered, skipping...\n",
      "error encountered, skipping...\n",
      "error encountered, skipping...\n",
      "error encountered, skipping...\n",
      "error encountered, skipping...\n",
      "https://www.artic.edu/assets/2cbc7414-eed2-79a0-826f-022ac401c9db\n",
      "Sound saved to 68769.mp3\n",
      "https://www.artic.edu/assets/2a141f37-e388-4f38-5fa3-34ce8e084453\n",
      "Sound saved to 69109.mp3\n",
      "https://www.artic.edu/assets/311c5eb9-7ee8-ad6d-f55e-62045cd798ea\n",
      "Sound saved to 69780.mp3\n",
      "https://www.artic.edu/assets/6d66d3bf-abc1-06a3-06e0-3275a5f80477\n",
      "Sound saved to 70003.mp3\n",
      "error encountered, skipping...\n",
      "error encountered, skipping...\n",
      "error encountered, skipping...\n",
      "error encountered, skipping...\n",
      "https://www.artic.edu/assets/f5d92df8-a671-6782-478b-f964d0b01ae9\n",
      "Sound saved to 73413.mp3\n",
      "https://www.artic.edu/assets/5a859056-04bc-45b7-b8fd-e0cc482f4369\n",
      "Sound saved to 75644.mp3\n",
      "error encountered, skipping...\n",
      "error encountered, skipping...\n",
      "error encountered, skipping...\n",
      "https://www.artic.edu/assets/8bf66aeb-8d3b-d5fc-512d-c3e8a72cf5b9\n",
      "Sound saved to 76571.mp3\n",
      "error encountered, skipping...\n",
      "error encountered, skipping...\n",
      "error encountered, skipping...\n",
      "error encountered, skipping...\n",
      "https://www.artic.edu/assets/026ed58d-514e-2390-7481-11e12b882e60\n",
      "Sound saved to 80084.mp3\n",
      "error encountered, skipping...\n",
      "https://www.artic.edu/assets/93ef1856-57cd-b0d6-77c5-0638c68ec823\n",
      "Sound saved to 80607.mp3\n",
      "error encountered, skipping...\n",
      "https://www.artic.edu/assets/d2ed5dfc-ff69-0fcb-aebe-4a69adba8901\n",
      "Sound saved to 81558.mp3\n",
      "error encountered, skipping...\n",
      "https://www.artic.edu/assets/04eb8dbe-c9b6-017c-6734-51998699f4f4\n",
      "Sound saved to 84709.mp3\n",
      "error encountered, skipping...\n",
      "error encountered, skipping...\n",
      "error encountered, skipping...\n",
      "https://www.artic.edu/assets/031e5d5f-5a02-7dc4-faba-5f46a7914039\n",
      "Sound saved to 87479.mp3\n",
      "https://www.artic.edu/assets/c9f9d6c0-a964-6839-dd7e-0ed3ecdf7f7d\n",
      "Sound saved to 87643.mp3\n",
      "https://www.artic.edu/assets/2a522a02-4caa-e5b7-0862-44f5af34a4c1\n",
      "Sound saved to 88724.mp3\n",
      "error encountered, skipping...\n",
      "error encountered, skipping...\n",
      "error encountered, skipping...\n",
      "error encountered, skipping...\n",
      "error encountered, skipping...\n",
      "error encountered, skipping...\n"
     ]
    },
    {
     "name": "stdout",
     "output_type": "stream",
     "text": [
      "https://www.artic.edu/assets/c278a88c-7e83-7a8e-7b35-6739f1014b46\n",
      "Sound saved to 93900.mp3\n",
      "https://www.artic.edu/assets/cbcafdef-b2aa-1efa-d634-e23d3febfec9\n",
      "Sound saved to 95998.mp3\n",
      "https://www.artic.edu/assets/3f30d0f8-f77c-06af-4adc-14078b397e1f\n",
      "Sound saved to 97910.mp3\n",
      "https://www.artic.edu/assets/04d3cbdd-415b-76ea-18b9-178cc683d620\n",
      "Sound saved to 97916.mp3\n",
      "error encountered, skipping...\n",
      "error encountered, skipping...\n",
      "error encountered, skipping...\n",
      "error encountered, skipping...\n",
      "https://www.artic.edu/assets/37f1444f-6c1f-dde3-98fe-dece769ff35d\n",
      "Sound saved to 102591.mp3\n",
      "https://www.artic.edu/assets/7fcd707c-97e9-67b2-07f6-9f8d7a96d9cd\n",
      "Sound saved to 102611.mp3\n",
      "https://www.artic.edu/assets/bebc4218-ec27-d5e5-3755-3ab79420a5d1\n",
      "Sound saved to 103347.mp3\n",
      "error encountered, skipping...\n",
      "error encountered, skipping...\n",
      "error encountered, skipping...\n",
      "error encountered, skipping...\n",
      "https://www.artic.edu/assets/34302929-1430-aa1c-8cca-23d94444ba2d\n",
      "Sound saved to 105105.mp3\n",
      "error encountered, skipping...\n",
      "error encountered, skipping...\n",
      "error encountered, skipping...\n",
      "error encountered, skipping...\n",
      "https://www.artic.edu/assets/3893321d-bc75-6bdf-c3cc-00845216a781\n",
      "Sound saved to 109926.mp3\n",
      "https://www.artic.edu/assets/b4c42dee-ae15-3771-fc33-85b761e07b9f\n",
      "Sound saved to 110507.mp3\n",
      "https://www.artic.edu/assets/0c018a68-d717-e509-56cf-61adc02221e4\n",
      "Sound saved to 110663.mp3\n",
      "error encountered, skipping...\n",
      "error encountered, skipping...\n",
      "https://www.artic.edu/assets/0b2a5b4d-1440-2594-26f9-5eb0773097ea\n",
      "Sound saved to 111317.mp3\n",
      "https://www.artic.edu/assets/5d4e951a-d51a-99f5-1c90-6029ab967a91\n",
      "Sound saved to 111377.mp3\n",
      "https://www.artic.edu/assets/fb2b36b4-ff08-7acf-cbae-8a15b1f97ef2\n",
      "Sound saved to 111380.mp3\n",
      "https://www.artic.edu/assets/c13bc0fd-b0ac-4c22-7a17-6436e0a13dfe\n",
      "Sound saved to 111436.mp3\n",
      "https://www.artic.edu/assets/250077c6-5410-0eca-c0fe-be8524b65ca9\n",
      "Sound saved to 111442.mp3\n",
      "https://www.artic.edu/assets/87603c0c-523c-32ab-aa0b-ff55a3e9fc3b\n",
      "Sound saved to 111559.mp3\n",
      "error encountered, skipping...\n",
      "https://www.artic.edu/assets/fa5e0458-1aa3-ccf4-7616-b933511fa5b1\n",
      "Sound saved to 111617.mp3\n",
      "error encountered, skipping...\n",
      "https://www.artic.edu/assets/5151ce4c-0c82-6ae2-ea64-3323faf4a508\n",
      "Sound saved to 120154.mp3\n",
      "error encountered, skipping...\n",
      "error encountered, skipping...\n",
      "error encountered, skipping...\n",
      "error encountered, skipping...\n",
      "https://www.artic.edu/assets/b5d83a9e-7880-30e1-5807-e217baff422c\n",
      "Sound saved to 144969.mp3\n",
      "error encountered, skipping...\n",
      "error encountered, skipping...\n",
      "https://www.artic.edu/assets/e255a50c-724f-6d2e-5c7b-0bf022ec9c91\n",
      "Sound saved to 146953.mp3\n",
      "error encountered, skipping...\n",
      "error encountered, skipping...\n",
      "error encountered, skipping...\n",
      "error encountered, skipping...\n",
      "error encountered, skipping...\n",
      "error encountered, skipping...\n",
      "https://www.artic.edu/assets/4411f8f2-9654-d3be-fa70-91b1b48233d7\n",
      "Sound saved to 153244.mp3\n",
      "https://www.artic.edu/assets/fd96c5e5-7f49-7bed-efd4-99220baabc90\n",
      "Sound saved to 154235.mp3\n",
      "https://www.artic.edu/assets/cb7b891c-5ccf-d182-b748-ca3974456137\n",
      "Sound saved to 154237.mp3\n",
      "error encountered, skipping...\n",
      "https://www.artic.edu/assets/43424c23-80e3-4ab7-6a81-d7540bcc30be\n",
      "Sound saved to 156442.mp3\n",
      "error encountered, skipping...\n",
      "error encountered, skipping...\n",
      "https://www.artic.edu/assets/02e0a011-1278-0c8f-4975-e73f9fbb9a96\n",
      "Sound saved to 159136.mp3\n",
      "error encountered, skipping...\n",
      "error encountered, skipping...\n",
      "https://www.artic.edu/assets/9c900774-ab97-52ce-bec9-25d3366833de\n",
      "Sound saved to 181145.mp3\n",
      "error encountered, skipping...\n",
      "error encountered, skipping...\n",
      "https://www.artic.edu/assets/5c8a9620-8557-f9f0-9760-8d755b430efd\n",
      "Sound saved to 184371.mp3\n",
      "https://www.artic.edu/assets/4e268279-199f-5b22-87e1-db2355bb6ab7\n",
      "Sound saved to 184672.mp3\n",
      "error encountered, skipping...\n",
      "error encountered, skipping...\n",
      "https://www.artic.edu/assets/783ac4f4-7716-7b75-0f19-ce33c5c20931\n",
      "Sound saved to 185651.mp3\n",
      "error encountered, skipping...\n",
      "error encountered, skipping...\n",
      "https://www.artic.edu/assets/b8ce2a12-37b5-60e7-a545-f894c8ecf0b8\n",
      "Sound saved to 186047.mp3\n",
      "error encountered, skipping...\n",
      "error encountered, skipping...\n",
      "https://www.artic.edu/assets/70dfcf82-21e9-d310-1b4e-3cd17fe9912a\n",
      "Sound saved to 189715.mp3\n",
      "error encountered, skipping...\n",
      "https://www.artic.edu/assets/e694a130-f9f9-d8e0-d06b-0c922636f6df\n",
      "Sound saved to 193664.mp3\n",
      "error encountered, skipping...\n",
      "error encountered, skipping...\n",
      "error encountered, skipping...\n",
      "error encountered, skipping...\n"
     ]
    }
   ],
   "source": [
    "for index, value in public_df.iterrows():\n",
    "    id = public_df.loc[index]['id']\n",
    "    try:\n",
    "        identifier = public_df.loc[index]['sound_ids'][0]\n",
    "        url = f'https://api.artic.edu/api/v1/sounds/{identifier}'\n",
    "        response = requests.get(url)\n",
    "\n",
    "        if response.ok:\n",
    "            json_data = response.json()\n",
    "            content_uri = json_data['data']['content']\n",
    "            print(content_uri)\n",
    "            filename = f'{id}.mp3'\n",
    "            full_path = os.path.join(folder_path, filename)\n",
    "            with open(full_path, 'wb') as f:\n",
    "                f.write(requests.get(content_uri).content)\n",
    "\n",
    "            print(f'Sound saved to {filename}')\n",
    "        else:\n",
    "            print(f'Request failed with status code {response.status_code}')\n",
    "\n",
    "    except:\n",
    "        print('error encountered, skipping...')\n",
    "        continue\n",
    "    \n",
    "    time.sleep(1)"
   ]
  }
 ],
 "metadata": {
  "kernelspec": {
   "display_name": "Python 3 (ipykernel)",
   "language": "python",
   "name": "python3"
  },
  "language_info": {
   "codemirror_mode": {
    "name": "ipython",
    "version": 3
   },
   "file_extension": ".py",
   "mimetype": "text/x-python",
   "name": "python",
   "nbconvert_exporter": "python",
   "pygments_lexer": "ipython3",
   "version": "3.10.6"
  },
  "toc": {
   "base_numbering": 1,
   "nav_menu": {},
   "number_sections": true,
   "sideBar": true,
   "skip_h1_title": false,
   "title_cell": "Table of Contents",
   "title_sidebar": "Contents",
   "toc_cell": false,
   "toc_position": {},
   "toc_section_display": true,
   "toc_window_display": false
  }
 },
 "nbformat": 4,
 "nbformat_minor": 5
}
